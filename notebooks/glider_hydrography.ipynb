{
 "cells": [
  {
   "cell_type": "markdown",
   "metadata": {},
   "source": [
    "# Hydrography\n",
    "-----------------\n",
    "This notebook explores the hydrographic data from the glider, with a focus on asepcts that are germane to ADCP processing. These include:\n",
    "- Dive average current\n",
    "- Geostrophic current\n",
    "- Sound speed estimates\n",
    "- Depth of pycnocline and other interfaces commonly associated with velocity shear\n",
    "- Water mass identification"
   ]
  },
  {
   "cell_type": "code",
   "execution_count": null,
   "metadata": {},
   "outputs": [],
   "source": [
    "import sys\n",
    "import numpy as np\n",
    "import pandas as pd\n",
    "import xarray as xr\n",
    "import copy\n",
    "import seaborn as sns\n",
    "import matplotlib.pyplot as plt\n",
    "from matplotlib import style\n",
    "from netCDF4 import Dataset\n",
    "from pathlib import Path\n",
    "from datetime import datetime, timedelta\n",
    "notebook_dir = !pwd # Replace with !echo %cd% if using windows\n",
    "library_dir = Path(notebook_dir[0]).parent.absolute()\n",
    "sys.path.append(str(library_dir))\n",
    "data_raw_path = library_dir / 'data' / 'raw' / 'adcp'\n",
    "glider_raw_path = library_dir / 'data' / 'raw' / 'glider'\n",
    "fig_path = library_dir / 'reports' / 'figures'\n",
    "from src.data.adcp_mission_analysis import read_glider_nc, edgetocentre\n",
    "\n",
    "style_path = library_dir / 'src' / 'visualization' / 'presentation.mplstyle'\n",
    "style.use(str(style_path))\n",
    "\n",
    "\n",
    "def savefig(figname, extension=\"png\"):\n",
    "    plt.savefig(\n",
    "        fig_path / str(figname + \".\" + extension),\n",
    "        format=extension,\n",
    "        dpi=\"figure\",\n",
    "        bbox_inches=\"tight\",\n",
    "    )\n",
    "\n"
   ]
  },
  {
   "cell_type": "code",
   "execution_count": null,
   "metadata": {},
   "outputs": [],
   "source": [
    "glider_df = read_glider_nc(glider_raw_path / 'sg637_var_by_var_timeseries.nc')\n",
    "#glider_df = read_glider_nc(glider_raw_path / 'sg637_flag_all_timeseries.nc')"
   ]
  },
  {
   "cell_type": "code",
   "execution_count": null,
   "metadata": {},
   "outputs": [],
   "source": [
    "glider_df.salinity[glider_df.salinity<34.5] = np.nan\n",
    "glider_df.salinity[glider_df.salinity>37.5] = np.nan\n",
    "glider_df.abs_salinity[np.isnan(glider_df.salinity)] = np.nan\n",
    "glider_df.conductivity[np.isnan(glider_df.salinity)] = np.nan"
   ]
  },
  {
   "cell_type": "code",
   "execution_count": null,
   "metadata": {},
   "outputs": [],
   "source": [
    "np.nansum(np.isnan(glider_df.abs_salinity.values))"
   ]
  },
  {
   "cell_type": "code",
   "execution_count": null,
   "metadata": {},
   "outputs": [],
   "source": [
    "origin  = [-57.338, 14.182]\n",
    "deg_lat = 110649\n",
    "glider_df['x'] = (glider_df.lon - origin[0]) * deg_lat * np.cos(np.deg2rad(origin[1]))\n",
    "glider_df['y'] = (glider_df.lat - origin[1]) * deg_lat"
   ]
  },
  {
   "cell_type": "code",
   "execution_count": null,
   "metadata": {},
   "outputs": [],
   "source": [
    "glider_av_df = glider_df.groupby('dive', as_index=False).median()"
   ]
  },
  {
   "cell_type": "code",
   "execution_count": null,
   "metadata": {},
   "outputs": [],
   "source": [
    "glider_av_df.describe()"
   ]
  },
  {
   "cell_type": "code",
   "execution_count": null,
   "metadata": {},
   "outputs": [],
   "source": [
    "glider_av_df['glider_time'] = ''\n",
    "noot = []\n",
    "for dive in glider_av_df.dive:\n",
    "    df = glider_df[glider_df.dive==dive]\n",
    "    noot.append((df.glider_time - df.glider_time.min()).mean() + df.glider_time.min())\n",
    "glider_av_df['glider_time'] = noot"
   ]
  },
  {
   "cell_type": "code",
   "execution_count": null,
   "metadata": {},
   "outputs": [],
   "source": [
    "glider_av_df"
   ]
  },
  {
   "cell_type": "code",
   "execution_count": null,
   "metadata": {},
   "outputs": [],
   "source": [
    "box_size = 1000\n",
    "lon_edges = np.arange(-8000, 9000, box_size)\n",
    "lat_edges = np.arange(-8000, 9000, box_size)\n",
    "dives_in = np.empty((len(lon_edges), len(lat_edges)))\n",
    "dives_in[:] = np.nan\n",
    "for i in range(len(lon_edges[:-1])):\n",
    "    glider_x_in = glider_av_df[np.logical_and(glider_av_df.x>lon_edges[i], glider_av_df.x<lon_edges[i+1])]\n",
    "    for j in range(len(lat_edges[:-1])):\n",
    "        glider_in = glider_x_in[np.logical_and(glider_x_in.y>lat_edges[j], glider_x_in.y<lat_edges[j+1])]\n",
    "        dives_in[j,i] = len(glider_in)"
   ]
  },
  {
   "cell_type": "markdown",
   "metadata": {},
   "source": [
    "### Geographical location of glider dives\n",
    "\n",
    "Here we plot the locations of the glider dives. This is the average of glider lon and lat for each dive, converted to distance from the central waypoint"
   ]
  },
  {
   "cell_type": "code",
   "execution_count": null,
   "metadata": {},
   "outputs": [],
   "source": [
    "fig, ax = plt.subplots(figsize=[10,10])\n",
    "ax.scatter(glider_av_df.x/1000, glider_av_df.y/1000)\n",
    "ax.set(xlim=[-8, 8], ylim=[-8, 8], xlabel='Zonal distance from central waypoint (km)', ylabel='Meridional distance from central waypoint (km)')"
   ]
  },
  {
   "cell_type": "markdown",
   "metadata": {},
   "source": [
    "As above for the density of glider dives in each 1 km square box"
   ]
  },
  {
   "cell_type": "code",
   "execution_count": null,
   "metadata": {},
   "outputs": [],
   "source": [
    "fig, ax = plt.subplots(figsize=[12,10])\n",
    "c = ax.pcolor(lon_edges/1000, lat_edges/1000,dives_in, cmap='Blues')\n",
    "ax.set(xlabel='Zonal distance from center (km)', ylabel='Meridional distance from center (km)')\n",
    "fig.colorbar(c, ax=ax, label='Number of dives in 1km square box')\n",
    "savefig('Dive_concentration')\n"
   ]
  },
  {
   "cell_type": "markdown",
   "metadata": {},
   "source": [
    "The maximum distance between two glider dives is 15 km. At 14 degrees north of the equator in a water depth of several km, the approximation of a virtual mooring seems appropriate. "
   ]
  },
  {
   "cell_type": "markdown",
   "metadata": {},
   "source": [
    "Plotting the variation of dive average current during the deployment. These are coloured by heading. "
   ]
  },
  {
   "cell_type": "code",
   "execution_count": null,
   "metadata": {},
   "outputs": [],
   "source": [
    "fig, ax = plt.subplots(2,1,figsize=(16,14), sharex=True)\n",
    "ax = ax.ravel()\n",
    "ax[0].scatter(glider_av_df.glider_time, glider_av_df.DAC_u, c=glider_av_df.heading)\n",
    "ax[1].scatter(glider_av_df.glider_time, glider_av_df.DAC_v, c=glider_av_df.heading)\n",
    "ax[0].set(ylabel='DAC u $(\\mathrm{m\\ s^{-1}})$', ylim=[-0.2, 0.2])\n",
    "ax[1].set(ylabel='DAC v $(\\mathrm{m\\ s^{-1}})$', xlim = [glider_av_df.glider_time[0]- timedelta(days=1), glider_av_df.glider_time.iloc[-1]+ timedelta(days=1)], ylim=[-0.2, 0.2])\n",
    "savefig('DAC_by_dive_bearing')"
   ]
  },
  {
   "cell_type": "markdown",
   "metadata": {},
   "source": [
    "Two patterns are apparent, the long term change in current speed and direction and a short term signal, more obvious in the u component, that shows a dependency on heading. This is a sign of a poorly calibrated compass"
   ]
  },
  {
   "cell_type": "code",
   "execution_count": null,
   "metadata": {},
   "outputs": [],
   "source": [
    "def cart2pol(x, y):\n",
    "    rho = np.sqrt(x**2 + y**2)\n",
    "    phi = np.arctan2(x, y)\n",
    "    deg = (180/np.pi)*phi\n",
    "    if deg<0:\n",
    "        deg = 360+deg\n",
    "    return(rho, deg)\n",
    "cart2pol=np.vectorize(cart2pol)"
   ]
  },
  {
   "cell_type": "code",
   "execution_count": null,
   "metadata": {},
   "outputs": [],
   "source": [
    "glider_av_df['current_speed'], glider_av_df['current_bearing'] = cart2pol(glider_av_df.DAC_u, glider_av_df.DAC_v)"
   ]
  },
  {
   "cell_type": "markdown",
   "metadata": {},
   "source": [
    "Plotting current speed and direction shows a switch around 5th February. There is nothing in the glider logs around this time. The compass calibration was performed on January 29."
   ]
  },
  {
   "cell_type": "code",
   "execution_count": null,
   "metadata": {},
   "outputs": [],
   "source": [
    "fig, ax = plt.subplots(2,1,figsize=(16,14), sharex=True)\n",
    "ax = ax.ravel()\n",
    "ax[0].scatter(glider_av_df.glider_time, glider_av_df.current_speed, c=glider_av_df.heading, vmin=0, vmax=360)\n",
    "scat = ax[1].scatter(glider_av_df.glider_time, glider_av_df.current_bearing, c=glider_av_df.heading, vmin=0, vmax=360)\n",
    "ax[0].set(ylabel='Current speed $(\\mathrm{m\\ s^{-1}})$', ylim=[0, 0.3])\n",
    "ax[1].set(ylabel='Current bearing $(\\mathrm{m\\ s^{-1}})$', xlim = [glider_av_df.glider_time[0]- timedelta(days=1), glider_av_df.glider_time.iloc[-1]+ timedelta(days=1)], ylim=[0,360])\n",
    "sub_ax = plt.axes([0.62, 0.22, 0.2, 0.02])\n",
    "fig.colorbar(mappable=scat, orientation='horizontal',cax=sub_ax, label='glider heading')\n",
    "#savefig('current_heading')"
   ]
  },
  {
   "cell_type": "code",
   "execution_count": null,
   "metadata": {},
   "outputs": [],
   "source": [
    "fig, ax = plt.subplots( figsize=(15,15))\n",
    "ax.scatter(glider_df.abs_salinity, glider_df.temp, c=glider_df.glider_time, s = 1)\n",
    "\n"
   ]
  },
  {
   "cell_type": "code",
   "execution_count": null,
   "metadata": {},
   "outputs": [],
   "source": []
  }
 ],
 "metadata": {
  "kernelspec": {
   "display_name": "Python 3",
   "language": "python",
   "name": "python3"
  },
  "language_info": {
   "codemirror_mode": {
    "name": "ipython",
    "version": 3
   },
   "file_extension": ".py",
   "mimetype": "text/x-python",
   "name": "python",
   "nbconvert_exporter": "python",
   "pygments_lexer": "ipython3",
   "version": "3.7.3"
  }
 },
 "nbformat": 4,
 "nbformat_minor": 2
}

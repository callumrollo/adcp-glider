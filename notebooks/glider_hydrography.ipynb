{
 "cells": [
  {
   "cell_type": "markdown",
   "metadata": {},
   "source": [
    "# Hydrography\n",
    "-----------------\n",
    "This notebook explores the hydrographic data from the glider, with a focus on asepcts that are germane to ADCP processing. These include:\n",
    "- Dive average current\n",
    "- Geostrophic current\n",
    "- Sound speed estimates\n",
    "- Depth of pycnocline and other interfaces commonly associated with velocity shear\n",
    "- Water mass identification"
   ]
  },
  {
   "cell_type": "code",
   "execution_count": null,
   "metadata": {},
   "outputs": [],
   "source": [
    "import sys\n",
    "import numpy as np\n",
    "import pandas as pd\n",
    "import xarray as xr\n",
    "import copy\n",
    "import seaborn as sns\n",
    "import matplotlib.pyplot as plt\n",
    "from matplotlib import style\n",
    "from netCDF4 import Dataset\n",
    "from pathlib import Path\n",
    "import gsw\n",
    "import scipy.io\n",
    "from datetime import datetime, timedelta\n",
    "notebook_dir = !pwd # Replace with !echo %cd% if using windows\n",
    "library_dir = Path(notebook_dir[0]).parent.absolute()\n",
    "sys.path.append(str(library_dir))\n",
    "data_raw_path = library_dir / 'data' / 'raw' / 'adcp'\n",
    "glider_raw_path = library_dir / 'data' / 'raw' / 'glider'\n",
    "fig_path = library_dir / 'reports' / 'figures'\n",
    "from src.data.adcp_mission_analysis import read_glider_nc, edgetocentre, glidertimetoneat\n",
    "\n",
    "style_path = library_dir / 'src' / 'visualization' / 'presentation.mplstyle'\n",
    "style.use(str(style_path))\n",
    "\n",
    "\n",
    "def savefig(figname, extension=\"png\"):\n",
    "    plt.savefig(\n",
    "        fig_path / str(figname + \".\" + extension),\n",
    "        format=extension,\n",
    "        dpi=\"figure\",\n",
    "        bbox_inches=\"tight\",\n",
    "    )\n",
    "\n"
   ]
  },
  {
   "cell_type": "code",
   "execution_count": null,
   "metadata": {},
   "outputs": [],
   "source": [
    "glider_df = read_glider_nc(glider_raw_path / 'sg637_var_by_var_timeseries.nc')\n",
    "#glider_df = read_glider_nc(glider_raw_path / 'sg637_flag_all_timeseries.nc')"
   ]
  },
  {
   "cell_type": "markdown",
   "metadata": {},
   "source": [
    "Calculate sound speed"
   ]
  },
  {
   "cell_type": "code",
   "execution_count": null,
   "metadata": {},
   "outputs": [],
   "source": [
    "glider_df['sound_speed'] = gsw.sound_speed(glider_df.abs_salinity, glider_df.temp, glider_df.pressure)"
   ]
  },
  {
   "cell_type": "markdown",
   "metadata": {},
   "source": [
    "Propogate salinity flags across conductivity and density"
   ]
  },
  {
   "cell_type": "code",
   "execution_count": null,
   "metadata": {},
   "outputs": [],
   "source": [
    "glider_df.salinity[glider_df.salinity<34.5] = np.nan\n",
    "glider_df.salinity[glider_df.salinity>37.5] = np.nan\n",
    "glider_df.abs_salinity[np.isnan(glider_df.salinity)] = np.nan\n",
    "glider_df.conductivity[np.isnan(glider_df.salinity)] = np.nan\n",
    "glider_df.rho[np.isnan(glider_df.salinity)] = np.nan\n",
    "glider_df.sigma0[np.isnan(glider_df.salinity)] = np.nan\n",
    "glider_df.sound_speed[np.isnan(glider_df.salinity)] = np.nan\n"
   ]
  },
  {
   "cell_type": "code",
   "execution_count": null,
   "metadata": {},
   "outputs": [],
   "source": [
    "np.nansum(np.isnan(glider_df.abs_salinity.values))"
   ]
  },
  {
   "cell_type": "code",
   "execution_count": null,
   "metadata": {},
   "outputs": [],
   "source": [
    "origin  = [-57.338, 14.182]\n",
    "deg_lat = 110649\n",
    "glider_df['x'] = (glider_df.lon - origin[0]) * deg_lat * np.cos(np.deg2rad(origin[1]))\n",
    "glider_df['y'] = (glider_df.lat - origin[1]) * deg_lat"
   ]
  },
  {
   "cell_type": "code",
   "execution_count": null,
   "metadata": {},
   "outputs": [],
   "source": [
    "glider_av_df = glider_df.groupby('dive', as_index=False).median()"
   ]
  },
  {
   "cell_type": "code",
   "execution_count": null,
   "metadata": {},
   "outputs": [],
   "source": [
    "glider_av_df.describe()"
   ]
  },
  {
   "cell_type": "code",
   "execution_count": null,
   "metadata": {},
   "outputs": [],
   "source": [
    "def glider_kongsberg_add(glider_df, kberg_dir):\n",
    "    nc_paths = sorted(kberg_dir.rglob(\"p*.nc\"))\n",
    "    drift_u, drift_v, drift_e, dac_u, dac_v, dac_e = [], [], [], [], [], []\n",
    "    for path in nc_paths:\n",
    "        nc = xr.open_dataset(path)\n",
    "        drift_u.append(nc.surface_curr_east.values)\n",
    "        drift_v.append(nc.surface_curr_north.values)\n",
    "        drift_e.append(nc.surface_curr_error.values)\n",
    "        dac_u.append(nc.depth_avg_curr_east.values)\n",
    "        dac_v.append(nc.depth_avg_curr_north.values)\n",
    "        dac_e.append(nc.depth_avg_curr_error.values)\n",
    "    for variable in [drift_u, drift_v, drift_e, dac_u, dac_v, dac_e]:\n",
    "        glider_df[str(variable)] = variable\n",
    "    return glider_df\n"
   ]
  },
  {
   "cell_type": "code",
   "execution_count": null,
   "metadata": {},
   "outputs": [],
   "source": [
    "nc = xr.open_dataset( Path('/media/callum/storage/Documents/Eureka/data/glider/sg579/sg579_EUREC4A_timeseries.nc'))"
   ]
  },
  {
   "cell_type": "code",
   "execution_count": null,
   "metadata": {},
   "outputs": [],
   "source": [
    "glider_av_df['glider_time'] = ''\n",
    "noot = []\n",
    "for dive in glider_av_df.dive:\n",
    "    df = glider_df[glider_df.dive==dive]\n",
    "    noot.append((df.glider_time - df.glider_time.min()).mean() + df.glider_time.min())\n",
    "glider_av_df['glider_time'] = noot"
   ]
  },
  {
   "cell_type": "code",
   "execution_count": null,
   "metadata": {},
   "outputs": [],
   "source": [
    "glider_av_df"
   ]
  },
  {
   "cell_type": "code",
   "execution_count": null,
   "metadata": {},
   "outputs": [],
   "source": [
    "box_size = 1000\n",
    "lon_edges = np.arange(-8000, 9000, box_size)\n",
    "lat_edges = np.arange(-8000, 9000, box_size)\n",
    "dives_in = np.empty((len(lon_edges), len(lat_edges)))\n",
    "dives_in[:] = np.nan\n",
    "for i in range(len(lon_edges[:-1])):\n",
    "    glider_x_in = glider_av_df[np.logical_and(glider_av_df.x>lon_edges[i], glider_av_df.x<lon_edges[i+1])]\n",
    "    for j in range(len(lat_edges[:-1])):\n",
    "        glider_in = glider_x_in[np.logical_and(glider_x_in.y>lat_edges[j], glider_x_in.y<lat_edges[j+1])]\n",
    "        dives_in[j,i] = len(glider_in)"
   ]
  },
  {
   "cell_type": "markdown",
   "metadata": {},
   "source": [
    "### Geographical location of glider dives\n",
    "\n",
    "Here we plot the locations of the glider dives. This is the average of glider lon and lat for each dive, converted to distance from the central waypoint"
   ]
  },
  {
   "cell_type": "code",
   "execution_count": null,
   "metadata": {},
   "outputs": [],
   "source": [
    "fig, ax = plt.subplots(figsize=[10,10])\n",
    "ax.scatter(glider_av_df.x/1000, glider_av_df.y/1000)\n",
    "ax.set(xlim=[-8, 8], ylim=[-8, 8], xlabel='Zonal distance from central waypoint (km)', ylabel='Meridional distance from central waypoint (km)')\n",
    "savefig('dive_locations')"
   ]
  },
  {
   "cell_type": "markdown",
   "metadata": {},
   "source": [
    "As above for the density of glider dives in each 1 km square box"
   ]
  },
  {
   "cell_type": "code",
   "execution_count": null,
   "metadata": {},
   "outputs": [],
   "source": [
    "fig, ax = plt.subplots(figsize=[12,10])\n",
    "c = ax.pcolor(lon_edges/1000, lat_edges/1000,dives_in, cmap='Blues')\n",
    "ax.set(xlabel='Zonal distance from center (km)', ylabel='Meridional distance from center (km)')\n",
    "fig.colorbar(c, ax=ax, label='Number of dives in 1km square box')\n",
    "savefig('Dive_concentration')\n"
   ]
  },
  {
   "cell_type": "markdown",
   "metadata": {},
   "source": [
    "The maximum distance between two glider dives is 15 km. At 14 degrees north of the equator in a water depth of several km, the approximation of a virtual mooring seems appropriate. "
   ]
  },
  {
   "cell_type": "markdown",
   "metadata": {},
   "source": [
    "Plotting the variation of dive average current during the deployment. These are coloured by heading. "
   ]
  },
  {
   "cell_type": "code",
   "execution_count": null,
   "metadata": {},
   "outputs": [],
   "source": [
    "fig, ax = plt.subplots(2,1,figsize=(16,14), sharex=True)\n",
    "ax = ax.ravel()\n",
    "ax[0].scatter(glider_av_df.glider_time, glider_av_df.DAC_u, c=glider_av_df.heading)\n",
    "scat = ax[1].scatter(glider_av_df.glider_time, glider_av_df.DAC_v, c=glider_av_df.heading)\n",
    "fig.autofmt_xdate()\n",
    "\n",
    "ax[0].set(ylabel='DAC u $(\\mathrm{m\\ s^{-1}})$', ylim=[-0.2, 0.2])\n",
    "ax[1].set(ylabel='DAC v $(\\mathrm{m\\ s^{-1}})$', xlim = [glider_av_df.glider_time[0]- timedelta(days=1), glider_av_df.glider_time.iloc[-1]+ timedelta(days=1)], ylim=[-0.2, 0.2])\n",
    "sub_ax = plt.axes([0.62, 0.82, 0.2, 0.02])\n",
    "fig.colorbar(mappable=scat, orientation='horizontal',cax=sub_ax, label='glider heading')\n",
    "savefig('DAC_by_dive_bearing')"
   ]
  },
  {
   "cell_type": "markdown",
   "metadata": {},
   "source": [
    "Two patterns are apparent, the long term change in current speed and direction and a short term signal, more obvious in the u component, that shows a dependency on heading. This is a sign of a poorly calibrated compass"
   ]
  },
  {
   "cell_type": "code",
   "execution_count": null,
   "metadata": {},
   "outputs": [],
   "source": [
    "def cart2pol(x, y):\n",
    "    rho = np.sqrt(x**2 + y**2)\n",
    "    phi = np.arctan2(x, y)\n",
    "    deg = (180/np.pi)*phi\n",
    "    if deg<0:\n",
    "        deg = 360+deg\n",
    "    return(rho, deg)\n",
    "cart2pol=np.vectorize(cart2pol)"
   ]
  },
  {
   "cell_type": "code",
   "execution_count": null,
   "metadata": {},
   "outputs": [],
   "source": [
    "glider_av_df['current_speed'], glider_av_df['current_bearing'] = cart2pol(glider_av_df.DAC_u, glider_av_df.DAC_v)"
   ]
  },
  {
   "cell_type": "markdown",
   "metadata": {},
   "source": [
    "Plotting current speed and direction shows a switch around 5th February. There is nothing in the glider logs around this time. The compass calibration was performed on January 29."
   ]
  },
  {
   "cell_type": "code",
   "execution_count": null,
   "metadata": {},
   "outputs": [],
   "source": [
    "fig, ax = plt.subplots(2,1,figsize=(16,14), sharex=True)\n",
    "ax = ax.ravel()\n",
    "ax[0].scatter(glider_av_df.glider_time, glider_av_df.current_speed, c=glider_av_df.heading, vmin=0, vmax=360)\n",
    "scat = ax[1].scatter(glider_av_df.glider_time, glider_av_df.current_bearing, c=glider_av_df.heading, vmin=0, vmax=360)\n",
    "ax[0].set(ylabel='Current speed $(\\mathrm{m\\ s^{-1}})$', ylim=[0, 0.3])\n",
    "ax[1].set(ylabel='Current bearing $(\\mathrm{m\\ s^{-1}})$', xlim = [glider_av_df.glider_time[0]- timedelta(days=1), glider_av_df.glider_time.iloc[-1]+ timedelta(days=1)], ylim=[0,360])\n",
    "sub_ax = plt.axes([0.62, 0.22, 0.2, 0.02])\n",
    "fig.colorbar(mappable=scat, orientation='horizontal',cax=sub_ax, label='glider heading')\n",
    "#savefig('current_heading')"
   ]
  },
  {
   "cell_type": "code",
   "execution_count": null,
   "metadata": {},
   "outputs": [],
   "source": [
    "fig, ax = plt.subplots( figsize=(10,10))\n",
    "ax.scatter(glider_df.abs_salinity, glider_df.temp, c=glider_df.glider_time, s = 1)\n",
    "ax.set(xlabel='Absolute salinity', ylabel='Conserative temperature')\n",
    "savefig('tempsal')\n"
   ]
  },
  {
   "cell_type": "markdown",
   "metadata": {},
   "source": [
    "Make a new data frame, averaging in depth bins"
   ]
  },
  {
   "cell_type": "code",
   "execution_count": null,
   "metadata": {},
   "outputs": [],
   "source": [
    "z_bin_size = 5\n",
    "z_centers = np.arange(-800+z_bin_size/2, 0, z_bin_size)\n",
    "z_centers\n",
    "noot = []\n",
    "for depth in glider_df.depth:\n",
    "    noot.append(np.abs(z_centers+depth).argmin())\n",
    "   \n",
    "glider_df['depth_bin']= noot"
   ]
  },
  {
   "cell_type": "code",
   "execution_count": null,
   "metadata": {},
   "outputs": [],
   "source": [
    "glider_z_av_df.abs_salinity.min()"
   ]
  },
  {
   "cell_type": "code",
   "execution_count": null,
   "metadata": {},
   "outputs": [],
   "source": [
    "glider_z_av_df = glider_df.groupby('depth_bin', as_index=False).median()"
   ]
  },
  {
   "cell_type": "code",
   "execution_count": null,
   "metadata": {},
   "outputs": [],
   "source": []
  },
  {
   "cell_type": "code",
   "execution_count": null,
   "metadata": {},
   "outputs": [],
   "source": [
    "glider_df['sound_speed'] = gsw.sound_speed(glider_df.abs_salinity, glider_df.temp, glider_df.pressure)\n",
    "fix_sal = np.empty((len(glider_z_av_df.index)))\n",
    "fix_sal[:] = 35\n",
    "sound_speed_adcp = gsw.sound_speed(fix_sal, glider_z_av_df.temp, glider_z_av_df.pressure)\n",
    "fix_sal[:] = glider_z_av_df.abs_salinity.min()\n",
    "sound_speed_min_sal = gsw.sound_speed(fix_sal, glider_z_av_df.temp, glider_z_av_df.pressure)\n",
    "fix_sal[:] = glider_z_av_df.abs_salinity.max()\n",
    "sound_speed_max_sal = gsw.sound_speed(fix_sal, glider_z_av_df.temp, glider_z_av_df.pressure)\n"
   ]
  },
  {
   "cell_type": "code",
   "execution_count": null,
   "metadata": {},
   "outputs": [],
   "source": [
    "fig,ax = plt.subplots(figsize=(8,8))\n",
    "ax.plot(glider_z_av_df.sound_speed, -glider_z_av_df.depth, label='From glider measurements')\n",
    "ax.plot(sound_speed_adcp, -glider_z_av_df.depth, label='Used by ADCP')\n",
    "#ax.plot(sound_speed_min_sal, -glider_z_av_df.depth, label='Calculted with minimum observed salinity')\n",
    "#ax.plot(sound_speed_max_sal, -glider_z_av_df.depth, label='Calculted with maximum oberved salinity')\n",
    "ax.set(xlabel='Speed of sound (m/s)', ylabel='z (m)', ylim=[-760, 0])\n",
    "ax.legend()\n",
    "savefig('speed_of_sound')"
   ]
  },
  {
   "cell_type": "code",
   "execution_count": null,
   "metadata": {},
   "outputs": [],
   "source": [
    "glider_z_av_df['sound_speed_diff'] = np.abs(glider_z_av_df.sound_speed - sound_speed_adcp)\n",
    "glider_z_av_df['sound_speed_diff'].describe()"
   ]
  },
  {
   "cell_type": "markdown",
   "metadata": {},
   "source": [
    "### Difference between sound speed used by ADCP and observed in the water\n",
    "Average difference of 0.9 m/s (0.06%) with a maximum difference of 2.9 m/s (0.2 %)\n",
    "\n",
    "Taking these differnces as small realtive to the absolute values of sound speed observed and the accuracy of the ADCP, we consider this error in sound speed to be negligible"
   ]
  },
  {
   "cell_type": "code",
   "execution_count": null,
   "metadata": {},
   "outputs": [],
   "source": []
  },
  {
   "cell_type": "markdown",
   "metadata": {},
   "source": [
    "### importing the glider surfacings for drift calcualtion"
   ]
  },
  {
   "cell_type": "code",
   "execution_count": null,
   "metadata": {},
   "outputs": [],
   "source": [
    "foo = scipy.io.loadmat('/media/callum/storage/Documents/foo/hero.mat')['proc_with_att']"
   ]
  },
  {
   "cell_type": "code",
   "execution_count": null,
   "metadata": {},
   "outputs": [],
   "source": [
    "gps_post_pre_dive = scipy.io.loadmat('/media/callum/storage/Documents/foo/gpspostpredive.mat')['foo']\n",
    "gps_post_dive = scipy.io.loadmat('/media/callum/storage/Documents/foo/gpspostdive.mat')['foo']\n",
    "gps_pre_dive = scipy.io.loadmat('/media/callum/storage/Documents/foo/gpspredive.mat')['foo']"
   ]
  },
  {
   "cell_type": "code",
   "execution_count": null,
   "metadata": {},
   "outputs": [],
   "source": [
    "gps_dives_df = pd.DataFrame({'lon_post_pre':gps_post_pre_dive[:,1], 'lat_post_pre':gps_post_pre_dive[:,0], 'time_post_pre':glidertimetoneat(gps_post_pre_dive[:,2])[1], 'lon_pre':gps_pre_dive[:,1], 'lat_pre':gps_pre_dive[:,0], 'time_pre':glidertimetoneat(gps_pre_dive[:,2])[1], 'lon_post':gps_post_dive[:,1], 'lat_post':gps_post_dive[:,0], 'time_post':glidertimetoneat(gps_post_dive[:,2])[1]}, index=None)"
   ]
  },
  {
   "cell_type": "markdown",
   "metadata": {},
   "source": [
    "Calculate the drift time fro eac surfacing and, from that, the surface drift velocity"
   ]
  },
  {
   "cell_type": "code",
   "execution_count": null,
   "metadata": {},
   "outputs": [],
   "source": [
    "time_drift = gps_dives_df_dt.time_pre - gps_dives_df_dt.time_post_pre\n",
    "time_list = []\n",
    "for time_point in time_drift:\n",
    "    time_list.append(time_point.seconds)\n",
    "gps_dives_df['drift_seconds'] = time_list"
   ]
  },
  {
   "cell_type": "code",
   "execution_count": null,
   "metadata": {},
   "outputs": [],
   "source": [
    "gps_dives_df['drift_u'] = ((gps_dives_df.lon_pre-gps_dives_df.lon_post_pre)* deg_lat * np.cos(np.deg2rad(origin[1])))/gps_dives_df.drift_seconds\n",
    "gps_dives_df['drift_v'] = ((gps_dives_df.lat_pre-gps_dives_df.lat_post_pre)* deg_lat)/gps_dives_df.drift_seconds"
   ]
  },
  {
   "cell_type": "code",
   "execution_count": null,
   "metadata": {},
   "outputs": [],
   "source": [
    "gps_dives_df.describe()"
   ]
  },
  {
   "cell_type": "code",
   "execution_count": null,
   "metadata": {},
   "outputs": [],
   "source": [
    "fig,ax = plt.subplots(2,1,sharex=True,figsize=(14,12))\n",
    "ax = ax.ravel()\n",
    "ax[0].scatter(gps_dives_df.time_post_pre,gps_dives_df.drift_u)\n",
    "ax[1].scatter(gps_dives_df.time_post_pre, gps_dives_df.drift_v)\n",
    "#ax[0].scatter(gps_dives_df.time_pre,gps_dives_df.lon_pre)\n",
    "ax[0].set(xlim=[datetime(2020,1,23), datetime(2020,2,18)], ylim=[-0.5, 0.5],ylabel='Zonal drift speed (m/s)')\n",
    "ax[1].set(ylim=[-0.5, 0.5],ylabel='Meridional drift speed (m/s)')\n",
    "fig.autofmt_xdate()\n",
    "savefig('surface_drift_speed')"
   ]
  },
  {
   "cell_type": "code",
   "execution_count": null,
   "metadata": {},
   "outputs": [],
   "source": [
    "fig,ax = plt.subplots(2,1,sharex=True,figsize=(14,12))\n",
    "ax = ax.ravel()\n",
    "ax[0].scatter(gps_dives_df.time_post_pre,(gps_dives_df.lon_pre-gps_dives_df.lon_post_pre)* deg_lat * np.cos(np.deg2rad(origin[1])))\n",
    "ax[1].scatter(gps_dives_df.time_post_pre,(gps_dives_df.lat_pre-gps_dives_df.lat_post_pre)* deg_lat)\n",
    "#ax[0].scatter(gps_dives_df.time_pre,gps_dives_df.lon_pre)\n",
    "ax[0].set(xlim=[datetime(2020,1,23), datetime(2020,2,18)], ylim=[-300, 300],ylabel='Zonal drift distance (m)')\n",
    "ax[1].set(ylim=[-300, 300],ylabel='Meridional drift distance (m)')\n",
    "fig.autofmt_xdate()\n",
    "savefig('surface_drift_distance')"
   ]
  },
  {
   "cell_type": "code",
   "execution_count": null,
   "metadata": {},
   "outputs": [],
   "source": [
    "fig,ax = plt.subplots(figsize=(14,12))\n",
    "ax.quiver(gps_dives_df.lon_pre, gps_dives_df.lat_pre, gps_dives_df.drift_u, gps_dives_df.drift_v)\n",
    "savefig('surface_drift_bowtie')"
   ]
  }
 ],
 "metadata": {
  "kernelspec": {
   "display_name": "Python 3",
   "language": "python",
   "name": "python3"
  },
  "language_info": {
   "codemirror_mode": {
    "name": "ipython",
    "version": 3
   },
   "file_extension": ".py",
   "mimetype": "text/x-python",
   "name": "python",
   "nbconvert_exporter": "python",
   "pygments_lexer": "ipython3",
   "version": "3.7.3"
  }
 },
 "nbformat": 4,
 "nbformat_minor": 2
}

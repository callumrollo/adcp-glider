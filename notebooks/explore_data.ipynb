{
 "cells": [
  {
   "cell_type": "markdown",
   "metadata": {},
   "source": [
    "### First add the data functions to the path"
   ]
  },
  {
   "cell_type": "code",
   "execution_count": 1,
   "metadata": {
    "pycharm": {
     "name": "#%%\n"
    }
   },
   "outputs": [],
   "source": [
    "import sys\n",
    "import numpy as np\n",
    "import pandas as pd\n",
    "import xarray as xr\n",
    "import copy\n",
    "import seaborn as sns\n",
    "from netCDF4 import Dataset\n",
    "from pathlib import Path\n",
    "from datetime import datetime, timedelta\n",
    "notebook_dir = !pwd # Replace with !echo %cd% if using windows\n",
    "library_dir = Path(notebook_dir[0]).parent.absolute()\n",
    "sys.path.append(str(library_dir))\n",
    "data_raw_path = library_dir / 'data' / 'raw' / 'adcp'\n",
    "glider_raw_path = library_dir / 'data' / 'raw' / 'glider'\n",
    "fig_path = library_dir / 'reports' / 'figures'\n",
    "from src.data.adcp_mission_analysis import adcp_import_data, add_dive_averages, read_glider_nc, edgetocentre\n",
    "#from src.data.beam_mapping import beam2enu, beam_from_center, caltran\n",
    "\n",
    "def savefig(figname, extension=\"png\"):\n",
    "    plt.savefig(\n",
    "        fig_path / str(figname + \".\" + extension),\n",
    "        format=extension,\n",
    "        dpi=\"figure\",\n",
    "        bbox_inches=\"tight\",\n",
    "    )"
   ]
  },
  {
   "cell_type": "markdown",
   "metadata": {},
   "source": [
    "Use better plotting defaults"
   ]
  },
  {
   "cell_type": "code",
   "execution_count": 2,
   "metadata": {
    "pycharm": {
     "name": "#%%\n"
    }
   },
   "outputs": [],
   "source": [
    "import matplotlib.pyplot as plt\n",
    "from matplotlib import style\n",
    "style_path = library_dir / 'src' / 'visualization' / 'presentation.mplstyle'\n",
    "style.use(str(style_path))"
   ]
  },
  {
   "cell_type": "markdown",
   "metadata": {},
   "source": [
    "### Load the data into Python"
   ]
  },
  {
   "cell_type": "code",
   "execution_count": 3,
   "metadata": {
    "pycharm": {
     "name": "#%%\n"
    }
   },
   "outputs": [
    {
     "name": "stderr",
     "output_type": "stream",
     "text": [
      "/home/callum/anaconda3/envs/adcp-glider/lib/python3.7/site-packages/numpy/lib/nanfunctions.py:1115: RuntimeWarning: All-NaN slice encountered\n",
      "  overwrite_input=overwrite_input)\n",
      "/media/callum/storage/Documents/adcp-glider/src/data/adcp_mission_analysis.py:456: RuntimeWarning: Mean of empty slice\n",
      "  vel_referenced = vel - np.tile(np.nanmean(vel, 0) - ref_vel, (len(bin_centers), 1))\n"
     ]
    }
   ],
   "source": [
    "overview, mission_dict = adcp_import_data(data_raw_path)\n"
   ]
  },
  {
   "cell_type": "markdown",
   "metadata": {},
   "source": [
    "Add beam attributes. These are taken from the fifth cell (11.3 m from the glider on default settings) and averaged over each ascent/descent profile"
   ]
  },
  {
   "cell_type": "code",
   "execution_count": 4,
   "metadata": {
    "pycharm": {
     "name": "#%%\n"
    }
   },
   "outputs": [
    {
     "data": {
      "text/html": [
       "<div>\n",
       "<style scoped>\n",
       "    .dataframe tbody tr th:only-of-type {\n",
       "        vertical-align: middle;\n",
       "    }\n",
       "\n",
       "    .dataframe tbody tr th {\n",
       "        vertical-align: top;\n",
       "    }\n",
       "\n",
       "    .dataframe thead th {\n",
       "        text-align: right;\n",
       "    }\n",
       "</style>\n",
       "<table border=\"1\" class=\"dataframe\">\n",
       "  <thead>\n",
       "    <tr style=\"text-align: right;\">\n",
       "      <th></th>\n",
       "      <th>cor_beam_1</th>\n",
       "      <th>cor_beam_2</th>\n",
       "      <th>cor_beam_3</th>\n",
       "      <th>cor_beam_4</th>\n",
       "      <th>amp_beam_1</th>\n",
       "      <th>amp_beam_2</th>\n",
       "      <th>amp_beam_3</th>\n",
       "      <th>amp_beam_4</th>\n",
       "      <th>beam_miss</th>\n",
       "      <th>pitch</th>\n",
       "      <th>roll</th>\n",
       "      <th>heading</th>\n",
       "      <th>good_angle_5</th>\n",
       "      <th>good_angle_all</th>\n",
       "      <th>good_cor_5</th>\n",
       "      <th>good_cor_all</th>\n",
       "    </tr>\n",
       "  </thead>\n",
       "  <tbody>\n",
       "    <tr>\n",
       "      <th>0000a</th>\n",
       "      <td>NaN</td>\n",
       "      <td>3.266667</td>\n",
       "      <td>3.000000</td>\n",
       "      <td>3.400000</td>\n",
       "      <td>NaN</td>\n",
       "      <td>27.466667</td>\n",
       "      <td>27.100000</td>\n",
       "      <td>27.200000</td>\n",
       "      <td>3.095026</td>\n",
       "      <td>-46.674664</td>\n",
       "      <td>4.855333</td>\n",
       "      <td>127.181343</td>\n",
       "      <td>0.000000</td>\n",
       "      <td>0.000000</td>\n",
       "      <td>0.000000</td>\n",
       "      <td>0.000000</td>\n",
       "    </tr>\n",
       "    <tr>\n",
       "      <th>0001a</th>\n",
       "      <td>NaN</td>\n",
       "      <td>20.106383</td>\n",
       "      <td>16.425532</td>\n",
       "      <td>17.212766</td>\n",
       "      <td>NaN</td>\n",
       "      <td>29.670213</td>\n",
       "      <td>29.042553</td>\n",
       "      <td>29.351064</td>\n",
       "      <td>2.697399</td>\n",
       "      <td>-42.630852</td>\n",
       "      <td>4.440851</td>\n",
       "      <td>235.983398</td>\n",
       "      <td>6.382979</td>\n",
       "      <td>6.382979</td>\n",
       "      <td>16.879433</td>\n",
       "      <td>13.049645</td>\n",
       "    </tr>\n",
       "    <tr>\n",
       "      <th>0001b</th>\n",
       "      <td>46.821429</td>\n",
       "      <td>48.857143</td>\n",
       "      <td>NaN</td>\n",
       "      <td>46.321429</td>\n",
       "      <td>33.696429</td>\n",
       "      <td>33.294643</td>\n",
       "      <td>NaN</td>\n",
       "      <td>32.857143</td>\n",
       "      <td>1.875847</td>\n",
       "      <td>-12.929286</td>\n",
       "      <td>4.590000</td>\n",
       "      <td>184.708572</td>\n",
       "      <td>32.142857</td>\n",
       "      <td>5.357143</td>\n",
       "      <td>47.857143</td>\n",
       "      <td>36.428571</td>\n",
       "    </tr>\n",
       "    <tr>\n",
       "      <th>0002a</th>\n",
       "      <td>NaN</td>\n",
       "      <td>63.545455</td>\n",
       "      <td>62.800000</td>\n",
       "      <td>62.709091</td>\n",
       "      <td>NaN</td>\n",
       "      <td>34.881818</td>\n",
       "      <td>34.563636</td>\n",
       "      <td>34.345455</td>\n",
       "      <td>1.607731</td>\n",
       "      <td>-29.559093</td>\n",
       "      <td>5.614909</td>\n",
       "      <td>115.971268</td>\n",
       "      <td>40.000000</td>\n",
       "      <td>38.181818</td>\n",
       "      <td>66.545455</td>\n",
       "      <td>48.404040</td>\n",
       "    </tr>\n",
       "    <tr>\n",
       "      <th>0002b</th>\n",
       "      <td>88.183333</td>\n",
       "      <td>87.666667</td>\n",
       "      <td>NaN</td>\n",
       "      <td>86.350000</td>\n",
       "      <td>37.816667</td>\n",
       "      <td>37.258333</td>\n",
       "      <td>NaN</td>\n",
       "      <td>36.741667</td>\n",
       "      <td>0.898507</td>\n",
       "      <td>16.158834</td>\n",
       "      <td>5.542000</td>\n",
       "      <td>134.029495</td>\n",
       "      <td>60.000000</td>\n",
       "      <td>48.333333</td>\n",
       "      <td>92.555556</td>\n",
       "      <td>66.777778</td>\n",
       "    </tr>\n",
       "    <tr>\n",
       "      <th>...</th>\n",
       "      <td>...</td>\n",
       "      <td>...</td>\n",
       "      <td>...</td>\n",
       "      <td>...</td>\n",
       "      <td>...</td>\n",
       "      <td>...</td>\n",
       "      <td>...</td>\n",
       "      <td>...</td>\n",
       "      <td>...</td>\n",
       "      <td>...</td>\n",
       "      <td>...</td>\n",
       "      <td>...</td>\n",
       "      <td>...</td>\n",
       "      <td>...</td>\n",
       "      <td>...</td>\n",
       "      <td>...</td>\n",
       "    </tr>\n",
       "    <tr>\n",
       "      <th>0153b</th>\n",
       "      <td>96.581395</td>\n",
       "      <td>96.069767</td>\n",
       "      <td>NaN</td>\n",
       "      <td>95.697674</td>\n",
       "      <td>42.767442</td>\n",
       "      <td>42.116279</td>\n",
       "      <td>NaN</td>\n",
       "      <td>41.523256</td>\n",
       "      <td>0.777380</td>\n",
       "      <td>25.423719</td>\n",
       "      <td>2.500698</td>\n",
       "      <td>106.601860</td>\n",
       "      <td>83.720930</td>\n",
       "      <td>0.000000</td>\n",
       "      <td>99.379845</td>\n",
       "      <td>84.702842</td>\n",
       "    </tr>\n",
       "    <tr>\n",
       "      <th>0154a</th>\n",
       "      <td>NaN</td>\n",
       "      <td>92.705882</td>\n",
       "      <td>93.235294</td>\n",
       "      <td>94.705882</td>\n",
       "      <td>NaN</td>\n",
       "      <td>39.029412</td>\n",
       "      <td>40.470588</td>\n",
       "      <td>39.705882</td>\n",
       "      <td>1.549429</td>\n",
       "      <td>-26.010000</td>\n",
       "      <td>3.985883</td>\n",
       "      <td>35.480000</td>\n",
       "      <td>47.058824</td>\n",
       "      <td>5.882353</td>\n",
       "      <td>99.215686</td>\n",
       "      <td>74.248366</td>\n",
       "    </tr>\n",
       "    <tr>\n",
       "      <th>0154b</th>\n",
       "      <td>95.785714</td>\n",
       "      <td>95.142857</td>\n",
       "      <td>NaN</td>\n",
       "      <td>95.142857</td>\n",
       "      <td>41.714286</td>\n",
       "      <td>41.000000</td>\n",
       "      <td>NaN</td>\n",
       "      <td>40.642857</td>\n",
       "      <td>0.983536</td>\n",
       "      <td>24.104288</td>\n",
       "      <td>4.052857</td>\n",
       "      <td>97.740715</td>\n",
       "      <td>64.285714</td>\n",
       "      <td>0.000000</td>\n",
       "      <td>99.523810</td>\n",
       "      <td>82.222222</td>\n",
       "    </tr>\n",
       "    <tr>\n",
       "      <th>0155a</th>\n",
       "      <td>NaN</td>\n",
       "      <td>93.888889</td>\n",
       "      <td>91.925926</td>\n",
       "      <td>93.592593</td>\n",
       "      <td>NaN</td>\n",
       "      <td>39.648148</td>\n",
       "      <td>40.092593</td>\n",
       "      <td>39.000000</td>\n",
       "      <td>1.377177</td>\n",
       "      <td>-26.317038</td>\n",
       "      <td>4.590370</td>\n",
       "      <td>180.342194</td>\n",
       "      <td>33.333333</td>\n",
       "      <td>0.000000</td>\n",
       "      <td>99.506173</td>\n",
       "      <td>76.131687</td>\n",
       "    </tr>\n",
       "    <tr>\n",
       "      <th>0155b</th>\n",
       "      <td>94.800000</td>\n",
       "      <td>94.866667</td>\n",
       "      <td>NaN</td>\n",
       "      <td>94.066667</td>\n",
       "      <td>41.833333</td>\n",
       "      <td>41.033333</td>\n",
       "      <td>NaN</td>\n",
       "      <td>40.466667</td>\n",
       "      <td>1.125555</td>\n",
       "      <td>26.746002</td>\n",
       "      <td>3.936667</td>\n",
       "      <td>194.121338</td>\n",
       "      <td>46.666667</td>\n",
       "      <td>13.333333</td>\n",
       "      <td>98.222222</td>\n",
       "      <td>81.777778</td>\n",
       "    </tr>\n",
       "  </tbody>\n",
       "</table>\n",
       "<p>311 rows × 16 columns</p>\n",
       "</div>"
      ],
      "text/plain": [
       "       cor_beam_1  cor_beam_2  cor_beam_3  cor_beam_4  amp_beam_1  amp_beam_2  \\\n",
       "0000a         NaN    3.266667    3.000000    3.400000         NaN   27.466667   \n",
       "0001a         NaN   20.106383   16.425532   17.212766         NaN   29.670213   \n",
       "0001b   46.821429   48.857143         NaN   46.321429   33.696429   33.294643   \n",
       "0002a         NaN   63.545455   62.800000   62.709091         NaN   34.881818   \n",
       "0002b   88.183333   87.666667         NaN   86.350000   37.816667   37.258333   \n",
       "...           ...         ...         ...         ...         ...         ...   \n",
       "0153b   96.581395   96.069767         NaN   95.697674   42.767442   42.116279   \n",
       "0154a         NaN   92.705882   93.235294   94.705882         NaN   39.029412   \n",
       "0154b   95.785714   95.142857         NaN   95.142857   41.714286   41.000000   \n",
       "0155a         NaN   93.888889   91.925926   93.592593         NaN   39.648148   \n",
       "0155b   94.800000   94.866667         NaN   94.066667   41.833333   41.033333   \n",
       "\n",
       "       amp_beam_3  amp_beam_4  beam_miss      pitch      roll     heading  \\\n",
       "0000a   27.100000   27.200000   3.095026 -46.674664  4.855333  127.181343   \n",
       "0001a   29.042553   29.351064   2.697399 -42.630852  4.440851  235.983398   \n",
       "0001b         NaN   32.857143   1.875847 -12.929286  4.590000  184.708572   \n",
       "0002a   34.563636   34.345455   1.607731 -29.559093  5.614909  115.971268   \n",
       "0002b         NaN   36.741667   0.898507  16.158834  5.542000  134.029495   \n",
       "...           ...         ...        ...        ...       ...         ...   \n",
       "0153b         NaN   41.523256   0.777380  25.423719  2.500698  106.601860   \n",
       "0154a   40.470588   39.705882   1.549429 -26.010000  3.985883   35.480000   \n",
       "0154b         NaN   40.642857   0.983536  24.104288  4.052857   97.740715   \n",
       "0155a   40.092593   39.000000   1.377177 -26.317038  4.590370  180.342194   \n",
       "0155b         NaN   40.466667   1.125555  26.746002  3.936667  194.121338   \n",
       "\n",
       "       good_angle_5  good_angle_all  good_cor_5  good_cor_all  \n",
       "0000a      0.000000        0.000000    0.000000      0.000000  \n",
       "0001a      6.382979        6.382979   16.879433     13.049645  \n",
       "0001b     32.142857        5.357143   47.857143     36.428571  \n",
       "0002a     40.000000       38.181818   66.545455     48.404040  \n",
       "0002b     60.000000       48.333333   92.555556     66.777778  \n",
       "...             ...             ...         ...           ...  \n",
       "0153b     83.720930        0.000000   99.379845     84.702842  \n",
       "0154a     47.058824        5.882353   99.215686     74.248366  \n",
       "0154b     64.285714        0.000000   99.523810     82.222222  \n",
       "0155a     33.333333        0.000000   99.506173     76.131687  \n",
       "0155b     46.666667       13.333333   98.222222     81.777778  \n",
       "\n",
       "[311 rows x 16 columns]"
      ]
     },
     "execution_count": 4,
     "metadata": {},
     "output_type": "execute_result"
    }
   ],
   "source": [
    "beam_attrs, adcp_df = add_dive_averages(overview, mission_dict)\n",
    "beam_attrs\n",
    "# overview.join(beam_attrs)"
   ]
  },
  {
   "cell_type": "code",
   "execution_count": null,
   "metadata": {},
   "outputs": [],
   "source": [
    "adcp_df.head()"
   ]
  },
  {
   "cell_type": "markdown",
   "metadata": {},
   "source": [
    "Check that the data start when you expect. The first file in particular may have data from a previous sim dive or bench test. adapt the following cell to select the data starting on the correct day"
   ]
  },
  {
   "cell_type": "code",
   "execution_count": null,
   "metadata": {},
   "outputs": [],
   "source": [
    "# For this dataset, need to remove the data before 23 Jan they are from 2019 benchtests and 2020 sim dives\n",
    "adcp_df = adcp_df['2020-01-23':]"
   ]
  },
  {
   "cell_type": "code",
   "execution_count": null,
   "metadata": {},
   "outputs": [],
   "source": []
  },
  {
   "cell_type": "code",
   "execution_count": null,
   "metadata": {
    "pycharm": {
     "name": "#%%\n"
    }
   },
   "outputs": [],
   "source": [
    "beam_attrs.plot(subplots=True,figsize=(20,40),marker='o');\n",
    "savefig('beam_attributes')"
   ]
  },
  {
   "cell_type": "code",
   "execution_count": null,
   "metadata": {},
   "outputs": [],
   "source": [
    "len(np.arange(0,len(beam_attrs.index), 0.5)"
   ]
  },
  {
   "cell_type": "markdown",
   "metadata": {},
   "source": [
    "### Print some key QC parameters from each dive limb"
   ]
  },
  {
   "cell_type": "code",
   "execution_count": null,
   "metadata": {},
   "outputs": [],
   "source": [
    "fig, ax = plt.subplots(5,1, sharex=True, figsize=(14,15))\n",
    "ax = ax.ravel()\n",
    "ax[0].scatter(np.arange(0,len(beam_attrs.index)/2,0.5), beam_attrs.cor_beam_1, label='correlation (%)')\n",
    "ax[1].scatter(np.arange(0,len(beam_attrs.index)/2,0.5), beam_attrs.amp_beam_1, label='return amp (dB)')\n",
    "ax[2].scatter(np.arange(0,len(beam_attrs.index)/2,0.5), np.abs(beam_attrs.pitch), label='|pitch|')\n",
    "ax[3].scatter(np.arange(0,len(beam_attrs.index)/2,0.5), beam_attrs.roll, label='|roll|')\n",
    "ax[3].set(ylim = [0,15])\n",
    "ax[4].scatter(np.arange(0,len(beam_attrs.index)/2,0.5), beam_attrs.beam_miss, label='Beam miss (m)')\n",
    "ax[4].set(ylim = [0,2])\n",
    "for axi in ax:\n",
    "    axi.legend()\n",
    "savefig('beam_attrs_short')"
   ]
  },
  {
   "cell_type": "markdown",
   "metadata": {},
   "source": [
    "See which variables are correlated between the dive limbs"
   ]
  },
  {
   "cell_type": "code",
   "execution_count": null,
   "metadata": {
    "pycharm": {
     "name": "#%%\n"
    }
   },
   "outputs": [],
   "source": [
    "attr_corr = beam_attrs.corr()\n",
    "mask = np.triu(np.ones_like(attr_corr, dtype=np.bool))\n",
    "f, ax = plt.subplots(figsize=(20, 22))\n",
    "sns.heatmap(attr_corr, cmap='RdBu_r', vmin=-1,vmax=1, center=0,\n",
    "            square=True, linewidths=.5, cbar_kws={\"shrink\": .5})"
   ]
  },
  {
   "cell_type": "markdown",
   "metadata": {},
   "source": [
    "Load in glider attitude data for comparison with that from the ADCP"
   ]
  },
  {
   "cell_type": "code",
   "execution_count": null,
   "metadata": {
    "pycharm": {
     "name": "#%%\n"
    }
   },
   "outputs": [],
   "source": [
    "glider_df = read_glider_nc(glider_raw_path / 'sg637_var_by_var_timeseries.nc')\n",
    "glider_df"
   ]
  },
  {
   "cell_type": "code",
   "execution_count": null,
   "metadata": {},
   "outputs": [],
   "source": [
    "fig, ax = plt.subplots(figsize=(10,6))\n",
    "ax.scatter(glider_df.index, glider_df.pressure, label='glider', s=1)\n",
    "ax.scatter(adcp_df.index, adcp_df.pressure_ad, label='adcp', s=1)\n",
    "ax.set(xlim=[datetime(2020,1,24,0), datetime(2020,1,24,12)],ylim = [-10,750], ylabel='Pressure (dbar)')\n",
    "ax.legend()\n",
    "savefig('pressure_glider_vs_adcp')"
   ]
  },
  {
   "cell_type": "markdown",
   "metadata": {},
   "source": [
    "### Attitude comparison. A mismatch may indicate physcal misalignment of the glider and ADCP or a poor calibration of the accelerometers in either unit."
   ]
  },
  {
   "cell_type": "code",
   "execution_count": null,
   "metadata": {
    "pycharm": {
     "name": "#%%\n"
    }
   },
   "outputs": [],
   "source": [
    "fig, ax = plt.subplots(3,1,figsize=(20,26), sharex=True)\n",
    "ax = ax.ravel()\n",
    "ax[0].scatter(glider_df.index, glider_df.pitch, label='glider')\n",
    "ax[0].scatter(adcp_df.index, adcp_df.pitch_ad, label='adcp')\n",
    "ax[0].set(xlim=[datetime(2020,1,24,0), datetime(2020,1,24,12)], ylim=[-30,30], ylabel='Pitch')\n",
    "ax[1].scatter(glider_df.index, glider_df.roll)\n",
    "ax[1].scatter(adcp_df.index, adcp_df.roll_ad)\n",
    "ax[1].set(ylim=[-20,20], ylabel='Roll')\n",
    "ax[2].scatter(glider_df.index, glider_df.heading)\n",
    "ax[2].scatter(adcp_df.index, adcp_df.heading_ad)\n",
    "ax[2].set(ylim=[50,200], ylabel='Heading')\n",
    "ax[0].legend();\n",
    "savefig('attitude_glider_vs_adcp')"
   ]
  },
  {
   "cell_type": "code",
   "execution_count": null,
   "metadata": {},
   "outputs": [],
   "source": [
    "glider_av_df = glider_df.groupby('dive', as_index=False).mean()\n",
    "glider_av_df"
   ]
  },
  {
   "cell_type": "code",
   "execution_count": null,
   "metadata": {
    "pycharm": {
     "name": "#%%\n"
    }
   },
   "outputs": [],
   "source": [
    "fig, ax = plt.subplots(2,1,figsize=(16,14), sharex=True)\n",
    "ax = ax.ravel()\n",
    "ax[0].scatter(glider_av_df.dive_num, glider_av_df.DAC_u)\n",
    "ax[1].scatter(glider_av_df.dive_num, glider_av_df.DAC_v)\n",
    "ax[0].set(ylabel='DAC u $(\\mathrm{m\\ s^{-1}})$', ylim=[-0.2, 0.2])\n",
    "ax[1].set(ylabel='DAC v $(\\mathrm{m\\ s^{-1}})$', xlabel='Dive number', ylim=[-0.2, 0.2])\n",
    "savefig('DAC_by_dive')"
   ]
  },
  {
   "cell_type": "code",
   "execution_count": null,
   "metadata": {},
   "outputs": [],
   "source": [
    "fig, ax = plt.subplots(2,1,figsize=(16,14), sharex=True)\n",
    "ax = ax.ravel()\n",
    "ax[0].scatter(glider_av_df.heading, glider_av_df.DAC_u)\n",
    "ax[1].scatter(glider_av_df.heading, glider_av_df.DAC_v)\n",
    "ax[0].set(ylabel='DAC u $(\\mathrm{m\\ s^{-1}})$', ylim=[-0.2, 0.2])\n",
    "ax[1].set(ylabel='DAC v $(\\mathrm{m\\ s^{-1}})$', xlabel='Mean heading', ylim=[-0.2, 0.2], xlim=[0,360])\n",
    "savefig('DAC_by_heading')"
   ]
  },
  {
   "cell_type": "code",
   "execution_count": null,
   "metadata": {},
   "outputs": [],
   "source": [
    "dive_vel[:,1,0][:-1]"
   ]
  },
  {
   "cell_type": "code",
   "execution_count": null,
   "metadata": {},
   "outputs": [],
   "source": []
  },
  {
   "cell_type": "code",
   "execution_count": null,
   "metadata": {},
   "outputs": [],
   "source": [
    "dive = mission_dict['0041a']\n",
    "flagger = copy.deepcopy(dive.flag_bad_data)\n",
    "for cell in range(np.size(flagger,1)):\n",
    "    flagger[:,cell,:] = flagger[:,3,:]\n",
    "dive_vel = copy.deepcopy(dive.vel_xyz)\n",
    "dive_vel[:,1,0][:-1]"
   ]
  },
  {
   "cell_type": "code",
   "execution_count": null,
   "metadata": {},
   "outputs": [],
   "source": [
    "ax[0].scatter(-foo.glider_w_from_p,foo.vel_xyz[:,1,0][:-1], label='x')"
   ]
  },
  {
   "cell_type": "code",
   "execution_count": null,
   "metadata": {},
   "outputs": [],
   "source": [
    "dive_vel[:,cell,0]"
   ]
  },
  {
   "cell_type": "code",
   "execution_count": null,
   "metadata": {},
   "outputs": [],
   "source": [
    "mission_dict['0041b'].flag_bad_data[:,3,:]"
   ]
  },
  {
   "cell_type": "code",
   "execution_count": null,
   "metadata": {},
   "outputs": [],
   "source": [
    "sub_df = asc_df[asc_df.dive_no== 41.0]\n",
    "sub_df.describe()"
   ]
  },
  {
   "cell_type": "code",
   "execution_count": null,
   "metadata": {},
   "outputs": [],
   "source": [
    "des_df.describe()"
   ]
  },
  {
   "cell_type": "code",
   "execution_count": null,
   "metadata": {},
   "outputs": [],
   "source": [
    "asc_df.describe()"
   ]
  },
  {
   "cell_type": "code",
   "execution_count": null,
   "metadata": {},
   "outputs": [],
   "source": [
    "sub_df = asc_df[asc_df.dive_no== 41.0]\n",
    "sub_df.describe()asc_df.corr()"
   ]
  },
  {
   "cell_type": "code",
   "execution_count": null,
   "metadata": {},
   "outputs": [],
   "source": []
  },
  {
   "cell_type": "code",
   "execution_count": null,
   "metadata": {},
   "outputs": [],
   "source": []
  },
  {
   "cell_type": "code",
   "execution_count": null,
   "metadata": {},
   "outputs": [],
   "source": [
    "fig, ax = plt.subplots(1,2,figsize=(20,10), sharey=True)\n",
    "ax = ax.ravel()\n",
    "ax[0].scatter(-des_df.u, des_df.w_from_p, s = 0.5, label='Dive')\n",
    "ax[0].scatter(-asc_df.u, asc_df.w_from_p, s = 0.5, label='Climb')\n",
    "ax[0].set(xlim=[0, 0.6], ylim=[-0.3, 0.3], xlabel='Glider forward speed from ADCP', ylabel='Vertical speed from pressure')\n",
    "ax[0].legend()\n",
    "\n",
    "ax[1].scatter(-des_df.v, des_df.w_from_p, s = 0.5, label='Dive')\n",
    "ax[1].scatter(-asc_df.v, asc_df.w_from_p, s = 0.5, label='Climb')\n",
    "ax[1].set(xlim=[-0.2,0.2], ylim=[-0.3, 0.3], xlabel='Glider cross speed from ADCP')\n",
    "savefig('all_speed_pressure')\n"
   ]
  },
  {
   "cell_type": "code",
   "execution_count": null,
   "metadata": {},
   "outputs": [],
   "source": [
    "g = sns.jointplot(des_df.u, des_df.w_from_p, height=12, space=0, xlim=(-0.6, 0.0), ylim=(-0.3, -0.04))\n",
    "savefig('seaborn_den_scat')"
   ]
  },
  {
   "cell_type": "code",
   "execution_count": null,
   "metadata": {},
   "outputs": [],
   "source": [
    "g = sns.jointplot(asc_df.u, asc_df.w_from_p, kind=\"kde\", height=12, space=0, xlim=(-1, 0.2), ylim=(0.06, 0.14))"
   ]
  },
  {
   "cell_type": "code",
   "execution_count": null,
   "metadata": {},
   "outputs": [],
   "source": [
    "asc_df.corr()"
   ]
  },
  {
   "cell_type": "markdown",
   "metadata": {},
   "source": [
    "Plot the xyz velocites from one dive cycle. Upper panel dive, lower panel climb"
   ]
  },
  {
   "cell_type": "code",
   "execution_count": null,
   "metadata": {},
   "outputs": [],
   "source": [
    "foo = mission_dict['0061a']\n",
    "bar = mission_dict['0061b']"
   ]
  },
  {
   "cell_type": "markdown",
   "metadata": {},
   "source": [
    "Plot velocities beam by beam"
   ]
  },
  {
   "cell_type": "code",
   "execution_count": null,
   "metadata": {},
   "outputs": [],
   "source": [
    "v_lim = 0.3\n",
    "fig,ax = plt.subplots(3,2,figsize=(15,15), sharex='col', sharey='row')\n",
    "ax = ax.ravel()\n",
    "ax[0].scatter(foo.time,foo.vel_beam[:,0,0])#, c = foo.roll, cmap='RdBu', vmin=-5, vmax=5, s = 10)\n",
    "ax[1].scatter(bar.time,bar.vel_beam[:,0,0])#, c = bar.roll, cmap='RdBu', vmin=-5, vmax=5, s = 10)\n",
    "ax[2].scatter(foo.time,foo.vel_beam[:,0,1])#, c = foo.roll, cmap='RdBu', vmin=-5, vmax=5, s = 10)\n",
    "ax[3].scatter(bar.time,bar.vel_beam[:,0,1])#, c = bar.roll, cmap='RdBu', vmin=-5, vmax=5, s = 10)\n",
    "ax[4].scatter(foo.time,foo.vel_beam[:,0,2])#, c = foo.roll, cmap='RdBu', vmin=-5, vmax=5, s = 10)\n",
    "ax[5].scatter(bar.time,bar.vel_beam[:,0,2])#, c = bar.roll, cmap='RdBu', vmin=-5, vmax=5, s = 10)\n",
    "\n",
    "ax[0].set(ylim=[-v_lim, v_lim])\n",
    "ax[2].set(ylim=[-v_lim, v_lim], ylabel='Beam velocity bin 1 (m/s)')\n",
    "ax[4].set(xlim=[foo.time[0], foo.time[-1]], ylim=[-v_lim, v_lim])\n",
    "ax[5].set(xlim=[bar.time[0], bar.time[-1]])\n",
    "\n",
    "ax[0].text(0.6, 0.8, 'Descent beam 1',transform=ax[0].transAxes)\n",
    "ax[1].text(0.6, 0.8, 'Ascent beam 1',transform=ax[1].transAxes)\n",
    "ax[2].text(0.6, 0.5, 'Descent beam 2',transform=ax[2].transAxes)\n",
    "ax[3].text(0.6, 0.8, 'Ascent beam 2',transform=ax[3].transAxes)\n",
    "ax[4].text(0.6, 0.8, 'Descent beam 3',transform=ax[4].transAxes)\n",
    "ax[5].text(0.6, 0.8, 'Ascent beam 3',transform=ax[5].transAxes)\n",
    "fig.autofmt_xdate()\n",
    "savefig('beam_velocities')"
   ]
  },
  {
   "cell_type": "code",
   "execution_count": null,
   "metadata": {},
   "outputs": [],
   "source": [
    "sub_df = asc_df[asc_df.dive_no== 41.0]\n",
    "fig,ax = plt.subplots(figsize=(10,8))\n",
    "ax.scatter(sub_df.w_from_p, sub_df.u)\n",
    "#ax.set(xlim=[-0.5, 0.5], ylim=[-0.5, 0.5])"
   ]
  },
  {
   "cell_type": "code",
   "execution_count": null,
   "metadata": {},
   "outputs": [],
   "source": [
    "sub_df"
   ]
  },
  {
   "cell_type": "code",
   "execution_count": null,
   "metadata": {},
   "outputs": [],
   "source": [
    "dive = mission_dict['0041a']\n",
    "flagger = copy.deepcopy(dive.flag_bad_data)\n",
    "for cell in range(np.size(flagger,1)):\n",
    "    flagger[:,cell,:] = flagger[:,3,:]\n",
    "dive_vel = copy.deepcopy(dive.vel_xyz)\n",
    "dive_vel[:,1,0][:-1]"
   ]
  },
  {
   "cell_type": "code",
   "execution_count": null,
   "metadata": {},
   "outputs": [],
   "source": [
    "np.round(edgetocentre(foo.vel_xyz[:,1,0]) - des_df.u.values,2)"
   ]
  },
  {
   "cell_type": "code",
   "execution_count": null,
   "metadata": {},
   "outputs": [],
   "source": [
    "des_df.u"
   ]
  },
  {
   "cell_type": "code",
   "execution_count": null,
   "metadata": {
    "pycharm": {
     "name": "#%%\n"
    }
   },
   "outputs": [],
   "source": [
    "fig, ax = plt.subplots(2,1, figsize=(12,14), sharex=False)\n",
    "ax = ax.ravel()\n",
    "ax[0].scatter(-foo.glider_w_from_p,foo.vel_xyz[:,1,0][:-1], label='x')\n",
    "ax[0].scatter(-foo.glider_w_from_p,foo.vel_xyz[:,1,1][:-1], label='y')\n",
    "#ax[0].scatter(-foo.glider_w_from_p,foo.vel_xyz[:,1,2][:-1], label='z')\n",
    "ax[0].set(xlim=[0,0.2], ylim=[-0.4,0.4],ylabel='xyz water velocity from ADCP m/s')\n",
    "ax[0].legend()\n",
    "ax[1].scatter(-bar.glider_w_from_p,bar.vel_xyz[:,1,0][:-1], label='x')\n",
    "ax[1].scatter(-bar.glider_w_from_p,bar.vel_xyz[:,1,1][:-1], label='y')\n",
    "#ax[1].scatter(-bar.glider_w_from_p,bar.vel_xyz[:,1,2][:-1], label='z')\n",
    "ax[1].set(xlim=[-0.25,0.], ylim=[-0.4,0.4], xlabel='w from pressure m/s')\n",
    "#savefig('xyz_vel_dive41')"
   ]
  },
  {
   "cell_type": "code",
   "execution_count": null,
   "metadata": {},
   "outputs": [],
   "source": [
    "fig, ax = plt.subplots(2,1, figsize=(12,14), sharex=False)\n",
    "ax = ax.ravel()\n",
    "ax[0].scatter(tl, -foo.measurement_z, c=foo.cor_beam[:,:,2],  label='x')\n",
    "#ax[0].scatter(-foo.glider_w_from_p,foo.vel_xyz[:,1,1][:-1], label='y')\n",
    "#ax[0].scatter(-foo.glider_w_from_p,foo.vel_xyz[:,1,2][:-1], label='z')\n",
    "#ax[0].set(xlim=[0,0.2], ylim=[-0.4,0.4],ylabel='xyz water velocity from ADCP m/s')\n",
    "ax[0].legend()\n",
    "ax[1].scatter(-bar.glider_w_from_p,bar.vel_xyz[:,1,0][:-1], label='x')\n",
    "ax[1].scatter(-bar.glider_w_from_p,bar.vel_xyz[:,1,1][:-1], label='y')\n",
    "#ax[1].scatter(-bar.glider_w_from_p,bar.vel_xyz[:,1,2][:-1], label='z')\n",
    "ax[1].set(xlim=[-0.25,0.], ylim=[-0.4,0.4], xlabel='w from pressure m/s')\n",
    "#savefig('xyz_vel_dive41')"
   ]
  },
  {
   "cell_type": "code",
   "execution_count": null,
   "metadata": {},
   "outputs": [],
   "source": [
    "foo.cor_beam[:,:,2]\n",
    "foo.measurement_z\n",
    "tl = np.transpose(np.tile(foo.time, (15,1)))\n",
    "tl2 = np.transpose(np.tile(bar.time, (15,1)))"
   ]
  },
  {
   "cell_type": "code",
   "execution_count": null,
   "metadata": {},
   "outputs": [],
   "source": [
    "fig, ax = plt.subplots(figsize=(12,14))\n",
    "\n",
    "mp0 = ax.scatter(tl, foo.measurement_z, c=foo.cor_beam[:,:,2], vmin=0, vmax=100,cmap='RdBu',s=10)\n",
    "ax.scatter(tl2, bar.measurement_z, c=bar.cor_beam[:,:,2], vmin=0, vmax=100,cmap='RdBu',s=10)\n",
    "fig.colorbar(ax = ax,mappable=mp0, label='Ping correlation %')\n",
    "ax.set(xlim=[tl[0,0], tl2[-1,-1]], ylabel='z (m)')\n",
    "savefig('correlation')"
   ]
  },
  {
   "cell_type": "code",
   "execution_count": null,
   "metadata": {},
   "outputs": [],
   "source": [
    "fig, ax = plt.subplots(figsize=(12,14))\n",
    "\n",
    "mp0 = ax.scatter(tl, foo.measurement_z, c=foo.beam_miss, vmin=0, vmax=2,cmap='RdBu_r',s=10)\n",
    "ax.scatter(tl2, bar.measurement_z, c=bar.beam_miss, vmin=0, vmax=2,cmap='RdBu_r',s=10)\n",
    "fig.colorbar(ax = ax,mappable=mp0, label='Beam miss (m)')\n",
    "ax.set(xlim=[tl[0,0], tl2[-1,-1]], ylabel='z (m)')\n",
    "savefig('beam_miss')"
   ]
  },
  {
   "cell_type": "code",
   "execution_count": null,
   "metadata": {},
   "outputs": [],
   "source": [
    "foo.beam_miss"
   ]
  },
  {
   "cell_type": "code",
   "execution_count": null,
   "metadata": {},
   "outputs": [],
   "source": [
    "np.shape(foo.measurement_z)"
   ]
  },
  {
   "cell_type": "markdown",
   "metadata": {},
   "source": [
    "As above for enu velocites"
   ]
  },
  {
   "cell_type": "code",
   "execution_count": null,
   "metadata": {
    "pycharm": {
     "name": "#%%\n"
    }
   },
   "outputs": [],
   "source": [
    "fig, ax = plt.subplots(2,1, figsize=(12,14), sharex=False)\n",
    "ax = ax.ravel()\n",
    "ax[0].scatter(-foo.glider_w_from_p,foo.vel_enu[:,0,0][:-1], label='x')\n",
    "ax[0].scatter(-foo.glider_w_from_p,foo.vel_enu[:,0,1][:-1], label='y')\n",
    "#ax[0].scatter(-foo.glider_w_from_p,foo.vel_enu[:,0,2][:-1], label='z')\n",
    "ax[0].set(xlim=[0,0.2], ylim=[-0.4,0.4],ylabel='water velocity from ADCP m/s')\n",
    "ax[0].legend()\n",
    "ax[1].scatter(-bar.glider_w_from_p,bar.vel_enu[:,0,0][:-1], label='x')\n",
    "ax[1].scatter(-bar.glider_w_from_p,bar.vel_enu[:,0,1][:-1], label='y')\n",
    "#ax[1].scatter(-bar.glider_w_from_p,bar.vel_enu[:,0,2][:-1], label='z')\n",
    "ax[1].set(xlim=[-0.25,0.], ylim=[-0.4,0.4], xlabel='w from pressure m/s')\n",
    "savefig('enu_vel_dive41')"
   ]
  },
  {
   "cell_type": "code",
   "execution_count": null,
   "metadata": {
    "pycharm": {
     "name": "#%%\n"
    }
   },
   "outputs": [],
   "source": [
    "all_the_shear = np.empty((len(mission_dict),100,3))\n",
    "all_the_amp = np.empty((len(mission_dict),100,3))\n",
    "\n",
    "in_bin = np.empty((len(mission_dict), 100))\n",
    "for i, dive in enumerate(mission_dict.keys()):\n",
    "    all_the_shear[i,:,:] = mission_dict[dive].vel_referenced\n",
    "    in_bin[i,:] = mission_dict[dive].no_in_bin\n",
    "    all_the_amp[i,:] = mission_dict[dive].amp_binned\n"
   ]
  },
  {
   "cell_type": "code",
   "execution_count": null,
   "metadata": {
    "pycharm": {
     "name": "#%%\n"
    }
   },
   "outputs": [],
   "source": [
    "np.shape(all_the_amp)"
   ]
  },
  {
   "cell_type": "code",
   "execution_count": null,
   "metadata": {
    "pycharm": {
     "name": "#%%\n"
    }
   },
   "outputs": [],
   "source": [
    "fig, ax = plt.subplots(figsize=(15,10))\n",
    "nos = ax.pcolor(np.arange(0,len(overview.index)/2,0.5), np.arange(-1000,10,10),np.transpose(np.nanmean(all_the_amp,2)),vmin=30, vmax=40, cmap='RdBu')\n",
    "ax.set(ylim=[-760,0], ylabel='z (m)', xlabel='Dive number', label='return_amp')\n",
    "fig.colorbar(mappable=nos,ax=ax)\n",
    "savefig('return_amp')"
   ]
  },
  {
   "cell_type": "markdown",
   "metadata": {},
   "source": [
    "Check how many adcp velocity shear measurements were used in each cell of the velocity profile"
   ]
  },
  {
   "cell_type": "code",
   "execution_count": null,
   "metadata": {
    "pycharm": {
     "name": "#%%\n"
    }
   },
   "outputs": [],
   "source": [
    "fig, ax = plt.subplots(figsize=(15,10))\n",
    "nos = ax.pcolor(np.arange(0,len(overview.index)/2,0.5), np.arange(-1000,10,10),np.transpose(in_bin), vmin=0, vmax=100, cmap='viridis')\n",
    "ax.set(ylim=[-760,0], ylabel='z (m)', xlabel='Dive number')\n",
    "fig.colorbar(mappable=nos,ax=ax, label='number of shear estimates per bin', extend='max')\n",
    "savefig('vels_per_10m_bin')"
   ]
  },
  {
   "cell_type": "markdown",
   "metadata": {},
   "source": [
    "Plot the shear profiles"
   ]
  },
  {
   "cell_type": "code",
   "execution_count": null,
   "metadata": {
    "pycharm": {
     "name": "#%%\n"
    }
   },
   "outputs": [],
   "source": [
    "fig, ax = plt.subplots(3,1, figsize=(15,30), sharex=True)\n",
    "ax = ax.ravel()\n",
    "ax[0].pcolor(np.transpose(all_the_shear[201:250,:,0]), cmap='RdBu_r', vmin=-0.5, vmax=0.5)\n",
    "ax[1].pcolor(np.transpose(all_the_shear[201:250,:,1]), cmap='RdBu_r', vmin=-0.5, vmax=0.5)"
   ]
  },
  {
   "cell_type": "markdown",
   "metadata": {},
   "source": [
    "-------------------\n",
    "# Rough stuff"
   ]
  },
  {
   "cell_type": "code",
   "execution_count": null,
   "metadata": {},
   "outputs": [],
   "source": []
  },
  {
   "cell_type": "code",
   "execution_count": null,
   "metadata": {},
   "outputs": [],
   "source": []
  },
  {
   "cell_type": "code",
   "execution_count": null,
   "metadata": {},
   "outputs": [],
   "source": []
  }
 ],
 "metadata": {
  "kernelspec": {
   "display_name": "Python 3",
   "language": "python",
   "name": "python3"
  },
  "language_info": {
   "codemirror_mode": {
    "name": "ipython",
    "version": 3
   },
   "file_extension": ".py",
   "mimetype": "text/x-python",
   "name": "python",
   "nbconvert_exporter": "python",
   "pygments_lexer": "ipython3",
   "version": "3.7.3"
  },
  "pycharm": {
   "stem_cell": {
    "cell_type": "raw",
    "metadata": {
     "collapsed": false
    },
    "source": []
   }
  }
 },
 "nbformat": 4,
 "nbformat_minor": 2
}

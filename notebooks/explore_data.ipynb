{
 "cells": [
  {
   "cell_type": "markdown",
   "metadata": {},
   "source": [
    "### First add the data functions to the path"
   ]
  },
  {
   "cell_type": "code",
   "execution_count": null,
   "metadata": {
    "pycharm": {
     "name": "#%%\n"
    }
   },
   "outputs": [],
   "source": [
    "import sys\n",
    "import numpy as np\n",
    "import pandas as pd\n",
    "import xarray as xr\n",
    "import copy\n",
    "import seaborn as sns\n",
    "from netCDF4 import Dataset\n",
    "from pathlib import Path\n",
    "from datetime import datetime, timedelta\n",
    "notebook_dir = !pwd # Replace with !echo %cd% if using windows\n",
    "library_dir = Path(notebook_dir[0]).parent.absolute()\n",
    "sys.path.append(str(library_dir))\n",
    "data_raw_path = library_dir / 'data' / 'raw' / 'adcp'\n",
    "glider_raw_path = library_dir / 'data' / 'raw' / 'glider'\n",
    "fig_path = library_dir / 'reports' / 'figures'\n",
    "from src.data.adcp_mission_analysis import adcp_import_data, add_dive_averages, read_glider_nc, edgetocentre, savefig\n",
    "#from src.data.beam_mapping import beam2enu, beam_from_center, caltran"
   ]
  },
  {
   "cell_type": "markdown",
   "metadata": {},
   "source": [
    "Use better plotting defaults"
   ]
  },
  {
   "cell_type": "code",
   "execution_count": null,
   "metadata": {
    "pycharm": {
     "name": "#%%\n"
    }
   },
   "outputs": [],
   "source": [
    "import matplotlib.pyplot as plt\n",
    "from matplotlib import style\n",
    "style_path = library_dir / 'src' / 'visualization' / 'presentation.mplstyle'\n",
    "style.use(str(style_path))"
   ]
  },
  {
   "cell_type": "markdown",
   "metadata": {},
   "source": [
    "### Load the data into Python"
   ]
  },
  {
   "cell_type": "code",
   "execution_count": null,
   "metadata": {
    "pycharm": {
     "name": "#%%\n"
    }
   },
   "outputs": [],
   "source": [
    "overview, mission_dict = adcp_import_data(data_raw_path)\n"
   ]
  },
  {
   "cell_type": "markdown",
   "metadata": {},
   "source": [
    "Add beam attributes. These are taken from the fifth cell (11.3 m from the glider on default settings) and averaged over each ascent/descent profile"
   ]
  },
  {
   "cell_type": "code",
   "execution_count": null,
   "metadata": {
    "pycharm": {
     "name": "#%%\n"
    }
   },
   "outputs": [],
   "source": [
    "beam_attrs, adcp_df = add_dive_averages(overview, mission_dict)\n",
    "beam_attrs\n",
    "# overview.join(beam_attrs)"
   ]
  },
  {
   "cell_type": "code",
   "execution_count": null,
   "metadata": {},
   "outputs": [],
   "source": [
    "adcp_df.head()"
   ]
  },
  {
   "cell_type": "markdown",
   "metadata": {},
   "source": [
    "Check that the data start when you expect. The first file in particular may have data from a previous sim dive or bench test. adapt the following cell to select the data starting on the correct day"
   ]
  },
  {
   "cell_type": "code",
   "execution_count": null,
   "metadata": {},
   "outputs": [],
   "source": [
    "# For this dataset, need to remove the data before 23 Jan they are from 2019 benchtests and 2020 sim dives\n",
    "adcp_df = adcp_df['2020-01-23':]"
   ]
  },
  {
   "cell_type": "code",
   "execution_count": null,
   "metadata": {},
   "outputs": [],
   "source": []
  },
  {
   "cell_type": "code",
   "execution_count": null,
   "metadata": {
    "pycharm": {
     "name": "#%%\n"
    }
   },
   "outputs": [],
   "source": [
    "beam_attrs.plot(subplots=True,figsize=(20,40),marker='o');\n",
    "savefig('beam_attributes')"
   ]
  },
  {
   "cell_type": "code",
   "execution_count": null,
   "metadata": {},
   "outputs": [],
   "source": [
    "len(np.arange(0,len(beam_attrs.index), 0.5)"
   ]
  },
  {
   "cell_type": "markdown",
   "metadata": {},
   "source": [
    "### Print some key QC parameters from each dive limb"
   ]
  },
  {
   "cell_type": "code",
   "execution_count": null,
   "metadata": {},
   "outputs": [],
   "source": [
    "fig, ax = plt.subplots(5,1, sharex=True, figsize=(14,15))\n",
    "ax = ax.ravel()\n",
    "ax[0].scatter(np.arange(0,len(beam_attrs.index)/2,0.5), beam_attrs.cor_beam_1, label='correlation (%)')\n",
    "ax[1].scatter(np.arange(0,len(beam_attrs.index)/2,0.5), beam_attrs.amp_beam_1, label='return amp (dB)')\n",
    "ax[2].scatter(np.arange(0,len(beam_attrs.index)/2,0.5), np.abs(beam_attrs.pitch), label='|pitch|')\n",
    "ax[3].scatter(np.arange(0,len(beam_attrs.index)/2,0.5), beam_attrs.roll, label='|roll|')\n",
    "ax[3].set(ylim = [0,15])\n",
    "ax[4].scatter(np.arange(0,len(beam_attrs.index)/2,0.5), beam_attrs.beam_miss, label='Beam miss (m)')\n",
    "ax[4].set(ylim = [0,2])\n",
    "for axi in ax:\n",
    "    axi.legend()\n",
    "savefig('beam_attrs_short')"
   ]
  },
  {
   "cell_type": "markdown",
   "metadata": {},
   "source": [
    "See which variables are correlated between the dive limbs"
   ]
  },
  {
   "cell_type": "code",
   "execution_count": null,
   "metadata": {
    "pycharm": {
     "name": "#%%\n"
    }
   },
   "outputs": [],
   "source": [
    "attr_corr = beam_attrs.corr()\n",
    "mask = np.triu(np.ones_like(attr_corr, dtype=np.bool))\n",
    "f, ax = plt.subplots(figsize=(20, 22))\n",
    "sns.heatmap(attr_corr, cmap='RdBu_r', vmin=-1,vmax=1, center=0,\n",
    "            square=True, linewidths=.5, cbar_kws={\"shrink\": .5})"
   ]
  },
  {
   "cell_type": "markdown",
   "metadata": {},
   "source": [
    "Load in glider attitude data for comparison with that from the ADCP"
   ]
  },
  {
   "cell_type": "code",
   "execution_count": null,
   "metadata": {
    "pycharm": {
     "name": "#%%\n"
    }
   },
   "outputs": [],
   "source": [
    "glider_df = read_glider_nc(glider_raw_path / 'sg637_var_by_var_timeseries.nc')\n",
    "glider_df"
   ]
  },
  {
   "cell_type": "code",
   "execution_count": null,
   "metadata": {},
   "outputs": [],
   "source": [
    "fig, ax = plt.subplots(figsize=(10,6))\n",
    "ax.scatter(glider_df.index, glider_df.pressure, label='glider', s=1)\n",
    "ax.scatter(adcp_df.index, adcp_df.pressure_ad, label='adcp', s=1)\n",
    "ax.set(xlim=[datetime(2020,1,24,0), datetime(2020,1,24,12)],ylim = [-10,750], ylabel='Pressure (dbar)')\n",
    "ax.legend()\n",
    "savefig('pressure_glider_vs_adcp')"
   ]
  },
  {
   "cell_type": "markdown",
   "metadata": {},
   "source": [
    "### Attitude comparison. A mismatch may indicate physcal misalignment of the glider and ADCP or a poor calibration of the accelerometers in either unit."
   ]
  },
  {
   "cell_type": "code",
   "execution_count": null,
   "metadata": {
    "pycharm": {
     "name": "#%%\n"
    }
   },
   "outputs": [],
   "source": [
    "fig, ax = plt.subplots(3,1,figsize=(20,26), sharex=True)\n",
    "ax = ax.ravel()\n",
    "ax[0].scatter(glider_df.index, glider_df.pitch, label='glider')\n",
    "ax[0].scatter(adcp_df.index, adcp_df.pitch_ad, label='adcp')\n",
    "ax[0].set(xlim=[datetime(2020,1,24,0), datetime(2020,1,24,12)], ylim=[-30,30], ylabel='Pitch')\n",
    "ax[1].scatter(glider_df.index, glider_df.roll)\n",
    "ax[1].scatter(adcp_df.index, adcp_df.roll_ad)\n",
    "ax[1].set(ylim=[-20,20], ylabel='Roll')\n",
    "ax[2].scatter(glider_df.index, glider_df.heading)\n",
    "ax[2].scatter(adcp_df.index, adcp_df.heading_ad)\n",
    "ax[2].set(ylim=[50,200], ylabel='Heading')\n",
    "ax[0].legend();\n",
    "savefig('attitude_glider_vs_adcp')"
   ]
  },
  {
   "cell_type": "code",
   "execution_count": null,
   "metadata": {},
   "outputs": [],
   "source": [
    "glider_av_df = glider_df.groupby('dive', as_index=False).mean()\n",
    "glider_av_df"
   ]
  },
  {
   "cell_type": "code",
   "execution_count": null,
   "metadata": {
    "pycharm": {
     "name": "#%%\n"
    }
   },
   "outputs": [],
   "source": [
    "fig, ax = plt.subplots(2,1,figsize=(16,14), sharex=True)\n",
    "ax = ax.ravel()\n",
    "ax[0].scatter(glider_av_df.dive_num, glider_av_df.DAC_u)\n",
    "ax[1].scatter(glider_av_df.dive_num, glider_av_df.DAC_v)\n",
    "ax[0].set(ylabel='DAC u $(\\mathrm{m\\ s^{-1}})$', ylim=[-0.2, 0.2])\n",
    "ax[1].set(ylabel='DAC v $(\\mathrm{m\\ s^{-1}})$', xlabel='Dive number', ylim=[-0.2, 0.2])\n",
    "savefig('DAC_by_dive')"
   ]
  },
  {
   "cell_type": "code",
   "execution_count": null,
   "metadata": {},
   "outputs": [],
   "source": [
    "fig, ax = plt.subplots(2,1,figsize=(16,14), sharex=True)\n",
    "ax = ax.ravel()\n",
    "ax[0].scatter(glider_av_df.heading, glider_av_df.DAC_u)\n",
    "ax[1].scatter(glider_av_df.heading, glider_av_df.DAC_v)\n",
    "ax[0].set(ylabel='DAC u $(\\mathrm{m\\ s^{-1}})$', ylim=[-0.2, 0.2])\n",
    "ax[1].set(ylabel='DAC v $(\\mathrm{m\\ s^{-1}})$', xlabel='Mean heading', ylim=[-0.2, 0.2], xlim=[0,360])\n",
    "savefig('DAC_by_heading')"
   ]
  },
  {
   "cell_type": "code",
   "execution_count": null,
   "metadata": {},
   "outputs": [],
   "source": [
    "dive_vel[:,1,0][:-1]"
   ]
  },
  {
   "cell_type": "code",
   "execution_count": null,
   "metadata": {},
   "outputs": [],
   "source": [
    "def glider_vel(mission_dict, cell=1):\n",
    "    asc_wp, asc_u, asc_v, asc_w, asc_dive_no = [], [], [], [], []\n",
    "    des_wp, des_u, des_v, des_w, des_dive_no = [], [], [], [], []\n",
    "\n",
    "    for item in list(mission_dict):\n",
    "        print(item)\n",
    "        dive = mission_dict[item]\n",
    "        flagger = copy.deepcopy(dive.flag_bad_data)\n",
    "        for i in range(np.size(flagger,1)):\n",
    "            flagger[:,i,:] = flagger[:,3,:]\n",
    "        dive_vel = copy.deepcopy(dive.vel_xyz)\n",
    "        #dive_vel[flagger] = np.nan\n",
    "        if item[-1] == 'a':\n",
    "            des_u.append(edgetocentre(dive_vel[:,cell,0]))\n",
    "            des_v.append(edgetocentre(dive_vel[:,cell,1]))\n",
    "            des_w.append(edgetocentre(dive_vel[:,cell,2]))\n",
    "            des_wp.append(dive.glider_w_from_p)\n",
    "            dive_no = np.empty((len(dive.glider_w_from_p)))\n",
    "            dive_no[:] = float(str(item)[:-1])\n",
    "            des_dive_no.append(dive_no)\n",
    "        else:\n",
    "            asc_u.append(edgetocentre(dive_vel[:,cell,0]))\n",
    "            asc_v.append(edgetocentre(dive_vel[:,cell,1]))\n",
    "            asc_w.append(edgetocentre(dive_vel[:,cell,2]))\n",
    "            asc_wp.append(dive.glider_w_from_p) \n",
    "            dive_no = np.empty((len(dive.glider_w_from_p)))\n",
    "            dive_no[:] = float(str(item)[:-1])\n",
    "            asc_dive_no.append(dive_no)\n",
    "    des_df = pd.DataFrame({'dive_no':[item for sublist in des_dive_no for item in sublist], 'u':[item for sublist in des_u for item in sublist], 'v': [item for sublist in des_v for item in sublist], 'w':[item for sublist in des_w for item in sublist], 'w_from_p':[item for sublist in des_wp for item in sublist]}, index=None)\n",
    "    asc_df = pd.DataFrame({'dive_no':[item for sublist in asc_dive_no for item in sublist], 'u':[item for sublist in asc_u for item in sublist], 'v': [item for sublist in asc_v for item in sublist], 'w':[item for sublist in asc_w for item in sublist], 'w_from_p':[item for sublist in asc_wp for item in sublist]}, index=None)\n",
    "    return des_df, asc_df\n",
    "des_df, asc_df = glider_vel(mission_dict)"
   ]
  },
  {
   "cell_type": "code",
   "execution_count": null,
   "metadata": {},
   "outputs": [],
   "source": [
    "dive = mission_dict['0041a']\n",
    "flagger = copy.deepcopy(dive.flag_bad_data)\n",
    "for cell in range(np.size(flagger,1)):\n",
    "    flagger[:,cell,:] = flagger[:,3,:]\n",
    "dive_vel = copy.deepcopy(dive.vel_xyz)\n",
    "dive_vel[:,1,0][:-1]"
   ]
  },
  {
   "cell_type": "code",
   "execution_count": null,
   "metadata": {},
   "outputs": [],
   "source": [
    "ax[0].scatter(-foo.glider_w_from_p,foo.vel_xyz[:,1,0][:-1], label='x')"
   ]
  },
  {
   "cell_type": "code",
   "execution_count": null,
   "metadata": {},
   "outputs": [],
   "source": [
    "dive_vel[:,cell,0]"
   ]
  },
  {
   "cell_type": "code",
   "execution_count": null,
   "metadata": {},
   "outputs": [],
   "source": [
    "mission_dict['0041b'].flag_bad_data[:,3,:]"
   ]
  },
  {
   "cell_type": "code",
   "execution_count": null,
   "metadata": {},
   "outputs": [],
   "source": [
    "sub_df = asc_df[asc_df.dive_no== 41.0]\n",
    "sub_df.describe()"
   ]
  },
  {
   "cell_type": "code",
   "execution_count": null,
   "metadata": {},
   "outputs": [],
   "source": [
    "des_df.describe()"
   ]
  },
  {
   "cell_type": "code",
   "execution_count": null,
   "metadata": {},
   "outputs": [],
   "source": [
    "asc_df.describe()"
   ]
  },
  {
   "cell_type": "code",
   "execution_count": null,
   "metadata": {},
   "outputs": [],
   "source": [
    "sub_df = asc_df[asc_df.dive_no== 41.0]\n",
    "sub_df.describe()asc_df.corr()"
   ]
  },
  {
   "cell_type": "code",
   "execution_count": null,
   "metadata": {},
   "outputs": [],
   "source": []
  },
  {
   "cell_type": "code",
   "execution_count": null,
   "metadata": {},
   "outputs": [],
   "source": []
  },
  {
   "cell_type": "code",
   "execution_count": null,
   "metadata": {},
   "outputs": [],
   "source": [
    "fig, ax = plt.subplots(1,2,figsize=(20,10), sharey=True)\n",
    "ax = ax.ravel()\n",
    "ax[0].scatter(-des_df.u, des_df.w_from_p, s = 0.5, label='Dive')\n",
    "ax[0].scatter(-asc_df.u, asc_df.w_from_p, s = 0.5, label='Climb')\n",
    "ax[0].set(xlim=[0, 0.6], ylim=[-0.3, 0.3], xlabel='Glider forward speed from ADCP', ylabel='Vertical speed from pressure')\n",
    "ax[0].legend()\n",
    "\n",
    "ax[1].scatter(-des_df.v, des_df.w_from_p, s = 0.5, label='Dive')\n",
    "ax[1].scatter(-asc_df.v, asc_df.w_from_p, s = 0.5, label='Climb')\n",
    "ax[1].set(xlim=[-0.2,0.2], ylim=[-0.3, 0.3], xlabel='Glider cross speed from ADCP')\n",
    "savefig('all_speed_pressure')\n"
   ]
  },
  {
   "cell_type": "code",
   "execution_count": null,
   "metadata": {},
   "outputs": [],
   "source": [
    "g = sns.jointplot(des_df.u, des_df.w_from_p, height=12, space=0, xlim=(-0.6, 0.0), ylim=(-0.3, -0.04))\n",
    "savefig('seaborn_den_scat')"
   ]
  },
  {
   "cell_type": "code",
   "execution_count": null,
   "metadata": {},
   "outputs": [],
   "source": [
    "g = sns.jointplot(asc_df.u, asc_df.w_from_p, kind=\"kde\", height=12, space=0, xlim=(-1, 0.2), ylim=(0.06, 0.14))"
   ]
  },
  {
   "cell_type": "code",
   "execution_count": null,
   "metadata": {},
   "outputs": [],
   "source": [
    "asc_df.corr()"
   ]
  },
  {
   "cell_type": "markdown",
   "metadata": {},
   "source": [
    "Plot the xyz velocites from one dive cycle. Upper panel dive, lower panel climb"
   ]
  },
  {
   "cell_type": "code",
   "execution_count": null,
   "metadata": {},
   "outputs": [],
   "source": [
    "foo = mission_dict['0061a']\n",
    "bar = mission_dict['0061b']"
   ]
  },
  {
   "cell_type": "code",
   "execution_count": null,
   "metadata": {},
   "outputs": [],
   "source": []
  },
  {
   "cell_type": "code",
   "execution_count": null,
   "metadata": {},
   "outputs": [],
   "source": [
    "sub_df = asc_df[asc_df.dive_no== 41.0]\n",
    "fig,ax = plt.subplots(figsize=(10,8))\n",
    "ax.scatter(sub_df.w_from_p, sub_df.u)\n",
    "#ax.set(xlim=[-0.5, 0.5], ylim=[-0.5, 0.5])"
   ]
  },
  {
   "cell_type": "code",
   "execution_count": null,
   "metadata": {},
   "outputs": [],
   "source": [
    "sub_df"
   ]
  },
  {
   "cell_type": "code",
   "execution_count": null,
   "metadata": {},
   "outputs": [],
   "source": [
    "dive = mission_dict['0041a']\n",
    "flagger = copy.deepcopy(dive.flag_bad_data)\n",
    "for cell in range(np.size(flagger,1)):\n",
    "    flagger[:,cell,:] = flagger[:,3,:]\n",
    "dive_vel = copy.deepcopy(dive.vel_xyz)\n",
    "dive_vel[:,1,0][:-1]"
   ]
  },
  {
   "cell_type": "code",
   "execution_count": null,
   "metadata": {},
   "outputs": [],
   "source": [
    "np.round(edgetocentre(foo.vel_xyz[:,1,0]) - des_df.u.values,2)"
   ]
  },
  {
   "cell_type": "code",
   "execution_count": null,
   "metadata": {},
   "outputs": [],
   "source": [
    "des_df.u"
   ]
  },
  {
   "cell_type": "code",
   "execution_count": null,
   "metadata": {
    "pycharm": {
     "name": "#%%\n"
    }
   },
   "outputs": [],
   "source": [
    "fig, ax = plt.subplots(2,1, figsize=(12,14), sharex=False)\n",
    "ax = ax.ravel()\n",
    "ax[0].scatter(-foo.glider_w_from_p,foo.vel_xyz[:,1,0][:-1], label='x')\n",
    "ax[0].scatter(-foo.glider_w_from_p,foo.vel_xyz[:,1,1][:-1], label='y')\n",
    "#ax[0].scatter(-foo.glider_w_from_p,foo.vel_xyz[:,1,2][:-1], label='z')\n",
    "ax[0].set(xlim=[0,0.2], ylim=[-0.4,0.4],ylabel='xyz water velocity from ADCP m/s')\n",
    "ax[0].legend()\n",
    "ax[1].scatter(-bar.glider_w_from_p,bar.vel_xyz[:,1,0][:-1], label='x')\n",
    "ax[1].scatter(-bar.glider_w_from_p,bar.vel_xyz[:,1,1][:-1], label='y')\n",
    "#ax[1].scatter(-bar.glider_w_from_p,bar.vel_xyz[:,1,2][:-1], label='z')\n",
    "ax[1].set(xlim=[-0.25,0.], ylim=[-0.4,0.4], xlabel='w from pressure m/s')\n",
    "#savefig('xyz_vel_dive41')"
   ]
  },
  {
   "cell_type": "code",
   "execution_count": null,
   "metadata": {},
   "outputs": [],
   "source": [
    "fig, ax = plt.subplots(2,1, figsize=(12,14), sharex=False)\n",
    "ax = ax.ravel()\n",
    "ax[0].scatter(tl, -foo.measurement_z, c=foo.cor_beam[:,:,2],  label='x')\n",
    "#ax[0].scatter(-foo.glider_w_from_p,foo.vel_xyz[:,1,1][:-1], label='y')\n",
    "#ax[0].scatter(-foo.glider_w_from_p,foo.vel_xyz[:,1,2][:-1], label='z')\n",
    "#ax[0].set(xlim=[0,0.2], ylim=[-0.4,0.4],ylabel='xyz water velocity from ADCP m/s')\n",
    "ax[0].legend()\n",
    "ax[1].scatter(-bar.glider_w_from_p,bar.vel_xyz[:,1,0][:-1], label='x')\n",
    "ax[1].scatter(-bar.glider_w_from_p,bar.vel_xyz[:,1,1][:-1], label='y')\n",
    "#ax[1].scatter(-bar.glider_w_from_p,bar.vel_xyz[:,1,2][:-1], label='z')\n",
    "ax[1].set(xlim=[-0.25,0.], ylim=[-0.4,0.4], xlabel='w from pressure m/s')\n",
    "#savefig('xyz_vel_dive41')"
   ]
  },
  {
   "cell_type": "code",
   "execution_count": null,
   "metadata": {},
   "outputs": [],
   "source": [
    "foo.cor_beam[:,:,2]\n",
    "foo.measurement_z\n",
    "tl = np.transpose(np.tile(foo.time, (15,1)))\n",
    "tl2 = np.transpose(np.tile(bar.time, (15,1)))"
   ]
  },
  {
   "cell_type": "code",
   "execution_count": null,
   "metadata": {},
   "outputs": [],
   "source": [
    "fig, ax = plt.subplots(figsize=(12,14))\n",
    "\n",
    "mp0 = ax.scatter(tl, foo.measurement_z, c=foo.cor_beam[:,:,2], vmin=0, vmax=100,cmap='RdBu',s=10)\n",
    "ax.scatter(tl2, bar.measurement_z, c=bar.cor_beam[:,:,2], vmin=0, vmax=100,cmap='RdBu',s=10)\n",
    "fig.colorbar(ax = ax,mappable=mp0, label='Ping correlation %')\n",
    "ax.set(xlim=[tl[0,0], tl2[-1,-1]], ylabel='z (m)')\n",
    "savefig('correlation')"
   ]
  },
  {
   "cell_type": "code",
   "execution_count": null,
   "metadata": {},
   "outputs": [],
   "source": [
    "fig, ax = plt.subplots(figsize=(12,14))\n",
    "\n",
    "mp0 = ax.scatter(tl, foo.measurement_z, c=foo.beam_miss, vmin=0, vmax=2,cmap='RdBu_r',s=10)\n",
    "ax.scatter(tl2, bar.measurement_z, c=bar.beam_miss, vmin=0, vmax=2,cmap='RdBu_r',s=10)\n",
    "fig.colorbar(ax = ax,mappable=mp0, label='Beam miss (m)')\n",
    "ax.set(xlim=[tl[0,0], tl2[-1,-1]], ylabel='z (m)')\n",
    "savefig('beam_miss')"
   ]
  },
  {
   "cell_type": "code",
   "execution_count": null,
   "metadata": {},
   "outputs": [],
   "source": [
    "foo.beam_miss"
   ]
  },
  {
   "cell_type": "code",
   "execution_count": null,
   "metadata": {},
   "outputs": [],
   "source": [
    "np.shape(foo.measurement_z)"
   ]
  },
  {
   "cell_type": "markdown",
   "metadata": {},
   "source": [
    "As above for enu velocites"
   ]
  },
  {
   "cell_type": "code",
   "execution_count": null,
   "metadata": {
    "pycharm": {
     "name": "#%%\n"
    }
   },
   "outputs": [],
   "source": [
    "fig, ax = plt.subplots(2,1, figsize=(12,14), sharex=False)\n",
    "ax = ax.ravel()\n",
    "ax[0].scatter(-foo.glider_w_from_p,foo.vel_enu[:,0,0][:-1], label='x')\n",
    "ax[0].scatter(-foo.glider_w_from_p,foo.vel_enu[:,0,1][:-1], label='y')\n",
    "#ax[0].scatter(-foo.glider_w_from_p,foo.vel_enu[:,0,2][:-1], label='z')\n",
    "ax[0].set(xlim=[0,0.2], ylim=[-0.4,0.4],ylabel='water velocity from ADCP m/s')\n",
    "ax[0].legend()\n",
    "ax[1].scatter(-bar.glider_w_from_p,bar.vel_enu[:,0,0][:-1], label='x')\n",
    "ax[1].scatter(-bar.glider_w_from_p,bar.vel_enu[:,0,1][:-1], label='y')\n",
    "#ax[1].scatter(-bar.glider_w_from_p,bar.vel_enu[:,0,2][:-1], label='z')\n",
    "ax[1].set(xlim=[-0.25,0.], ylim=[-0.4,0.4], xlabel='w from pressure m/s')\n",
    "savefig('enu_vel_dive41')"
   ]
  },
  {
   "cell_type": "code",
   "execution_count": null,
   "metadata": {
    "pycharm": {
     "name": "#%%\n"
    }
   },
   "outputs": [],
   "source": [
    "all_the_shear = np.empty((len(mission_dict),100,3))\n",
    "all_the_amp = np.empty((len(mission_dict),100,3))\n",
    "\n",
    "in_bin = np.empty((len(mission_dict), 100))\n",
    "for i, dive in enumerate(mission_dict.keys()):\n",
    "    all_the_shear[i,:,:] = mission_dict[dive].vel_referenced\n",
    "    in_bin[i,:] = mission_dict[dive].no_in_bin\n",
    "    all_the_amp[i,:] = mission_dict[dive].amp_binned\n"
   ]
  },
  {
   "cell_type": "code",
   "execution_count": null,
   "metadata": {
    "pycharm": {
     "name": "#%%\n"
    }
   },
   "outputs": [],
   "source": [
    "np.shape(all_the_amp)"
   ]
  },
  {
   "cell_type": "code",
   "execution_count": null,
   "metadata": {
    "pycharm": {
     "name": "#%%\n"
    }
   },
   "outputs": [],
   "source": [
    "fig, ax = plt.subplots(figsize=(15,10))\n",
    "nos = ax.pcolor(np.arange(0,len(overview.index)/2,0.5), np.arange(-1000,10,10),np.transpose(np.nanmean(all_the_amp,2)),vmin=30, vmax=40, cmap='RdBu')\n",
    "ax.set(ylim=[-760,0], ylabel='z (m)', xlabel='Dive number', label='return_amp')\n",
    "fig.colorbar(mappable=nos,ax=ax)\n",
    "savefig('return_amp')"
   ]
  },
  {
   "cell_type": "markdown",
   "metadata": {},
   "source": [
    "Check how many adcp velocity shear measurements were used in each cell of the velocity profile"
   ]
  },
  {
   "cell_type": "code",
   "execution_count": null,
   "metadata": {
    "pycharm": {
     "name": "#%%\n"
    }
   },
   "outputs": [],
   "source": [
    "fig, ax = plt.subplots(figsize=(15,10))\n",
    "nos = ax.pcolor(np.arange(0,len(overview.index)/2,0.5), np.arange(-1000,10,10),np.transpose(in_bin), vmin=0, vmax=100, cmap='viridis')\n",
    "ax.set(ylim=[-760,0], ylabel='z (m)', xlabel='Dive number')\n",
    "fig.colorbar(mappable=nos,ax=ax, label='number of shear estimates per bin', extend='max')\n",
    "savefig('vels_per_10m_bin')"
   ]
  },
  {
   "cell_type": "markdown",
   "metadata": {},
   "source": [
    "Plot the shear profiles"
   ]
  },
  {
   "cell_type": "code",
   "execution_count": null,
   "metadata": {
    "pycharm": {
     "name": "#%%\n"
    }
   },
   "outputs": [],
   "source": [
    "fig, ax = plt.subplots(3,1, figsize=(15,30), sharex=True)\n",
    "ax = ax.ravel()\n",
    "ax[0].pcolor(np.transpose(all_the_shear[201:250,:,0]), cmap='RdBu_r', vmin=-0.5, vmax=0.5)\n",
    "ax[1].pcolor(np.transpose(all_the_shear[201:250,:,1]), cmap='RdBu_r', vmin=-0.5, vmax=0.5)"
   ]
  },
  {
   "cell_type": "markdown",
   "metadata": {},
   "source": [
    "-------------------\n",
    "# Rough stuff"
   ]
  },
  {
   "cell_type": "code",
   "execution_count": null,
   "metadata": {},
   "outputs": [],
   "source": []
  },
  {
   "cell_type": "code",
   "execution_count": null,
   "metadata": {},
   "outputs": [],
   "source": []
  },
  {
   "cell_type": "code",
   "execution_count": null,
   "metadata": {},
   "outputs": [],
   "source": []
  }
 ],
 "metadata": {
  "kernelspec": {
   "display_name": "Python 3",
   "language": "python",
   "name": "python3"
  },
  "language_info": {
   "codemirror_mode": {
    "name": "ipython",
    "version": 3
   },
   "file_extension": ".py",
   "mimetype": "text/x-python",
   "name": "python",
   "nbconvert_exporter": "python",
   "pygments_lexer": "ipython3",
   "version": "3.7.3"
  },
  "pycharm": {
   "stem_cell": {
    "cell_type": "raw",
    "metadata": {
     "collapsed": false
    },
    "source": []
   }
  }
 },
 "nbformat": 4,
 "nbformat_minor": 2
}

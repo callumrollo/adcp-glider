{
 "cells": [
  {
   "cell_type": "markdown",
   "metadata": {},
   "source": [
    "First add the data functions to the path"
   ]
  },
  {
   "cell_type": "code",
   "execution_count": 1,
   "metadata": {
    "pycharm": {
     "is_executing": false
    }
   },
   "outputs": [],
   "source": [
    "import sys\n",
    "import numpy as np\n",
    "import pandas as pd\n",
    "from netCDF4 import Dataset\n",
    "from pathlib import Path\n",
    "notebook_dir = !pwd # Replace with !echo %cd% if using windows\n",
    "library_dir = Path(notebook_dir[0]).parent.absolute()\n",
    "sys.path.append(str(library_dir))\n",
    "data_raw_path = library_dir / 'data' / 'raw'\n",
    "\n",
    "from src.data.adcp_mission_analysis import adcp_import_data"
   ]
  },
  {
   "cell_type": "markdown",
   "metadata": {},
   "source": [
    "Use better plotting defaults"
   ]
  },
  {
   "cell_type": "code",
   "execution_count": 19,
   "metadata": {
    "pycharm": {
     "is_executing": false
    }
   },
   "outputs": [],
   "source": [
    "import matplotlib.pyplot as plt\n",
    "from matplotlib import style\n",
    "style_path = library_dir / 'src' / 'visualization' / 'presentation.mplstyle'\n",
    "style.use(str(style_path))"
   ]
  },
  {
   "cell_type": "markdown",
   "metadata": {},
   "source": [
    "Get an overview of the dataset"
   ]
  },
  {
   "cell_type": "code",
   "execution_count": 20,
   "metadata": {
    "pycharm": {
     "is_executing": false
    }
   },
   "outputs": [],
   "source": [
    "overview, mission_dict = adcp_import_data(data_raw_path)"
   ]
  },
  {
   "cell_type": "code",
   "execution_count": 10,
   "metadata": {
    "pycharm": {
     "is_executing": false
    }
   },
   "outputs": [
    {
     "data": {
      "text/plain": "                                               file_path dive_limb  \\\n0003a  /media/callum/storage/Documents/adcp-glider/da...         a   \n0003b  /media/callum/storage/Documents/adcp-glider/da...         b   \n0004a  /media/callum/storage/Documents/adcp-glider/da...         a   \n0004b  /media/callum/storage/Documents/adcp-glider/da...         b   \n0005a  /media/callum/storage/Documents/adcp-glider/da...         a   \n\n       powerusage_mW  mem_usage_MB_per_hour  cell_size  measurement_interval  \\\n0003a     184.039993                  0.061        2.0                    15   \n0003b     184.039993                  0.061        2.0                    15   \n0004a     184.039993                  0.061        2.0                    15   \n0004b     184.039993                  0.061        2.0                    15   \n0005a     184.039993                  0.061        2.0                    15   \n\n       num_cells  num_pings  blank_dist vert_direction  \n0003a         15          4         0.3        Descent  \n0003b         15          4         0.3         Ascent  \n0004a         15          4         0.3        Descent  \n0004b         15          4         0.3         Ascent  \n0005a         15          4         0.3        Descent  ",
      "text/html": "<div>\n<style scoped>\n    .dataframe tbody tr th:only-of-type {\n        vertical-align: middle;\n    }\n\n    .dataframe tbody tr th {\n        vertical-align: top;\n    }\n\n    .dataframe thead th {\n        text-align: right;\n    }\n</style>\n<table border=\"1\" class=\"dataframe\">\n  <thead>\n    <tr style=\"text-align: right;\">\n      <th></th>\n      <th>file_path</th>\n      <th>dive_limb</th>\n      <th>powerusage_mW</th>\n      <th>mem_usage_MB_per_hour</th>\n      <th>cell_size</th>\n      <th>measurement_interval</th>\n      <th>num_cells</th>\n      <th>num_pings</th>\n      <th>blank_dist</th>\n      <th>vert_direction</th>\n    </tr>\n  </thead>\n  <tbody>\n    <tr>\n      <th>0003a</th>\n      <td>/media/callum/storage/Documents/adcp-glider/da...</td>\n      <td>a</td>\n      <td>184.039993</td>\n      <td>0.061</td>\n      <td>2.0</td>\n      <td>15</td>\n      <td>15</td>\n      <td>4</td>\n      <td>0.3</td>\n      <td>Descent</td>\n    </tr>\n    <tr>\n      <th>0003b</th>\n      <td>/media/callum/storage/Documents/adcp-glider/da...</td>\n      <td>b</td>\n      <td>184.039993</td>\n      <td>0.061</td>\n      <td>2.0</td>\n      <td>15</td>\n      <td>15</td>\n      <td>4</td>\n      <td>0.3</td>\n      <td>Ascent</td>\n    </tr>\n    <tr>\n      <th>0004a</th>\n      <td>/media/callum/storage/Documents/adcp-glider/da...</td>\n      <td>a</td>\n      <td>184.039993</td>\n      <td>0.061</td>\n      <td>2.0</td>\n      <td>15</td>\n      <td>15</td>\n      <td>4</td>\n      <td>0.3</td>\n      <td>Descent</td>\n    </tr>\n    <tr>\n      <th>0004b</th>\n      <td>/media/callum/storage/Documents/adcp-glider/da...</td>\n      <td>b</td>\n      <td>184.039993</td>\n      <td>0.061</td>\n      <td>2.0</td>\n      <td>15</td>\n      <td>15</td>\n      <td>4</td>\n      <td>0.3</td>\n      <td>Ascent</td>\n    </tr>\n    <tr>\n      <th>0005a</th>\n      <td>/media/callum/storage/Documents/adcp-glider/da...</td>\n      <td>a</td>\n      <td>184.039993</td>\n      <td>0.061</td>\n      <td>2.0</td>\n      <td>15</td>\n      <td>15</td>\n      <td>4</td>\n      <td>0.3</td>\n      <td>Descent</td>\n    </tr>\n  </tbody>\n</table>\n</div>"
     },
     "metadata": {},
     "output_type": "execute_result",
     "execution_count": 10
    }
   ],
   "source": [
    "overview.head()"
   ]
  },
  {
   "cell_type": "code",
   "execution_count": 22,
   "metadata": {
    "pycharm": {
     "is_executing": false
    }
   },
   "outputs": [
    {
     "data": {
      "text/plain": "0003a    15\n0003b    15\n0004a    15\n0004b    15\n0005a    15\n0005b    15\n0008b    15\n0009a    15\n0009b    15\n0010a    15\n0010b    15\n0011a    15\n0011b    15\n0012a    15\nName: measurement_interval, dtype: int64"
     },
     "metadata": {},
     "output_type": "execute_result",
     "execution_count": 22
    }
   ],
   "source": [
    "overview['measurement_interval']\n",
    "\n"
   ]
  }
 ],
 "metadata": {
  "kernelspec": {
   "display_name": "Python 3",
   "language": "python",
   "name": "python3"
  },
  "pycharm": {
   "stem_cell": {
    "cell_type": "raw",
    "source": [],
    "metadata": {
     "collapsed": false
    }
   }
  }
 },
 "nbformat": 4,
 "nbformat_minor": 2
}
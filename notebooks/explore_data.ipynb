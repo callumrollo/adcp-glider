{
 "cells": [
  {
   "cell_type": "markdown",
   "metadata": {},
   "source": [
    "First add the data functions to the path"
   ]
  },
  {
   "cell_type": "code",
   "execution_count": null,
   "metadata": {
    "pycharm": {
     "is_executing": false
    }
   },
   "outputs": [],
   "source": [
    "import sys\n",
    "import numpy as np\n",
    "import pandas as pd\n",
    "import copy\n",
    "from netCDF4 import Dataset\n",
    "from pathlib import Path\n",
    "from datetime import datetime\n",
    "notebook_dir = !pwd # Replace with !echo %cd% if using windows\n",
    "library_dir = Path(notebook_dir[0]).parent.absolute()\n",
    "sys.path.append(str(library_dir))\n",
    "data_raw_path = library_dir / 'data' / 'raw'\n",
    "\n",
    "from src.data.adcp_mission_analysis import adcp_import_data, add_dive_averages, read_glider_nc\n",
    "#from src.data.beam_mapping import beam2enu, beam_from_center, caltran"
   ]
  },
  {
   "cell_type": "markdown",
   "metadata": {},
   "source": [
    "Use better plotting defaults"
   ]
  },
  {
   "cell_type": "code",
   "execution_count": null,
   "metadata": {
    "pycharm": {
     "is_executing": false
    }
   },
   "outputs": [],
   "source": [
    "import matplotlib.pyplot as plt\n",
    "from matplotlib import style\n",
    "style_path = library_dir / 'src' / 'visualization' / 'presentation.mplstyle'\n",
    "style.use(str(style_path))"
   ]
  },
  {
   "cell_type": "markdown",
   "metadata": {},
   "source": [
    "Get an overview of the dataset"
   ]
  },
  {
   "cell_type": "code",
   "execution_count": null,
   "metadata": {
    "pycharm": {
     "is_executing": false
    },
    "scrolled": true
   },
   "outputs": [],
   "source": [
    "overview, mission_dict = adcp_import_data(data_raw_path)\n",
    "overview"
   ]
  },
  {
   "cell_type": "markdown",
   "metadata": {},
   "source": [
    "Add beam attributes. These are taken from the fifth cell (11.3 m from the glider on default settings) and averaged over each ascent/descent profile"
   ]
  },
  {
   "cell_type": "code",
   "execution_count": null,
   "metadata": {},
   "outputs": [],
   "source": [
    "beam_attrs, adcp_df = add_dive_averages(overview, mission_dict)\n",
    "beam_attrs\n",
    "# overview.join(beam_attrs)"
   ]
  },
  {
   "cell_type": "code",
   "execution_count": null,
   "metadata": {},
   "outputs": [],
   "source": [
    "beam_attrs.plot(subplots=True,figsize=(20,20),marker='o');"
   ]
  },
  {
   "cell_type": "markdown",
   "metadata": {},
   "source": [
    "See which variables are correlated between the dive limbs"
   ]
  },
  {
   "cell_type": "code",
   "execution_count": null,
   "metadata": {},
   "outputs": [],
   "source": [
    "beam_attrs.corr()"
   ]
  },
  {
   "cell_type": "markdown",
   "metadata": {},
   "source": [
    "Load in glider attitude data for comparison with that from the ADCP. A mismatch may indicate physcal misalignment of the glider and ADCP or a poor calibration of the accelerometers in either unit."
   ]
  },
  {
   "cell_type": "code",
   "execution_count": null,
   "metadata": {},
   "outputs": [],
   "source": [
    "glider_df = read_glider_nc(Path('/home/callum/Documents/Eureka/data/glider-nc-transfer/full-nc'))"
   ]
  },
  {
   "cell_type": "code",
   "execution_count": null,
   "metadata": {},
   "outputs": [],
   "source": [
    "fig, ax = plt.subplots(3,1,figsize=(20,26), sharex=True)\n",
    "ax = ax.ravel()\n",
    "ax[0].scatter(glider_df.index, glider_df.pitch_gl, label='glider')\n",
    "ax[0].scatter(adcp_df.index, adcp_df.pitch_ad, label='adcp')\n",
    "ax[0].set(xlim=[datetime(2020,1,24,0), datetime(2020,1,24,12)], ylim=[-30,30], ylabel='Pitch')\n",
    "ax[1].scatter(glider_df.index, glider_df.roll_gl)\n",
    "ax[1].scatter(adcp_df.index, adcp_df.roll_ad)\n",
    "ax[1].set(ylim=[-20,20], ylabel='Roll')\n",
    "ax[2].scatter(glider_df.index, glider_df.heading_gl)\n",
    "ax[2].scatter(adcp_df.index, adcp_df.heading_ad)\n",
    "ax[2].set(ylim=[50,200], ylabel='Heading')\n",
    "ax[0].legend();"
   ]
  },
  {
   "cell_type": "code",
   "execution_count": null,
   "metadata": {},
   "outputs": [],
   "source": [
    "fig, ax = plt.subplots(figsize=(10,6))\n",
    "ax.scatter(glider_df.index, glider_df.pressure_gl, label='glider')\n",
    "ax.scatter(adcp_df.index, adcp_df.pressure_ad, label='adcp')\n",
    "ax.set(xlim=[datetime(2020,1,24,0), datetime(2020,1,24,12)],ylim = [0,750], ylabel='Pressure (dbar)')\n",
    "ax.legend()"
   ]
  },
  {
   "cell_type": "markdown",
   "metadata": {},
   "source": [
    "After 40 dives, the glider should be trimmed and on deep dives. we will use this as a sample dive to check coordinate transforms"
   ]
  },
  {
   "cell_type": "code",
   "execution_count": null,
   "metadata": {},
   "outputs": [],
   "source": [
    "foo = mission_dict['0041a']\n",
    "bar = mission_dict['0041b']"
   ]
  },
  {
   "cell_type": "markdown",
   "metadata": {},
   "source": [
    "Plot the xyz velocites from one dive cycle. Upper panel dive, lower panel climb"
   ]
  },
  {
   "cell_type": "code",
   "execution_count": null,
   "metadata": {},
   "outputs": [],
   "source": [
    "fig, ax = plt.subplots(2,1, figsize=(12,14), sharex=False)\n",
    "ax = ax.ravel()\n",
    "ax[0].scatter(-foo.glider_w_from_p,foo.vel_xyz[:,0,0][:-1], label='x')\n",
    "ax[0].scatter(-foo.glider_w_from_p,foo.vel_xyz[:,0,1][:-1], label='y')\n",
    "ax[0].scatter(-foo.glider_w_from_p,foo.vel_xyz[:,0,2][:-1], label='z')\n",
    "ax[0].set(xlim=[0,0.2], ylim=[-0.4,0.4],ylabel='xyz water velocity from ADCP m/s')\n",
    "ax[0].legend()\n",
    "ax[1].scatter(-bar.glider_w_from_p,bar.vel_xyz[:,0,0][:-1], label='x')\n",
    "ax[1].scatter(-bar.glider_w_from_p,bar.vel_xyz[:,0,1][:-1], label='y')\n",
    "ax[1].scatter(-bar.glider_w_from_p,bar.vel_xyz[:,0,2][:-1], label='z')\n",
    "ax[1].set(xlim=[-0.25,0.], ylim=[-0.4,0.4], xlabel='w from pressure m/s')"
   ]
  },
  {
   "cell_type": "markdown",
   "metadata": {},
   "source": [
    "As above for enu velocites"
   ]
  },
  {
   "cell_type": "code",
   "execution_count": null,
   "metadata": {},
   "outputs": [],
   "source": [
    "fig, ax = plt.subplots(2,1, figsize=(12,14), sharex=False)\n",
    "ax = ax.ravel()\n",
    "ax[0].scatter(-foo.glider_w_from_p,foo.vel_enu[:,0,0][:-1], label='x')\n",
    "ax[0].scatter(-foo.glider_w_from_p,foo.vel_enu[:,0,1][:-1], label='y')\n",
    "ax[0].scatter(-foo.glider_w_from_p,foo.vel_enu[:,0,2][:-1], label='z')\n",
    "ax[0].set(xlim=[0,0.2], ylim=[-0.4,0.4],ylabel='water velocity from ADCP m/s')\n",
    "ax[0].legend()\n",
    "ax[1].scatter(-bar.glider_w_from_p,bar.vel_enu[:,0,0][:-1], label='x')\n",
    "ax[1].scatter(-bar.glider_w_from_p,bar.vel_enu[:,0,1][:-1], label='y')\n",
    "ax[1].scatter(-bar.glider_w_from_p,bar.vel_enu[:,0,2][:-1], label='z')\n",
    "ax[1].set(xlim=[-0.25,0.], ylim=[-0.4,0.4], xlabel='w from pressure m/s')"
   ]
  },
  {
   "cell_type": "code",
   "execution_count": null,
   "metadata": {},
   "outputs": [],
   "source": [
    "fig, ax = plt.subplots(figsize=(8,8))\n",
    "ax.scatter(foo.vel_xyz[:,0,0][:-1],foo.vel_xyz[:,0,1][:-1], label='dive')\n",
    "ax.scatter(bar.vel_xyz[:,0,0][:-1],bar.vel_xyz[:,0,1][:-1], label='climb')\n",
    "#ax.scatter(-bar.glider_w_from_p,bar.vel_xyz[:,0,1][:-1], label='y')\n",
    "#ax.scatter(-bar.glider_w_from_p,bar.vel_xyz[:,0,2][:-1], label='z')\n",
    "ax.set(xlim=[-0.4,0.4], ylim=[-0.4,0.4], xlabel='x vel (m/s)',ylabel='y vel (m/s)')\n",
    "ax.legend()"
   ]
  },
  {
   "cell_type": "code",
   "execution_count": null,
   "metadata": {},
   "outputs": [],
   "source": [
    "print(len(foo.heading))\n",
    "print(len(foo.vel_enu[:,0,0][:-1]))"
   ]
  },
  {
   "cell_type": "code",
   "execution_count": null,
   "metadata": {},
   "outputs": [],
   "source": [
    "fig, ax = plt.subplots(2,1, sharex=True, figsize=(12,8))\n",
    "ax[0].scatter(foo.heading[:-1], foo.vel_enu[:,0,0][:-1], label='dive eastward')\n",
    "ax[0].scatter(foo.heading[:-1], foo.vel_enu[:,0,1][:-1], label='dive northward')\n",
    "ax[1].scatter(bar.heading[:-1], bar.vel_enu[:,0,0][:-1], label='climb eastward')\n",
    "ax[1].scatter(bar.heading[:-1], bar.vel_enu[:,0,1][:-1], label='climb northward')\n",
    "ax[1].set(xlabel='Heading from North',ylabel='velocity (m/s)')\n",
    "ax[1].legend()\n",
    "ax[0].legend();"
   ]
  },
  {
   "cell_type": "code",
   "execution_count": null,
   "metadata": {},
   "outputs": [],
   "source": [
    "mens = []\n",
    "mene = []\n",
    "menn = []\n",
    "menu = []\n",
    "for ident in list(mission_dict):\n",
    "    mens.append(np.nanmedian(np.abs(mission_dict[ident].vel_enu)))\n",
    "    mene.append(np.nanmedian(mission_dict[ident].vel_enu[:,:,0]))\n",
    "    menn.append(np.nanmedian(mission_dict[ident].vel_enu[:,:,1]))\n",
    "    menu.append(np.nanmedian(mission_dict[ident].vel_enu[:,:,2]))"
   ]
  },
  {
   "cell_type": "code",
   "execution_count": null,
   "metadata": {},
   "outputs": [],
   "source": [
    "xens = []\n",
    "xene = []\n",
    "xenn = []\n",
    "xenu = []\n",
    "for ident in list(mission_dict):\n",
    "    xens.append(np.nanmedian(np.abs(mission_dict[ident].vel_xyz)))\n",
    "    xene.append(np.nanmedian(mission_dict[ident].vel_xyz[:,:,0]))\n",
    "    xenn.append(np.nanmedian(mission_dict[ident].vel_xyz[:,:,1]))\n",
    "    xenu.append(np.nanmedian(mission_dict[ident].vel_xyz[:,:,2]))"
   ]
  },
  {
   "cell_type": "code",
   "execution_count": null,
   "metadata": {},
   "outputs": [],
   "source": [
    "bens = []\n",
    "bene = []\n",
    "benn = []\n",
    "benu = []\n",
    "for ident in list(mission_dict):\n",
    "    bens.append(np.nanmedian(np.abs(mission_dict[ident].vel_beam)))\n",
    "    bene.append(np.nanmedian(mission_dict[ident].vel_beam[:,:,0]))\n",
    "    benn.append(np.nanmedian(mission_dict[ident].vel_beam[:,:,1]))\n",
    "    benu.append(np.nanmedian(mission_dict[ident].vel_beam[:,:,2]))"
   ]
  },
  {
   "cell_type": "markdown",
   "metadata": {},
   "source": [
    "Median beam velocites on descent beams 2,3,4 and ascent beams 1,2,4"
   ]
  },
  {
   "cell_type": "code",
   "execution_count": null,
   "metadata": {},
   "outputs": [],
   "source": [
    "dx = []\n",
    "dy = []\n",
    "dz = []\n",
    "cx = []\n",
    "cy = []\n",
    "cz = []\n",
    "for ident in list(mission_dict):\n",
    "    if ident[-1] == 'a':\n",
    "        dx.append(np.nanmedian(mission_dict[ident].vel_beam[:,:,0]))\n",
    "        dy.append(np.nanmedian(mission_dict[ident].vel_beam[:,:,1]))\n",
    "        dz.append(np.nanmedian(mission_dict[ident].vel_beam[:,:,2]))\n",
    "    else:\n",
    "        cx.append(np.nanmedian(mission_dict[ident].vel_beam[:,:,0]))\n",
    "        cy.append(np.nanmedian(mission_dict[ident].vel_beam[:,:,1]))\n",
    "        cz.append(np.nanmedian(mission_dict[ident].vel_beam[:,:,2]))"
   ]
  },
  {
   "cell_type": "code",
   "execution_count": null,
   "metadata": {},
   "outputs": [],
   "source": [
    "print(np.nanmedian(dx))\n",
    "print(np.nanmedian(dy))\n",
    "print(np.nanmedian(dz))\n",
    "print(np.nanmedian(cx))\n",
    "print(np.nanmedian(cy))\n",
    "print(np.nanmedian(cz))"
   ]
  },
  {
   "cell_type": "markdown",
   "metadata": {},
   "source": [
    "median speed relative to xyz on descent and climb"
   ]
  },
  {
   "cell_type": "code",
   "execution_count": null,
   "metadata": {},
   "outputs": [],
   "source": [
    "dx = []\n",
    "dy = []\n",
    "dz = []\n",
    "cx = []\n",
    "cy = []\n",
    "cz = []\n",
    "for ident in list(mission_dict):\n",
    "    if ident[-1] == 'a':\n",
    "        dx.append(np.nanmedian(mission_dict[ident].vel_xyz[:,:,0]))\n",
    "        dy.append(np.nanmedian(mission_dict[ident].vel_xyz[:,:,1]))\n",
    "        dz.append(np.nanmedian(mission_dict[ident].vel_xyz[:,:,2]))\n",
    "    else:\n",
    "        cx.append(np.nanmedian(mission_dict[ident].vel_xyz[:,:,0]))\n",
    "        cy.append(np.nanmedian(mission_dict[ident].vel_xyz[:,:,1]))\n",
    "        cz.append(np.nanmedian(mission_dict[ident].vel_xyz[:,:,2]))"
   ]
  },
  {
   "cell_type": "code",
   "execution_count": null,
   "metadata": {},
   "outputs": [],
   "source": [
    "print(np.nanmedian(dx))\n",
    "print(np.nanmedian(dy))\n",
    "print(np.nanmedian(dz))\n",
    "print(np.nanmedian(cx))\n",
    "print(np.nanmedian(cy))\n",
    "print(np.nanmedian(cz))"
   ]
  },
  {
   "cell_type": "markdown",
   "metadata": {},
   "source": [
    "Average velocities in xyz and enu"
   ]
  },
  {
   "cell_type": "code",
   "execution_count": null,
   "metadata": {},
   "outputs": [],
   "source": [
    "print(np.nanmedian(np.abs(xene)))\n",
    "print(np.nanmedian(np.abs(xenn)))\n",
    "print(np.nanmedian(np.abs(xenu)))\n",
    "print(np.nanmedian(np.abs(mene)))\n",
    "print(np.nanmedian(np.abs(menn)))\n",
    "print(np.nanmedian(np.abs(menu)))"
   ]
  },
  {
   "cell_type": "markdown",
   "metadata": {},
   "source": [
    "xyz velocites over the mission"
   ]
  },
  {
   "cell_type": "code",
   "execution_count": null,
   "metadata": {},
   "outputs": [],
   "source": [
    "fig, ax = plt.subplots(3,1,figsize=(20,20), sharex=True)\n",
    "ax = ax.ravel()\n",
    "#ax[0].scatter(mene,menn,label='all', c=beam_attrs['pitch'], cmap='RdBu',vmin=-30, vmax=30)\n",
    "ax[0].scatter(np.arange(len(mene)),xene,label='east', c=beam_attrs['pitch'], cmap='RdBu',vmin=-30, vmax=30)\n",
    "ax[1].scatter(np.arange(len(mene)),xenn,label='north', c=beam_attrs['pitch'], cmap='RdBu',vmin=-30, vmax=30)\n",
    "ax[2].scatter(beam_attrs['heading'],xenu,label='up', c=beam_attrs['pitch'], cmap='RdBu',vmin=-30, vmax=30)\n",
    "ax[0].set(ylim=[-0.3,0.3],ylabel='along glider vel')\n",
    "ax[1].set(ylim=[-0.3,0.3], ylabel='across vel')\n",
    "ax[2].set(ylim=[-0.3,0.3],ylabel='upward of glider vel', xlim=[0,360], xlabel='Heading from North');"
   ]
  },
  {
   "cell_type": "markdown",
   "metadata": {},
   "source": [
    "enu velocities over the mission"
   ]
  },
  {
   "cell_type": "code",
   "execution_count": null,
   "metadata": {},
   "outputs": [],
   "source": [
    "fig, ax = plt.subplots(3,1,figsize=(20,20), sharex=True)\n",
    "ax = ax.ravel()\n",
    "#ax[0].scatter(mene,menn,label='all', c=beam_attrs['pitch'], cmap='RdBu',vmin=-30, vmax=30)\n",
    "ax[0].scatter(np.arange(len(mene)),mene,label='east', c=beam_attrs['pitch'], cmap='RdBu',vmin=-30, vmax=30)\n",
    "ax[1].scatter(np.arange(len(mene)),menn,label='north', c=beam_attrs['pitch'], cmap='RdBu',vmin=-30, vmax=30)\n",
    "ax[2].scatter(beam_attrs['heading'],menu,label='up', c=beam_attrs['pitch'], cmap='RdBu',vmin=-30, vmax=30)\n",
    "ax[0].set(ylim=[-0.3,0.3],ylabel='eastward vel')\n",
    "ax[1].set(ylim=[-0.3,0.3], ylabel='northward vel')\n",
    "ax[2].set(ylim=[-0.3,0.3],ylabel='upward vel', xlim=[0,360], xlabel='Heading from North');"
   ]
  }
 ],
 "metadata": {
  "kernelspec": {
   "display_name": "Python 3",
   "language": "python",
   "name": "python3"
  },
  "language_info": {
   "codemirror_mode": {
    "name": "ipython",
    "version": 3
   },
   "file_extension": ".py",
   "mimetype": "text/x-python",
   "name": "python",
   "nbconvert_exporter": "python",
   "pygments_lexer": "ipython3",
   "version": "3.7.5"
  },
  "pycharm": {
   "stem_cell": {
    "cell_type": "raw",
    "metadata": {
     "collapsed": false
    },
    "source": []
   }
  }
 },
 "nbformat": 4,
 "nbformat_minor": 2
}

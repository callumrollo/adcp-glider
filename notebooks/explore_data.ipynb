{
 "cells": [
  {
   "cell_type": "markdown",
   "metadata": {},
   "source": [
    "### First add the data functions to the path"
   ]
  },
  {
   "cell_type": "code",
   "execution_count": 1,
   "metadata": {
    "pycharm": {
     "name": "#%%\n"
    }
   },
   "outputs": [],
   "source": [
    "import sys\n",
    "import numpy as np\n",
    "import pandas as pd\n",
    "import xarray as xr\n",
    "import copy\n",
    "import seaborn as sns\n",
    "from netCDF4 import Dataset\n",
    "from pathlib import Path\n",
    "from datetime import datetime, timedelta\n",
    "notebook_dir = !pwd # Replace with !echo %cd% if using windows\n",
    "library_dir = Path(notebook_dir[0]).parent.absolute()\n",
    "sys.path.append(str(library_dir))\n",
    "data_raw_path = library_dir / 'data' / 'raw' / 'adcp'\n",
    "glider_raw_path = library_dir / 'data' / 'raw' / 'glider'\n",
    "fig_path = library_dir / 'reports' / 'figures'\n",
    "from src.data.adcp_mission_analysis import adcp_import_data, add_dive_averages, read_glider_nc, edgetocentre, savefig\n",
    "#from src.data.beam_mapping import beam2enu, beam_from_center, caltran"
   ]
  },
  {
   "cell_type": "markdown",
   "metadata": {},
   "source": [
    "Use better plotting defaults"
   ]
  },
  {
   "cell_type": "code",
   "execution_count": 2,
   "metadata": {
    "pycharm": {
     "name": "#%%\n"
    }
   },
   "outputs": [],
   "source": [
    "import matplotlib.pyplot as plt\n",
    "from matplotlib import style\n",
    "style_path = library_dir / 'src' / 'visualization' / 'presentation.mplstyle'\n",
    "style.use(str(style_path))"
   ]
  },
  {
   "cell_type": "markdown",
   "metadata": {},
   "source": [
    "### Load the data into Python"
   ]
  },
  {
   "cell_type": "code",
   "execution_count": null,
   "metadata": {
    "pycharm": {
     "name": "#%%\n"
    }
   },
   "outputs": [],
   "source": [
    "overview, mission_dict = adcp_import_data(data_raw_path)\n"
   ]
  },
  {
   "cell_type": "markdown",
   "metadata": {},
   "source": [
    "Add beam attributes. These are taken from the fifth cell (11.3 m from the glider on default settings) and averaged over each ascent/descent profile"
   ]
  },
  {
   "cell_type": "code",
   "execution_count": null,
   "metadata": {
    "pycharm": {
     "name": "#%%\n"
    }
   },
   "outputs": [],
   "source": [
    "beam_attrs, adcp_df = add_dive_averages(overview, mission_dict)\n",
    "beam_attrs\n",
    "# overview.join(beam_attrs)"
   ]
  },
  {
   "cell_type": "code",
   "execution_count": null,
   "metadata": {},
   "outputs": [],
   "source": [
    "adcp_df.head()"
   ]
  },
  {
   "cell_type": "markdown",
   "metadata": {},
   "source": [
    "Check that the data start when you expect. The first file in particular may have data from a previous sim dive or bench test. adapt the following cell to select the data starting on the correct day"
   ]
  },
  {
   "cell_type": "code",
   "execution_count": null,
   "metadata": {},
   "outputs": [],
   "source": [
    "# For this dataset, need to remove the data before 23 Jan they are from 2019 benchtests and 2020 sim dives\n",
    "adcp_df = adcp_df['2020-01-23':]"
   ]
  },
  {
   "cell_type": "code",
   "execution_count": 30,
   "metadata": {},
   "outputs": [],
   "source": []
  },
  {
   "cell_type": "code",
   "execution_count": null,
   "metadata": {
    "pycharm": {
     "name": "#%%\n"
    }
   },
   "outputs": [],
   "source": [
    "beam_attrs.plot(subplots=True,figsize=(20,40),marker='o');\n",
    "savefig('beam_attributes')"
   ]
  },
  {
   "cell_type": "code",
   "execution_count": null,
   "metadata": {},
   "outputs": [],
   "source": [
    "len(np.arange(0,len(beam_attrs.index), 0.5)"
   ]
  },
  {
   "cell_type": "markdown",
   "metadata": {},
   "source": [
    "### Print some key QC parameters from each dive limb"
   ]
  },
  {
   "cell_type": "code",
   "execution_count": null,
   "metadata": {},
   "outputs": [],
   "source": [
    "fig, ax = plt.subplots(5,1, sharex=True, figsize=(14,15))\n",
    "ax = ax.ravel()\n",
    "ax[0].scatter(np.arange(0,len(beam_attrs.index)/2,0.5), beam_attrs.cor_beam_1, label='correlation (%)')\n",
    "ax[1].scatter(np.arange(0,len(beam_attrs.index)/2,0.5), beam_attrs.amp_beam_1, label='return amp (dB)')\n",
    "ax[2].scatter(np.arange(0,len(beam_attrs.index)/2,0.5), np.abs(beam_attrs.pitch), label='|pitch|')\n",
    "ax[3].scatter(np.arange(0,len(beam_attrs.index)/2,0.5), beam_attrs.roll, label='|roll|')\n",
    "ax[3].set(ylim = [0,15])\n",
    "ax[4].scatter(np.arange(0,len(beam_attrs.index)/2,0.5), beam_attrs.beam_miss, label='Beam miss (m)')\n",
    "ax[4].set(ylim = [0,2])\n",
    "for axi in ax:\n",
    "    axi.legend()\n",
    "savefig('beam_attrs_short')"
   ]
  },
  {
   "cell_type": "markdown",
   "metadata": {},
   "source": [
    "See which variables are correlated between the dive limbs"
   ]
  },
  {
   "cell_type": "code",
   "execution_count": null,
   "metadata": {
    "pycharm": {
     "name": "#%%\n"
    }
   },
   "outputs": [],
   "source": [
    "attr_corr = beam_attrs.corr()\n",
    "mask = np.triu(np.ones_like(attr_corr, dtype=np.bool))\n",
    "f, ax = plt.subplots(figsize=(20, 22))\n",
    "sns.heatmap(attr_corr, cmap='RdBu_r', vmin=-1,vmax=1, center=0,\n",
    "            square=True, linewidths=.5, cbar_kws={\"shrink\": .5})"
   ]
  },
  {
   "cell_type": "markdown",
   "metadata": {},
   "source": [
    "Load in glider attitude data for comparison with that from the ADCP"
   ]
  },
  {
   "cell_type": "code",
   "execution_count": 4,
   "metadata": {
    "pycharm": {
     "name": "#%%\n"
    }
   },
   "outputs": [
    {
     "data": {
      "text/html": [
       "<div>\n",
       "<style scoped>\n",
       "    .dataframe tbody tr th:only-of-type {\n",
       "        vertical-align: middle;\n",
       "    }\n",
       "\n",
       "    .dataframe tbody tr th {\n",
       "        vertical-align: top;\n",
       "    }\n",
       "\n",
       "    .dataframe thead th {\n",
       "        text-align: right;\n",
       "    }\n",
       "</style>\n",
       "<table border=\"1\" class=\"dataframe\">\n",
       "  <thead>\n",
       "    <tr style=\"text-align: right;\">\n",
       "      <th></th>\n",
       "      <th>DAC_u</th>\n",
       "      <th>DAC_v</th>\n",
       "      <th>abs_salinity</th>\n",
       "      <th>conductivity</th>\n",
       "      <th>cons_temp</th>\n",
       "      <th>depth</th>\n",
       "      <th>direction</th>\n",
       "      <th>dive</th>\n",
       "      <th>dive_num</th>\n",
       "      <th>lat</th>\n",
       "      <th>...</th>\n",
       "      <th>rho</th>\n",
       "      <th>salinity</th>\n",
       "      <th>salinity_nocorr</th>\n",
       "      <th>sigma0</th>\n",
       "      <th>temp</th>\n",
       "      <th>roll</th>\n",
       "      <th>pitch</th>\n",
       "      <th>heading</th>\n",
       "      <th>w_H2O</th>\n",
       "      <th>glider_time</th>\n",
       "    </tr>\n",
       "  </thead>\n",
       "  <tbody>\n",
       "    <tr>\n",
       "      <th>2020-01-23 14:35:40.870005</th>\n",
       "      <td>-0.084725</td>\n",
       "      <td>0.065625</td>\n",
       "      <td>35.601190</td>\n",
       "      <td>55.756318</td>\n",
       "      <td>26.966234</td>\n",
       "      <td>1.340919</td>\n",
       "      <td>-1.0</td>\n",
       "      <td>1.0</td>\n",
       "      <td>1.0</td>\n",
       "      <td>14.183558</td>\n",
       "      <td>...</td>\n",
       "      <td>1023.058349</td>\n",
       "      <td>35.433673</td>\n",
       "      <td>35.433673</td>\n",
       "      <td>1023.052657</td>\n",
       "      <td>26.980132</td>\n",
       "      <td>10.5</td>\n",
       "      <td>-50.6</td>\n",
       "      <td>97.6</td>\n",
       "      <td>-0.001678</td>\n",
       "      <td>2020-01-23 14:35:40.870005</td>\n",
       "    </tr>\n",
       "    <tr>\n",
       "      <th>2020-01-23 14:35:46.834999</th>\n",
       "      <td>-0.084725</td>\n",
       "      <td>0.065625</td>\n",
       "      <td>35.601343</td>\n",
       "      <td>55.761965</td>\n",
       "      <td>26.971450</td>\n",
       "      <td>1.350925</td>\n",
       "      <td>-1.0</td>\n",
       "      <td>1.0</td>\n",
       "      <td>1.0</td>\n",
       "      <td>14.183558</td>\n",
       "      <td>...</td>\n",
       "      <td>1023.056837</td>\n",
       "      <td>35.433825</td>\n",
       "      <td>35.429688</td>\n",
       "      <td>1023.051102</td>\n",
       "      <td>26.985348</td>\n",
       "      <td>1.4</td>\n",
       "      <td>-55.2</td>\n",
       "      <td>128.8</td>\n",
       "      <td>-0.005775</td>\n",
       "      <td>2020-01-23 14:35:46.834999</td>\n",
       "    </tr>\n",
       "    <tr>\n",
       "      <th>2020-01-23 14:35:54.732995</th>\n",
       "      <td>-0.084725</td>\n",
       "      <td>0.065625</td>\n",
       "      <td>35.605989</td>\n",
       "      <td>55.759010</td>\n",
       "      <td>26.962315</td>\n",
       "      <td>1.420973</td>\n",
       "      <td>-1.0</td>\n",
       "      <td>1.0</td>\n",
       "      <td>1.0</td>\n",
       "      <td>14.183558</td>\n",
       "      <td>...</td>\n",
       "      <td>1023.063478</td>\n",
       "      <td>35.438449</td>\n",
       "      <td>35.436477</td>\n",
       "      <td>1023.057446</td>\n",
       "      <td>26.976428</td>\n",
       "      <td>5.5</td>\n",
       "      <td>-60.7</td>\n",
       "      <td>117.6</td>\n",
       "      <td>-0.014122</td>\n",
       "      <td>2020-01-23 14:35:54.732995</td>\n",
       "    </tr>\n",
       "    <tr>\n",
       "      <th>2020-01-23 14:36:01.007001</th>\n",
       "      <td>-0.084725</td>\n",
       "      <td>0.065625</td>\n",
       "      <td>35.601852</td>\n",
       "      <td>55.760088</td>\n",
       "      <td>26.968771</td>\n",
       "      <td>1.551062</td>\n",
       "      <td>-1.0</td>\n",
       "      <td>1.0</td>\n",
       "      <td>1.0</td>\n",
       "      <td>14.183558</td>\n",
       "      <td>...</td>\n",
       "      <td>1023.058918</td>\n",
       "      <td>35.434331</td>\n",
       "      <td>35.433727</td>\n",
       "      <td>1023.052334</td>\n",
       "      <td>26.982740</td>\n",
       "      <td>-4.3</td>\n",
       "      <td>-64.2</td>\n",
       "      <td>128.3</td>\n",
       "      <td>-0.003273</td>\n",
       "      <td>2020-01-23 14:36:01.007001</td>\n",
       "    </tr>\n",
       "    <tr>\n",
       "      <th>2020-01-23 14:36:06.963999</th>\n",
       "      <td>-0.084725</td>\n",
       "      <td>0.065625</td>\n",
       "      <td>35.612017</td>\n",
       "      <td>55.772225</td>\n",
       "      <td>26.966604</td>\n",
       "      <td>1.461000</td>\n",
       "      <td>-1.0</td>\n",
       "      <td>1.0</td>\n",
       "      <td>1.0</td>\n",
       "      <td>14.183558</td>\n",
       "      <td>...</td>\n",
       "      <td>1023.066718</td>\n",
       "      <td>35.444448</td>\n",
       "      <td>35.442142</td>\n",
       "      <td>1023.060517</td>\n",
       "      <td>26.980960</td>\n",
       "      <td>11.2</td>\n",
       "      <td>-66.4</td>\n",
       "      <td>120.9</td>\n",
       "      <td>0.004194</td>\n",
       "      <td>2020-01-23 14:36:06.963999</td>\n",
       "    </tr>\n",
       "    <tr>\n",
       "      <th>...</th>\n",
       "      <td>...</td>\n",
       "      <td>...</td>\n",
       "      <td>...</td>\n",
       "      <td>...</td>\n",
       "      <td>...</td>\n",
       "      <td>...</td>\n",
       "      <td>...</td>\n",
       "      <td>...</td>\n",
       "      <td>...</td>\n",
       "      <td>...</td>\n",
       "      <td>...</td>\n",
       "      <td>...</td>\n",
       "      <td>...</td>\n",
       "      <td>...</td>\n",
       "      <td>...</td>\n",
       "      <td>...</td>\n",
       "      <td>...</td>\n",
       "      <td>...</td>\n",
       "      <td>...</td>\n",
       "      <td>...</td>\n",
       "      <td>...</td>\n",
       "    </tr>\n",
       "    <tr>\n",
       "      <th>2020-02-16 13:58:34.845004</th>\n",
       "      <td>-0.052225</td>\n",
       "      <td>0.004649</td>\n",
       "      <td>35.711597</td>\n",
       "      <td>55.535589</td>\n",
       "      <td>26.609093</td>\n",
       "      <td>4.433003</td>\n",
       "      <td>1.0</td>\n",
       "      <td>155.0</td>\n",
       "      <td>155.0</td>\n",
       "      <td>14.182904</td>\n",
       "      <td>...</td>\n",
       "      <td>1023.266628</td>\n",
       "      <td>35.543544</td>\n",
       "      <td>35.544124</td>\n",
       "      <td>1023.247793</td>\n",
       "      <td>26.628579</td>\n",
       "      <td>-6.3</td>\n",
       "      <td>37.0</td>\n",
       "      <td>209.2</td>\n",
       "      <td>0.019803</td>\n",
       "      <td>2020-02-16 13:58:34.845004</td>\n",
       "    </tr>\n",
       "    <tr>\n",
       "      <th>2020-02-16 13:58:39.844001</th>\n",
       "      <td>-0.052225</td>\n",
       "      <td>0.004649</td>\n",
       "      <td>35.712441</td>\n",
       "      <td>55.538799</td>\n",
       "      <td>26.611685</td>\n",
       "      <td>3.322260</td>\n",
       "      <td>1.0</td>\n",
       "      <td>155.0</td>\n",
       "      <td>155.0</td>\n",
       "      <td>14.182895</td>\n",
       "      <td>...</td>\n",
       "      <td>1023.261708</td>\n",
       "      <td>35.544389</td>\n",
       "      <td>35.544758</td>\n",
       "      <td>1023.247593</td>\n",
       "      <td>26.630946</td>\n",
       "      <td>-8.9</td>\n",
       "      <td>36.5</td>\n",
       "      <td>219.3</td>\n",
       "      <td>0.043055</td>\n",
       "      <td>2020-02-16 13:58:39.844001</td>\n",
       "    </tr>\n",
       "    <tr>\n",
       "      <th>2020-02-16 13:58:44.847001</th>\n",
       "      <td>-0.052225</td>\n",
       "      <td>0.004649</td>\n",
       "      <td>35.712781</td>\n",
       "      <td>55.540981</td>\n",
       "      <td>26.614227</td>\n",
       "      <td>1.861273</td>\n",
       "      <td>1.0</td>\n",
       "      <td>155.0</td>\n",
       "      <td>155.0</td>\n",
       "      <td>14.182887</td>\n",
       "      <td>...</td>\n",
       "      <td>1023.254946</td>\n",
       "      <td>35.544736</td>\n",
       "      <td>35.544210</td>\n",
       "      <td>1023.247038</td>\n",
       "      <td>26.633164</td>\n",
       "      <td>0.0</td>\n",
       "      <td>23.2</td>\n",
       "      <td>227.3</td>\n",
       "      <td>0.072271</td>\n",
       "      <td>2020-02-16 13:58:44.847001</td>\n",
       "    </tr>\n",
       "    <tr>\n",
       "      <th>2020-02-16 13:58:49.845003</th>\n",
       "      <td>-0.052225</td>\n",
       "      <td>0.004649</td>\n",
       "      <td>35.709926</td>\n",
       "      <td>55.538544</td>\n",
       "      <td>26.616121</td>\n",
       "      <td>1.290884</td>\n",
       "      <td>1.0</td>\n",
       "      <td>155.0</td>\n",
       "      <td>155.0</td>\n",
       "      <td>14.182883</td>\n",
       "      <td>...</td>\n",
       "      <td>1023.249816</td>\n",
       "      <td>35.541897</td>\n",
       "      <td>35.541011</td>\n",
       "      <td>1023.244331</td>\n",
       "      <td>26.634813</td>\n",
       "      <td>-8.5</td>\n",
       "      <td>6.1</td>\n",
       "      <td>234.2</td>\n",
       "      <td>0.064037</td>\n",
       "      <td>2020-02-16 13:58:49.845003</td>\n",
       "    </tr>\n",
       "    <tr>\n",
       "      <th>2020-02-16 13:58:54.848003</th>\n",
       "      <td>-0.052225</td>\n",
       "      <td>0.004649</td>\n",
       "      <td>35.716310</td>\n",
       "      <td>55.492085</td>\n",
       "      <td>26.563365</td>\n",
       "      <td>1.220837</td>\n",
       "      <td>1.0</td>\n",
       "      <td>155.0</td>\n",
       "      <td>155.0</td>\n",
       "      <td>14.182883</td>\n",
       "      <td>...</td>\n",
       "      <td>1023.270957</td>\n",
       "      <td>35.548252</td>\n",
       "      <td>35.568062</td>\n",
       "      <td>1023.265770</td>\n",
       "      <td>26.582361</td>\n",
       "      <td>1.4</td>\n",
       "      <td>4.5</td>\n",
       "      <td>230.0</td>\n",
       "      <td>0.014001</td>\n",
       "      <td>2020-02-16 13:58:54.848003</td>\n",
       "    </tr>\n",
       "  </tbody>\n",
       "</table>\n",
       "<p>374707 rows × 24 columns</p>\n",
       "</div>"
      ],
      "text/plain": [
       "                               DAC_u     DAC_v  abs_salinity  conductivity  \\\n",
       "2020-01-23 14:35:40.870005 -0.084725  0.065625     35.601190     55.756318   \n",
       "2020-01-23 14:35:46.834999 -0.084725  0.065625     35.601343     55.761965   \n",
       "2020-01-23 14:35:54.732995 -0.084725  0.065625     35.605989     55.759010   \n",
       "2020-01-23 14:36:01.007001 -0.084725  0.065625     35.601852     55.760088   \n",
       "2020-01-23 14:36:06.963999 -0.084725  0.065625     35.612017     55.772225   \n",
       "...                              ...       ...           ...           ...   \n",
       "2020-02-16 13:58:34.845004 -0.052225  0.004649     35.711597     55.535589   \n",
       "2020-02-16 13:58:39.844001 -0.052225  0.004649     35.712441     55.538799   \n",
       "2020-02-16 13:58:44.847001 -0.052225  0.004649     35.712781     55.540981   \n",
       "2020-02-16 13:58:49.845003 -0.052225  0.004649     35.709926     55.538544   \n",
       "2020-02-16 13:58:54.848003 -0.052225  0.004649     35.716310     55.492085   \n",
       "\n",
       "                            cons_temp     depth  direction   dive  dive_num  \\\n",
       "2020-01-23 14:35:40.870005  26.966234  1.340919       -1.0    1.0       1.0   \n",
       "2020-01-23 14:35:46.834999  26.971450  1.350925       -1.0    1.0       1.0   \n",
       "2020-01-23 14:35:54.732995  26.962315  1.420973       -1.0    1.0       1.0   \n",
       "2020-01-23 14:36:01.007001  26.968771  1.551062       -1.0    1.0       1.0   \n",
       "2020-01-23 14:36:06.963999  26.966604  1.461000       -1.0    1.0       1.0   \n",
       "...                               ...       ...        ...    ...       ...   \n",
       "2020-02-16 13:58:34.845004  26.609093  4.433003        1.0  155.0     155.0   \n",
       "2020-02-16 13:58:39.844001  26.611685  3.322260        1.0  155.0     155.0   \n",
       "2020-02-16 13:58:44.847001  26.614227  1.861273        1.0  155.0     155.0   \n",
       "2020-02-16 13:58:49.845003  26.616121  1.290884        1.0  155.0     155.0   \n",
       "2020-02-16 13:58:54.848003  26.563365  1.220837        1.0  155.0     155.0   \n",
       "\n",
       "                                  lat  ...          rho   salinity  \\\n",
       "2020-01-23 14:35:40.870005  14.183558  ...  1023.058349  35.433673   \n",
       "2020-01-23 14:35:46.834999  14.183558  ...  1023.056837  35.433825   \n",
       "2020-01-23 14:35:54.732995  14.183558  ...  1023.063478  35.438449   \n",
       "2020-01-23 14:36:01.007001  14.183558  ...  1023.058918  35.434331   \n",
       "2020-01-23 14:36:06.963999  14.183558  ...  1023.066718  35.444448   \n",
       "...                               ...  ...          ...        ...   \n",
       "2020-02-16 13:58:34.845004  14.182904  ...  1023.266628  35.543544   \n",
       "2020-02-16 13:58:39.844001  14.182895  ...  1023.261708  35.544389   \n",
       "2020-02-16 13:58:44.847001  14.182887  ...  1023.254946  35.544736   \n",
       "2020-02-16 13:58:49.845003  14.182883  ...  1023.249816  35.541897   \n",
       "2020-02-16 13:58:54.848003  14.182883  ...  1023.270957  35.548252   \n",
       "\n",
       "                            salinity_nocorr       sigma0       temp  roll  \\\n",
       "2020-01-23 14:35:40.870005        35.433673  1023.052657  26.980132  10.5   \n",
       "2020-01-23 14:35:46.834999        35.429688  1023.051102  26.985348   1.4   \n",
       "2020-01-23 14:35:54.732995        35.436477  1023.057446  26.976428   5.5   \n",
       "2020-01-23 14:36:01.007001        35.433727  1023.052334  26.982740  -4.3   \n",
       "2020-01-23 14:36:06.963999        35.442142  1023.060517  26.980960  11.2   \n",
       "...                                     ...          ...        ...   ...   \n",
       "2020-02-16 13:58:34.845004        35.544124  1023.247793  26.628579  -6.3   \n",
       "2020-02-16 13:58:39.844001        35.544758  1023.247593  26.630946  -8.9   \n",
       "2020-02-16 13:58:44.847001        35.544210  1023.247038  26.633164   0.0   \n",
       "2020-02-16 13:58:49.845003        35.541011  1023.244331  26.634813  -8.5   \n",
       "2020-02-16 13:58:54.848003        35.568062  1023.265770  26.582361   1.4   \n",
       "\n",
       "                            pitch  heading     w_H2O  \\\n",
       "2020-01-23 14:35:40.870005  -50.6     97.6 -0.001678   \n",
       "2020-01-23 14:35:46.834999  -55.2    128.8 -0.005775   \n",
       "2020-01-23 14:35:54.732995  -60.7    117.6 -0.014122   \n",
       "2020-01-23 14:36:01.007001  -64.2    128.3 -0.003273   \n",
       "2020-01-23 14:36:06.963999  -66.4    120.9  0.004194   \n",
       "...                           ...      ...       ...   \n",
       "2020-02-16 13:58:34.845004   37.0    209.2  0.019803   \n",
       "2020-02-16 13:58:39.844001   36.5    219.3  0.043055   \n",
       "2020-02-16 13:58:44.847001   23.2    227.3  0.072271   \n",
       "2020-02-16 13:58:49.845003    6.1    234.2  0.064037   \n",
       "2020-02-16 13:58:54.848003    4.5    230.0  0.014001   \n",
       "\n",
       "                                          glider_time  \n",
       "2020-01-23 14:35:40.870005 2020-01-23 14:35:40.870005  \n",
       "2020-01-23 14:35:46.834999 2020-01-23 14:35:46.834999  \n",
       "2020-01-23 14:35:54.732995 2020-01-23 14:35:54.732995  \n",
       "2020-01-23 14:36:01.007001 2020-01-23 14:36:01.007001  \n",
       "2020-01-23 14:36:06.963999 2020-01-23 14:36:06.963999  \n",
       "...                                               ...  \n",
       "2020-02-16 13:58:34.845004 2020-02-16 13:58:34.845004  \n",
       "2020-02-16 13:58:39.844001 2020-02-16 13:58:39.844001  \n",
       "2020-02-16 13:58:44.847001 2020-02-16 13:58:44.847001  \n",
       "2020-02-16 13:58:49.845003 2020-02-16 13:58:49.845003  \n",
       "2020-02-16 13:58:54.848003 2020-02-16 13:58:54.848003  \n",
       "\n",
       "[374707 rows x 24 columns]"
      ]
     },
     "execution_count": 4,
     "metadata": {},
     "output_type": "execute_result"
    }
   ],
   "source": [
    "glider_df = read_glider_nc(glider_raw_path / 'sg637_full_timeseries.nc')\n",
    "glider_df"
   ]
  },
  {
   "cell_type": "code",
   "execution_count": null,
   "metadata": {},
   "outputs": [],
   "source": [
    "fig, ax = plt.subplots(figsize=(10,6))\n",
    "ax.scatter(glider_df.index, glider_df.pressure, label='glider', s=1)\n",
    "ax.scatter(adcp_df.index, adcp_df.pressure_ad, label='adcp', s=1)\n",
    "ax.set(xlim=[datetime(2020,1,24,0), datetime(2020,1,24,12)],ylim = [-10,750], ylabel='Pressure (dbar)')\n",
    "ax.legend()\n",
    "savefig('pressure_glider_vs_adcp')"
   ]
  },
  {
   "cell_type": "markdown",
   "metadata": {},
   "source": [
    "### Attitude comparison. A mismatch may indicate physcal misalignment of the glider and ADCP or a poor calibration of the accelerometers in either unit."
   ]
  },
  {
   "cell_type": "code",
   "execution_count": null,
   "metadata": {
    "pycharm": {
     "name": "#%%\n"
    }
   },
   "outputs": [],
   "source": [
    "fig, ax = plt.subplots(3,1,figsize=(20,26), sharex=True)\n",
    "ax = ax.ravel()\n",
    "ax[0].scatter(glider_df.index, glider_df.pitch, label='glider')\n",
    "ax[0].scatter(adcp_df.index, adcp_df.pitch_ad, label='adcp')\n",
    "ax[0].set(xlim=[datetime(2020,1,24,0), datetime(2020,1,24,12)], ylim=[-30,30], ylabel='Pitch')\n",
    "ax[1].scatter(glider_df.index, glider_df.roll)\n",
    "ax[1].scatter(adcp_df.index, adcp_df.roll_ad)\n",
    "ax[1].set(ylim=[-20,20], ylabel='Roll')\n",
    "ax[2].scatter(glider_df.index, glider_df.heading)\n",
    "ax[2].scatter(adcp_df.index, adcp_df.heading_ad)\n",
    "ax[2].set(ylim=[50,200], ylabel='Heading')\n",
    "ax[0].legend();\n",
    "savefig('attitude_glider_vs_adcp')"
   ]
  },
  {
   "cell_type": "code",
   "execution_count": 18,
   "metadata": {},
   "outputs": [
    {
     "data": {
      "text/html": [
       "<div>\n",
       "<style scoped>\n",
       "    .dataframe tbody tr th:only-of-type {\n",
       "        vertical-align: middle;\n",
       "    }\n",
       "\n",
       "    .dataframe tbody tr th {\n",
       "        vertical-align: top;\n",
       "    }\n",
       "\n",
       "    .dataframe thead th {\n",
       "        text-align: right;\n",
       "    }\n",
       "</style>\n",
       "<table border=\"1\" class=\"dataframe\">\n",
       "  <thead>\n",
       "    <tr style=\"text-align: right;\">\n",
       "      <th></th>\n",
       "      <th>dive</th>\n",
       "      <th>DAC_u</th>\n",
       "      <th>DAC_v</th>\n",
       "      <th>abs_salinity</th>\n",
       "      <th>conductivity</th>\n",
       "      <th>cons_temp</th>\n",
       "      <th>depth</th>\n",
       "      <th>direction</th>\n",
       "      <th>dive_num</th>\n",
       "      <th>lat</th>\n",
       "      <th>...</th>\n",
       "      <th>profile_num</th>\n",
       "      <th>rho</th>\n",
       "      <th>salinity</th>\n",
       "      <th>salinity_nocorr</th>\n",
       "      <th>sigma0</th>\n",
       "      <th>temp</th>\n",
       "      <th>roll</th>\n",
       "      <th>pitch</th>\n",
       "      <th>heading</th>\n",
       "      <th>w_H2O</th>\n",
       "    </tr>\n",
       "  </thead>\n",
       "  <tbody>\n",
       "    <tr>\n",
       "      <th>0</th>\n",
       "      <td>1.0</td>\n",
       "      <td>-0.084725</td>\n",
       "      <td>0.065625</td>\n",
       "      <td>35.788506</td>\n",
       "      <td>56.160908</td>\n",
       "      <td>27.072773</td>\n",
       "      <td>33.255417</td>\n",
       "      <td>0.011236</td>\n",
       "      <td>1.0</td>\n",
       "      <td>14.183564</td>\n",
       "      <td>...</td>\n",
       "      <td>1.505618</td>\n",
       "      <td>1023.297432</td>\n",
       "      <td>35.620152</td>\n",
       "      <td>35.619861</td>\n",
       "      <td>1023.156442</td>\n",
       "      <td>27.101444</td>\n",
       "      <td>1.566292</td>\n",
       "      <td>-1.967416</td>\n",
       "      <td>134.550000</td>\n",
       "      <td>0.028042</td>\n",
       "    </tr>\n",
       "    <tr>\n",
       "      <th>1</th>\n",
       "      <td>2.0</td>\n",
       "      <td>-0.027886</td>\n",
       "      <td>0.048223</td>\n",
       "      <td>36.331715</td>\n",
       "      <td>56.833781</td>\n",
       "      <td>26.966266</td>\n",
       "      <td>53.898726</td>\n",
       "      <td>-0.003155</td>\n",
       "      <td>2.0</td>\n",
       "      <td>14.184404</td>\n",
       "      <td>...</td>\n",
       "      <td>3.498423</td>\n",
       "      <td>1023.818319</td>\n",
       "      <td>36.120480</td>\n",
       "      <td>36.162095</td>\n",
       "      <td>1023.589964</td>\n",
       "      <td>27.021306</td>\n",
       "      <td>0.399685</td>\n",
       "      <td>-0.372871</td>\n",
       "      <td>129.073817</td>\n",
       "      <td>0.019832</td>\n",
       "    </tr>\n",
       "    <tr>\n",
       "      <th>2</th>\n",
       "      <td>3.0</td>\n",
       "      <td>0.019825</td>\n",
       "      <td>0.040436</td>\n",
       "      <td>36.778769</td>\n",
       "      <td>52.646258</td>\n",
       "      <td>22.459501</td>\n",
       "      <td>133.839393</td>\n",
       "      <td>-0.193585</td>\n",
       "      <td>3.0</td>\n",
       "      <td>14.184532</td>\n",
       "      <td>...</td>\n",
       "      <td>5.403207</td>\n",
       "      <td>1025.794569</td>\n",
       "      <td>36.618923</td>\n",
       "      <td>36.586501</td>\n",
       "      <td>1025.216115</td>\n",
       "      <td>22.542531</td>\n",
       "      <td>-0.081672</td>\n",
       "      <td>-0.825659</td>\n",
       "      <td>138.452234</td>\n",
       "      <td>0.012452</td>\n",
       "    </tr>\n",
       "    <tr>\n",
       "      <th>3</th>\n",
       "      <td>4.0</td>\n",
       "      <td>0.030359</td>\n",
       "      <td>0.042735</td>\n",
       "      <td>36.777865</td>\n",
       "      <td>52.804262</td>\n",
       "      <td>22.612847</td>\n",
       "      <td>131.485829</td>\n",
       "      <td>-0.171717</td>\n",
       "      <td>4.0</td>\n",
       "      <td>14.181947</td>\n",
       "      <td>...</td>\n",
       "      <td>7.414141</td>\n",
       "      <td>1025.741053</td>\n",
       "      <td>36.607575</td>\n",
       "      <td>36.585004</td>\n",
       "      <td>1025.173038</td>\n",
       "      <td>22.695500</td>\n",
       "      <td>-0.216723</td>\n",
       "      <td>-0.356453</td>\n",
       "      <td>142.740516</td>\n",
       "      <td>0.011825</td>\n",
       "    </tr>\n",
       "    <tr>\n",
       "      <th>4</th>\n",
       "      <td>5.0</td>\n",
       "      <td>-0.080348</td>\n",
       "      <td>0.087104</td>\n",
       "      <td>35.999617</td>\n",
       "      <td>45.054329</td>\n",
       "      <td>15.792681</td>\n",
       "      <td>281.282805</td>\n",
       "      <td>-0.326414</td>\n",
       "      <td>5.0</td>\n",
       "      <td>14.190570</td>\n",
       "      <td>...</td>\n",
       "      <td>9.336793</td>\n",
       "      <td>1027.495478</td>\n",
       "      <td>35.829191</td>\n",
       "      <td>35.829509</td>\n",
       "      <td>1026.239128</td>\n",
       "      <td>15.864827</td>\n",
       "      <td>-0.309964</td>\n",
       "      <td>-1.652050</td>\n",
       "      <td>300.519564</td>\n",
       "      <td>0.006344</td>\n",
       "    </tr>\n",
       "    <tr>\n",
       "      <th>...</th>\n",
       "      <td>...</td>\n",
       "      <td>...</td>\n",
       "      <td>...</td>\n",
       "      <td>...</td>\n",
       "      <td>...</td>\n",
       "      <td>...</td>\n",
       "      <td>...</td>\n",
       "      <td>...</td>\n",
       "      <td>...</td>\n",
       "      <td>...</td>\n",
       "      <td>...</td>\n",
       "      <td>...</td>\n",
       "      <td>...</td>\n",
       "      <td>...</td>\n",
       "      <td>...</td>\n",
       "      <td>...</td>\n",
       "      <td>...</td>\n",
       "      <td>...</td>\n",
       "      <td>...</td>\n",
       "      <td>...</td>\n",
       "      <td>...</td>\n",
       "    </tr>\n",
       "    <tr>\n",
       "      <th>150</th>\n",
       "      <td>151.0</td>\n",
       "      <td>-0.046879</td>\n",
       "      <td>0.051728</td>\n",
       "      <td>36.326764</td>\n",
       "      <td>55.978509</td>\n",
       "      <td>26.275013</td>\n",
       "      <td>56.721289</td>\n",
       "      <td>0.215827</td>\n",
       "      <td>151.0</td>\n",
       "      <td>14.181836</td>\n",
       "      <td>...</td>\n",
       "      <td>301.607914</td>\n",
       "      <td>1023.998873</td>\n",
       "      <td>36.155907</td>\n",
       "      <td>36.090675</td>\n",
       "      <td>1023.757920</td>\n",
       "      <td>26.327814</td>\n",
       "      <td>0.293525</td>\n",
       "      <td>1.868345</td>\n",
       "      <td>143.435252</td>\n",
       "      <td>0.016740</td>\n",
       "    </tr>\n",
       "    <tr>\n",
       "      <th>151</th>\n",
       "      <td>152.0</td>\n",
       "      <td>-0.043818</td>\n",
       "      <td>0.066245</td>\n",
       "      <td>36.304310</td>\n",
       "      <td>55.902495</td>\n",
       "      <td>26.217850</td>\n",
       "      <td>56.198868</td>\n",
       "      <td>0.208791</td>\n",
       "      <td>152.0</td>\n",
       "      <td>14.181038</td>\n",
       "      <td>...</td>\n",
       "      <td>303.604396</td>\n",
       "      <td>1024.007212</td>\n",
       "      <td>36.140944</td>\n",
       "      <td>36.081682</td>\n",
       "      <td>1023.768399</td>\n",
       "      <td>26.270034</td>\n",
       "      <td>-0.075458</td>\n",
       "      <td>1.900733</td>\n",
       "      <td>139.268132</td>\n",
       "      <td>0.021857</td>\n",
       "    </tr>\n",
       "    <tr>\n",
       "      <th>152</th>\n",
       "      <td>153.0</td>\n",
       "      <td>-0.034167</td>\n",
       "      <td>0.094024</td>\n",
       "      <td>36.282977</td>\n",
       "      <td>56.001032</td>\n",
       "      <td>26.265209</td>\n",
       "      <td>55.731900</td>\n",
       "      <td>0.213235</td>\n",
       "      <td>153.0</td>\n",
       "      <td>14.181103</td>\n",
       "      <td>...</td>\n",
       "      <td>305.606618</td>\n",
       "      <td>1024.013115</td>\n",
       "      <td>36.112326</td>\n",
       "      <td>36.112418</td>\n",
       "      <td>1023.776336</td>\n",
       "      <td>26.318556</td>\n",
       "      <td>1.999265</td>\n",
       "      <td>2.547059</td>\n",
       "      <td>110.813235</td>\n",
       "      <td>0.025878</td>\n",
       "    </tr>\n",
       "    <tr>\n",
       "      <th>153</th>\n",
       "      <td>154.0</td>\n",
       "      <td>-0.130354</td>\n",
       "      <td>0.113996</td>\n",
       "      <td>36.259643</td>\n",
       "      <td>55.894545</td>\n",
       "      <td>26.273623</td>\n",
       "      <td>55.570657</td>\n",
       "      <td>0.200000</td>\n",
       "      <td>154.0</td>\n",
       "      <td>14.183252</td>\n",
       "      <td>...</td>\n",
       "      <td>307.600000</td>\n",
       "      <td>1023.951384</td>\n",
       "      <td>36.094793</td>\n",
       "      <td>36.032169</td>\n",
       "      <td>1023.715289</td>\n",
       "      <td>26.323838</td>\n",
       "      <td>0.276400</td>\n",
       "      <td>2.684800</td>\n",
       "      <td>47.927600</td>\n",
       "      <td>0.027976</td>\n",
       "    </tr>\n",
       "    <tr>\n",
       "      <th>154</th>\n",
       "      <td>155.0</td>\n",
       "      <td>-0.052225</td>\n",
       "      <td>0.004649</td>\n",
       "      <td>36.377041</td>\n",
       "      <td>56.089448</td>\n",
       "      <td>26.221576</td>\n",
       "      <td>60.483853</td>\n",
       "      <td>0.072340</td>\n",
       "      <td>155.0</td>\n",
       "      <td>14.183986</td>\n",
       "      <td>...</td>\n",
       "      <td>309.536170</td>\n",
       "      <td>1024.116242</td>\n",
       "      <td>36.205951</td>\n",
       "      <td>36.204737</td>\n",
       "      <td>1023.859289</td>\n",
       "      <td>26.279666</td>\n",
       "      <td>-0.525957</td>\n",
       "      <td>0.476170</td>\n",
       "      <td>172.504255</td>\n",
       "      <td>0.019649</td>\n",
       "    </tr>\n",
       "  </tbody>\n",
       "</table>\n",
       "<p>155 rows × 23 columns</p>\n",
       "</div>"
      ],
      "text/plain": [
       "      dive     DAC_u     DAC_v  abs_salinity  conductivity  cons_temp  \\\n",
       "0      1.0 -0.084725  0.065625     35.788506     56.160908  27.072773   \n",
       "1      2.0 -0.027886  0.048223     36.331715     56.833781  26.966266   \n",
       "2      3.0  0.019825  0.040436     36.778769     52.646258  22.459501   \n",
       "3      4.0  0.030359  0.042735     36.777865     52.804262  22.612847   \n",
       "4      5.0 -0.080348  0.087104     35.999617     45.054329  15.792681   \n",
       "..     ...       ...       ...           ...           ...        ...   \n",
       "150  151.0 -0.046879  0.051728     36.326764     55.978509  26.275013   \n",
       "151  152.0 -0.043818  0.066245     36.304310     55.902495  26.217850   \n",
       "152  153.0 -0.034167  0.094024     36.282977     56.001032  26.265209   \n",
       "153  154.0 -0.130354  0.113996     36.259643     55.894545  26.273623   \n",
       "154  155.0 -0.052225  0.004649     36.377041     56.089448  26.221576   \n",
       "\n",
       "          depth  direction  dive_num        lat  ...  profile_num  \\\n",
       "0     33.255417   0.011236       1.0  14.183564  ...     1.505618   \n",
       "1     53.898726  -0.003155       2.0  14.184404  ...     3.498423   \n",
       "2    133.839393  -0.193585       3.0  14.184532  ...     5.403207   \n",
       "3    131.485829  -0.171717       4.0  14.181947  ...     7.414141   \n",
       "4    281.282805  -0.326414       5.0  14.190570  ...     9.336793   \n",
       "..          ...        ...       ...        ...  ...          ...   \n",
       "150   56.721289   0.215827     151.0  14.181836  ...   301.607914   \n",
       "151   56.198868   0.208791     152.0  14.181038  ...   303.604396   \n",
       "152   55.731900   0.213235     153.0  14.181103  ...   305.606618   \n",
       "153   55.570657   0.200000     154.0  14.183252  ...   307.600000   \n",
       "154   60.483853   0.072340     155.0  14.183986  ...   309.536170   \n",
       "\n",
       "             rho   salinity  salinity_nocorr       sigma0       temp  \\\n",
       "0    1023.297432  35.620152        35.619861  1023.156442  27.101444   \n",
       "1    1023.818319  36.120480        36.162095  1023.589964  27.021306   \n",
       "2    1025.794569  36.618923        36.586501  1025.216115  22.542531   \n",
       "3    1025.741053  36.607575        36.585004  1025.173038  22.695500   \n",
       "4    1027.495478  35.829191        35.829509  1026.239128  15.864827   \n",
       "..           ...        ...              ...          ...        ...   \n",
       "150  1023.998873  36.155907        36.090675  1023.757920  26.327814   \n",
       "151  1024.007212  36.140944        36.081682  1023.768399  26.270034   \n",
       "152  1024.013115  36.112326        36.112418  1023.776336  26.318556   \n",
       "153  1023.951384  36.094793        36.032169  1023.715289  26.323838   \n",
       "154  1024.116242  36.205951        36.204737  1023.859289  26.279666   \n",
       "\n",
       "         roll     pitch     heading     w_H2O  \n",
       "0    1.566292 -1.967416  134.550000  0.028042  \n",
       "1    0.399685 -0.372871  129.073817  0.019832  \n",
       "2   -0.081672 -0.825659  138.452234  0.012452  \n",
       "3   -0.216723 -0.356453  142.740516  0.011825  \n",
       "4   -0.309964 -1.652050  300.519564  0.006344  \n",
       "..        ...       ...         ...       ...  \n",
       "150  0.293525  1.868345  143.435252  0.016740  \n",
       "151 -0.075458  1.900733  139.268132  0.021857  \n",
       "152  1.999265  2.547059  110.813235  0.025878  \n",
       "153  0.276400  2.684800   47.927600  0.027976  \n",
       "154 -0.525957  0.476170  172.504255  0.019649  \n",
       "\n",
       "[155 rows x 23 columns]"
      ]
     },
     "execution_count": 18,
     "metadata": {},
     "output_type": "execute_result"
    }
   ],
   "source": [
    "glider_av_df = glider_df.groupby('dive', as_index=False).mean()\n",
    "glider_av_df"
   ]
  },
  {
   "cell_type": "code",
   "execution_count": 31,
   "metadata": {
    "pycharm": {
     "name": "#%%\n"
    }
   },
   "outputs": [
    {
     "data": {
      "image/png": "[encoded data removed]",
      "text/plain": [
       "<Figure size 1152x1008 with 2 Axes>"
      ]
     },
     "metadata": {
      "needs_background": "light"
     },
     "output_type": "display_data"
    }
   ],
   "source": [
    "fig, ax = plt.subplots(2,1,figsize=(16,14), sharex=True)\n",
    "ax = ax.ravel()\n",
    "ax[0].scatter(glider_av_df.dive_num, glider_av_df.DAC_u)\n",
    "ax[1].scatter(glider_av_df.dive_num, glider_av_df.DAC_v)\n",
    "ax[0].set(ylabel='DAC u $(\\mathrm{m\\ s^{-1}})$', ylim=[-0.2, 0.2])\n",
    "ax[1].set(ylabel='DAC v $(\\mathrm{m\\ s^{-1}})$', xlabel='Dive number', ylim=[-0.2, 0.2])\n",
    "savefig('DAC_by_dive')"
   ]
  },
  {
   "cell_type": "code",
   "execution_count": 32,
   "metadata": {},
   "outputs": [
    {
     "data": {
      "image/png": "[encoded data removed]",
      "text/plain": [
       "<Figure size 1152x1008 with 2 Axes>"
      ]
     },
     "metadata": {
      "needs_background": "light"
     },
     "output_type": "display_data"
    }
   ],
   "source": [
    "fig, ax = plt.subplots(2,1,figsize=(16,14), sharex=True)\n",
    "ax = ax.ravel()\n",
    "ax[0].scatter(glider_av_df.heading, glider_av_df.DAC_u)\n",
    "ax[1].scatter(glider_av_df.heading, glider_av_df.DAC_v)\n",
    "ax[0].set(ylabel='DAC u $(\\mathrm{m\\ s^{-1}})$', ylim=[-0.2, 0.2])\n",
    "ax[1].set(ylabel='DAC v $(\\mathrm{m\\ s^{-1}})$', xlabel='Mean heading', ylim=[-0.2, 0.2], xlim=[0,360])\n",
    "savefig('DAC_by_heading')"
   ]
  },
  {
   "cell_type": "code",
   "execution_count": null,
   "metadata": {},
   "outputs": [],
   "source": [
    "def edgetocentre(x_in):\n",
    "    x_out = np.array(x_in)\n",
    "    return (np.nanmean([x_out[1:], x_out[:-1]], axis=0))"
   ]
  },
  {
   "cell_type": "code",
   "execution_count": null,
   "metadata": {},
   "outputs": [],
   "source": [
    "dive_vel[:,1,0][:-1]"
   ]
  },
  {
   "cell_type": "code",
   "execution_count": null,
   "metadata": {},
   "outputs": [],
   "source": [
    "def glider_vel(mission_dict, cell=1):\n",
    "    asc_wp, asc_u, asc_v, asc_w, asc_dive_no = [], [], [], [], []\n",
    "    des_wp, des_u, des_v, des_w, des_dive_no = [], [], [], [], []\n",
    "\n",
    "    for item in list(mission_dict):\n",
    "        print(item)\n",
    "        dive = mission_dict[item]\n",
    "        flagger = copy.deepcopy(dive.flag_bad_data)\n",
    "        for i in range(np.size(flagger,1)):\n",
    "            flagger[:,i,:] = flagger[:,3,:]\n",
    "        dive_vel = copy.deepcopy(dive.vel_xyz)\n",
    "        #dive_vel[flagger] = np.nan\n",
    "        if item[-1] == 'a':\n",
    "            des_u.append(edgetocentre(dive_vel[:,cell,0]))\n",
    "            des_v.append(edgetocentre(dive_vel[:,cell,1]))\n",
    "            des_w.append(edgetocentre(dive_vel[:,cell,2]))\n",
    "            des_wp.append(dive.glider_w_from_p)\n",
    "            dive_no = np.empty((len(dive.glider_w_from_p)))\n",
    "            dive_no[:] = float(str(item)[:-1])\n",
    "            des_dive_no.append(dive_no)\n",
    "        else:\n",
    "            asc_u.append(edgetocentre(dive_vel[:,cell,0]))\n",
    "            asc_v.append(edgetocentre(dive_vel[:,cell,1]))\n",
    "            asc_w.append(edgetocentre(dive_vel[:,cell,2]))\n",
    "            asc_wp.append(dive.glider_w_from_p) \n",
    "            dive_no = np.empty((len(dive.glider_w_from_p)))\n",
    "            dive_no[:] = float(str(item)[:-1])\n",
    "            asc_dive_no.append(dive_no)\n",
    "    des_df = pd.DataFrame({'dive_no':[item for sublist in des_dive_no for item in sublist], 'u':[item for sublist in des_u for item in sublist], 'v': [item for sublist in des_v for item in sublist], 'w':[item for sublist in des_w for item in sublist], 'w_from_p':[item for sublist in des_wp for item in sublist]}, index=None)\n",
    "    asc_df = pd.DataFrame({'dive_no':[item for sublist in asc_dive_no for item in sublist], 'u':[item for sublist in asc_u for item in sublist], 'v': [item for sublist in asc_v for item in sublist], 'w':[item for sublist in asc_w for item in sublist], 'w_from_p':[item for sublist in asc_wp for item in sublist]}, index=None)\n",
    "    return des_df, asc_df\n",
    "des_df, asc_df = glider_vel(mission_dict)"
   ]
  },
  {
   "cell_type": "code",
   "execution_count": null,
   "metadata": {},
   "outputs": [],
   "source": [
    "dive = mission_dict['0041a']\n",
    "flagger = copy.deepcopy(dive.flag_bad_data)\n",
    "for cell in range(np.size(flagger,1)):\n",
    "    flagger[:,cell,:] = flagger[:,3,:]\n",
    "dive_vel = copy.deepcopy(dive.vel_xyz)\n",
    "dive_vel[:,1,0][:-1]"
   ]
  },
  {
   "cell_type": "code",
   "execution_count": null,
   "metadata": {},
   "outputs": [],
   "source": [
    "ax[0].scatter(-foo.glider_w_from_p,foo.vel_xyz[:,1,0][:-1], label='x')"
   ]
  },
  {
   "cell_type": "code",
   "execution_count": null,
   "metadata": {},
   "outputs": [],
   "source": [
    "dive_vel[:,cell,0]"
   ]
  },
  {
   "cell_type": "code",
   "execution_count": null,
   "metadata": {},
   "outputs": [],
   "source": [
    "mission_dict['0041b'].flag_bad_data[:,3,:]"
   ]
  },
  {
   "cell_type": "code",
   "execution_count": null,
   "metadata": {},
   "outputs": [],
   "source": [
    "sub_df = asc_df[asc_df.dive_no== 41.0]\n",
    "sub_df.describe()"
   ]
  },
  {
   "cell_type": "code",
   "execution_count": null,
   "metadata": {},
   "outputs": [],
   "source": [
    "des_df.describe()"
   ]
  },
  {
   "cell_type": "code",
   "execution_count": null,
   "metadata": {},
   "outputs": [],
   "source": [
    "asc_df.describe()"
   ]
  },
  {
   "cell_type": "code",
   "execution_count": null,
   "metadata": {},
   "outputs": [],
   "source": [
    "sub_df = asc_df[asc_df.dive_no== 41.0]\n",
    "sub_df.describe()asc_df.corr()"
   ]
  },
  {
   "cell_type": "code",
   "execution_count": null,
   "metadata": {},
   "outputs": [],
   "source": []
  },
  {
   "cell_type": "code",
   "execution_count": null,
   "metadata": {},
   "outputs": [],
   "source": []
  },
  {
   "cell_type": "code",
   "execution_count": null,
   "metadata": {},
   "outputs": [],
   "source": [
    "fig, ax = plt.subplots(1,2,figsize=(20,10), sharey=True)\n",
    "ax = ax.ravel()\n",
    "ax[0].scatter(-des_df.u, des_df.w_from_p, s = 0.5, label='Dive')\n",
    "ax[0].scatter(-asc_df.u, asc_df.w_from_p, s = 0.5, label='Climb')\n",
    "ax[0].set(xlim=[0, 0.6], ylim=[-0.3, 0.3], xlabel='Glider forward speed from ADCP', ylabel='Vertical speed from pressure')\n",
    "ax[0].legend()\n",
    "\n",
    "ax[1].scatter(-des_df.v, des_df.w_from_p, s = 0.5, label='Dive')\n",
    "ax[1].scatter(-asc_df.v, asc_df.w_from_p, s = 0.5, label='Climb')\n",
    "ax[1].set(xlim=[-0.2,0.2], ylim=[-0.3, 0.3], xlabel='Glider cross speed from ADCP')\n",
    "savefig('all_speed_pressure')\n"
   ]
  },
  {
   "cell_type": "code",
   "execution_count": null,
   "metadata": {},
   "outputs": [],
   "source": [
    "g = sns.jointplot(des_df.u, des_df.w_from_p, height=12, space=0, xlim=(-0.6, 0.0), ylim=(-0.3, -0.04))\n",
    "savefig('seaborn_den_scat')"
   ]
  },
  {
   "cell_type": "code",
   "execution_count": null,
   "metadata": {},
   "outputs": [],
   "source": [
    "g = sns.jointplot(asc_df.u, asc_df.w_from_p, kind=\"kde\", height=12, space=0, xlim=(-1, 0.2), ylim=(0.06, 0.14))"
   ]
  },
  {
   "cell_type": "code",
   "execution_count": null,
   "metadata": {},
   "outputs": [],
   "source": [
    "asc_df.corr()"
   ]
  },
  {
   "cell_type": "markdown",
   "metadata": {},
   "source": [
    "Plot the xyz velocites from one dive cycle. Upper panel dive, lower panel climb"
   ]
  },
  {
   "cell_type": "code",
   "execution_count": null,
   "metadata": {},
   "outputs": [],
   "source": [
    "foo = mission_dict['0061a']\n",
    "bar = mission_dict['0061b']"
   ]
  },
  {
   "cell_type": "code",
   "execution_count": null,
   "metadata": {},
   "outputs": [],
   "source": []
  },
  {
   "cell_type": "code",
   "execution_count": null,
   "metadata": {},
   "outputs": [],
   "source": [
    "sub_df = asc_df[asc_df.dive_no== 41.0]\n",
    "fig,ax = plt.subplots(figsize=(10,8))\n",
    "ax.scatter(sub_df.w_from_p, sub_df.u)\n",
    "#ax.set(xlim=[-0.5, 0.5], ylim=[-0.5, 0.5])"
   ]
  },
  {
   "cell_type": "code",
   "execution_count": null,
   "metadata": {},
   "outputs": [],
   "source": [
    "sub_df"
   ]
  },
  {
   "cell_type": "code",
   "execution_count": null,
   "metadata": {},
   "outputs": [],
   "source": [
    "dive = mission_dict['0041a']\n",
    "flagger = copy.deepcopy(dive.flag_bad_data)\n",
    "for cell in range(np.size(flagger,1)):\n",
    "    flagger[:,cell,:] = flagger[:,3,:]\n",
    "dive_vel = copy.deepcopy(dive.vel_xyz)\n",
    "dive_vel[:,1,0][:-1]"
   ]
  },
  {
   "cell_type": "code",
   "execution_count": null,
   "metadata": {},
   "outputs": [],
   "source": [
    "np.round(edgetocentre(foo.vel_xyz[:,1,0]) - des_df.u.values,2)"
   ]
  },
  {
   "cell_type": "code",
   "execution_count": null,
   "metadata": {},
   "outputs": [],
   "source": [
    "des_df.u"
   ]
  },
  {
   "cell_type": "code",
   "execution_count": null,
   "metadata": {
    "pycharm": {
     "name": "#%%\n"
    }
   },
   "outputs": [],
   "source": [
    "fig, ax = plt.subplots(2,1, figsize=(12,14), sharex=False)\n",
    "ax = ax.ravel()\n",
    "ax[0].scatter(-foo.glider_w_from_p,foo.vel_xyz[:,1,0][:-1], label='x')\n",
    "ax[0].scatter(-foo.glider_w_from_p,foo.vel_xyz[:,1,1][:-1], label='y')\n",
    "#ax[0].scatter(-foo.glider_w_from_p,foo.vel_xyz[:,1,2][:-1], label='z')\n",
    "ax[0].set(xlim=[0,0.2], ylim=[-0.4,0.4],ylabel='xyz water velocity from ADCP m/s')\n",
    "ax[0].legend()\n",
    "ax[1].scatter(-bar.glider_w_from_p,bar.vel_xyz[:,1,0][:-1], label='x')\n",
    "ax[1].scatter(-bar.glider_w_from_p,bar.vel_xyz[:,1,1][:-1], label='y')\n",
    "#ax[1].scatter(-bar.glider_w_from_p,bar.vel_xyz[:,1,2][:-1], label='z')\n",
    "ax[1].set(xlim=[-0.25,0.], ylim=[-0.4,0.4], xlabel='w from pressure m/s')\n",
    "#savefig('xyz_vel_dive41')"
   ]
  },
  {
   "cell_type": "code",
   "execution_count": null,
   "metadata": {},
   "outputs": [],
   "source": [
    "fig, ax = plt.subplots(2,1, figsize=(12,14), sharex=False)\n",
    "ax = ax.ravel()\n",
    "ax[0].scatter(tl, -foo.measurement_z, c=foo.cor_beam[:,:,2],  label='x')\n",
    "#ax[0].scatter(-foo.glider_w_from_p,foo.vel_xyz[:,1,1][:-1], label='y')\n",
    "#ax[0].scatter(-foo.glider_w_from_p,foo.vel_xyz[:,1,2][:-1], label='z')\n",
    "#ax[0].set(xlim=[0,0.2], ylim=[-0.4,0.4],ylabel='xyz water velocity from ADCP m/s')\n",
    "ax[0].legend()\n",
    "ax[1].scatter(-bar.glider_w_from_p,bar.vel_xyz[:,1,0][:-1], label='x')\n",
    "ax[1].scatter(-bar.glider_w_from_p,bar.vel_xyz[:,1,1][:-1], label='y')\n",
    "#ax[1].scatter(-bar.glider_w_from_p,bar.vel_xyz[:,1,2][:-1], label='z')\n",
    "ax[1].set(xlim=[-0.25,0.], ylim=[-0.4,0.4], xlabel='w from pressure m/s')\n",
    "#savefig('xyz_vel_dive41')"
   ]
  },
  {
   "cell_type": "code",
   "execution_count": null,
   "metadata": {},
   "outputs": [],
   "source": [
    "foo.cor_beam[:,:,2]\n",
    "foo.measurement_z\n",
    "tl = np.transpose(np.tile(foo.time, (15,1)))\n",
    "tl2 = np.transpose(np.tile(bar.time, (15,1)))"
   ]
  },
  {
   "cell_type": "code",
   "execution_count": null,
   "metadata": {},
   "outputs": [],
   "source": [
    "fig, ax = plt.subplots(figsize=(12,14))\n",
    "\n",
    "mp0 = ax.scatter(tl, foo.measurement_z, c=foo.cor_beam[:,:,2], vmin=0, vmax=100,cmap='RdBu',s=10)\n",
    "ax.scatter(tl2, bar.measurement_z, c=bar.cor_beam[:,:,2], vmin=0, vmax=100,cmap='RdBu',s=10)\n",
    "fig.colorbar(ax = ax,mappable=mp0, label='Ping correlation %')\n",
    "ax.set(xlim=[tl[0,0], tl2[-1,-1]], ylabel='z (m)')\n",
    "savefig('correlation')"
   ]
  },
  {
   "cell_type": "code",
   "execution_count": null,
   "metadata": {},
   "outputs": [],
   "source": [
    "fig, ax = plt.subplots(figsize=(12,14))\n",
    "\n",
    "mp0 = ax.scatter(tl, foo.measurement_z, c=foo.beam_miss, vmin=0, vmax=2,cmap='RdBu_r',s=10)\n",
    "ax.scatter(tl2, bar.measurement_z, c=bar.beam_miss, vmin=0, vmax=2,cmap='RdBu_r',s=10)\n",
    "fig.colorbar(ax = ax,mappable=mp0, label='Beam miss (m)')\n",
    "ax.set(xlim=[tl[0,0], tl2[-1,-1]], ylabel='z (m)')\n",
    "savefig('beam_miss')"
   ]
  },
  {
   "cell_type": "code",
   "execution_count": null,
   "metadata": {},
   "outputs": [],
   "source": [
    "foo.beam_miss"
   ]
  },
  {
   "cell_type": "code",
   "execution_count": null,
   "metadata": {},
   "outputs": [],
   "source": [
    "np.shape(foo.measurement_z)"
   ]
  },
  {
   "cell_type": "markdown",
   "metadata": {},
   "source": [
    "As above for enu velocites"
   ]
  },
  {
   "cell_type": "code",
   "execution_count": null,
   "metadata": {
    "pycharm": {
     "name": "#%%\n"
    }
   },
   "outputs": [],
   "source": [
    "fig, ax = plt.subplots(2,1, figsize=(12,14), sharex=False)\n",
    "ax = ax.ravel()\n",
    "ax[0].scatter(-foo.glider_w_from_p,foo.vel_enu[:,0,0][:-1], label='x')\n",
    "ax[0].scatter(-foo.glider_w_from_p,foo.vel_enu[:,0,1][:-1], label='y')\n",
    "#ax[0].scatter(-foo.glider_w_from_p,foo.vel_enu[:,0,2][:-1], label='z')\n",
    "ax[0].set(xlim=[0,0.2], ylim=[-0.4,0.4],ylabel='water velocity from ADCP m/s')\n",
    "ax[0].legend()\n",
    "ax[1].scatter(-bar.glider_w_from_p,bar.vel_enu[:,0,0][:-1], label='x')\n",
    "ax[1].scatter(-bar.glider_w_from_p,bar.vel_enu[:,0,1][:-1], label='y')\n",
    "#ax[1].scatter(-bar.glider_w_from_p,bar.vel_enu[:,0,2][:-1], label='z')\n",
    "ax[1].set(xlim=[-0.25,0.], ylim=[-0.4,0.4], xlabel='w from pressure m/s')\n",
    "savefig('enu_vel_dive41')"
   ]
  },
  {
   "cell_type": "code",
   "execution_count": null,
   "metadata": {
    "pycharm": {
     "name": "#%%\n"
    }
   },
   "outputs": [],
   "source": [
    "all_the_shear = np.empty((len(mission_dict),100,3))\n",
    "all_the_amp = np.empty((len(mission_dict),100,3))\n",
    "\n",
    "in_bin = np.empty((len(mission_dict), 100))\n",
    "for i, dive in enumerate(mission_dict.keys()):\n",
    "    all_the_shear[i,:,:] = mission_dict[dive].vel_referenced\n",
    "    in_bin[i,:] = mission_dict[dive].no_in_bin\n",
    "    all_the_amp[i,:] = mission_dict[dive].amp_binned\n"
   ]
  },
  {
   "cell_type": "code",
   "execution_count": null,
   "metadata": {
    "pycharm": {
     "name": "#%%\n"
    }
   },
   "outputs": [],
   "source": [
    "np.shape(all_the_amp)"
   ]
  },
  {
   "cell_type": "code",
   "execution_count": null,
   "metadata": {
    "pycharm": {
     "name": "#%%\n"
    }
   },
   "outputs": [],
   "source": [
    "fig, ax = plt.subplots(figsize=(15,10))\n",
    "nos = ax.pcolor(np.arange(0,len(overview.index)/2,0.5), np.arange(-1000,10,10),np.transpose(np.nanmean(all_the_amp,2)),vmin=30, vmax=40, cmap='RdBu')\n",
    "ax.set(ylim=[-760,0], ylabel='z (m)', xlabel='Dive number', label='return_amp')\n",
    "fig.colorbar(mappable=nos,ax=ax)\n",
    "savefig('return_amp')"
   ]
  },
  {
   "cell_type": "markdown",
   "metadata": {},
   "source": [
    "Check how many adcp velocity shear measurements were used in each cell of the velocity profile"
   ]
  },
  {
   "cell_type": "code",
   "execution_count": null,
   "metadata": {
    "pycharm": {
     "name": "#%%\n"
    }
   },
   "outputs": [],
   "source": [
    "fig, ax = plt.subplots(figsize=(15,10))\n",
    "nos = ax.pcolor(np.arange(0,len(overview.index)/2,0.5), np.arange(-1000,10,10),np.transpose(in_bin), vmin=0, vmax=100, cmap='viridis')\n",
    "ax.set(ylim=[-760,0], ylabel='z (m)', xlabel='Dive number')\n",
    "fig.colorbar(mappable=nos,ax=ax, label='number of shear estimates per bin', extend='max')\n",
    "savefig('vels_per_10m_bin')"
   ]
  },
  {
   "cell_type": "markdown",
   "metadata": {},
   "source": [
    "Plot the shear profiles"
   ]
  },
  {
   "cell_type": "code",
   "execution_count": null,
   "metadata": {
    "pycharm": {
     "name": "#%%\n"
    }
   },
   "outputs": [],
   "source": [
    "fig, ax = plt.subplots(3,1, figsize=(15,30), sharex=True)\n",
    "ax = ax.ravel()\n",
    "ax[0].pcolor(np.transpose(all_the_shear[201:250,:,0]), cmap='RdBu_r', vmin=-0.5, vmax=0.5)\n",
    "ax[1].pcolor(np.transpose(all_the_shear[201:250,:,1]), cmap='RdBu_r', vmin=-0.5, vmax=0.5)"
   ]
  },
  {
   "cell_type": "markdown",
   "metadata": {},
   "source": [
    "-------------------\n",
    "# Rough stuff"
   ]
  },
  {
   "cell_type": "code",
   "execution_count": null,
   "metadata": {},
   "outputs": [],
   "source": []
  },
  {
   "cell_type": "code",
   "execution_count": null,
   "metadata": {},
   "outputs": [],
   "source": []
  },
  {
   "cell_type": "code",
   "execution_count": null,
   "metadata": {},
   "outputs": [],
   "source": []
  }
 ],
 "metadata": {
  "kernelspec": {
   "display_name": "Python 3",
   "language": "python",
   "name": "python3"
  },
  "language_info": {
   "codemirror_mode": {
    "name": "ipython",
    "version": 3
   },
   "file_extension": ".py",
   "mimetype": "text/x-python",
   "name": "python",
   "nbconvert_exporter": "python",
   "pygments_lexer": "ipython3",
   "version": "3.7.3"
  },
  "pycharm": {
   "stem_cell": {
    "cell_type": "raw",
    "metadata": {
     "collapsed": false
    },
    "source": []
   }
  }
 },
 "nbformat": 4,
 "nbformat_minor": 2
}

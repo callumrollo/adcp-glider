{
 "cells": [
  {
   "cell_type": "markdown",
   "metadata": {},
   "source": [
    "First add the data functions to the path"
   ]
  },
  {
   "cell_type": "code",
   "execution_count": 2,
   "metadata": {},
   "outputs": [],
   "source": [
    "import sys\n",
    "import numpy as np\n",
    "import pandas as pd\n",
    "from netCDF4 import Dataset\n",
    "from pathlib import Path\n",
    "notebook_dir = !pwd # Replace with !echo %cd% if using windows\n",
    "library_dir = Path(notebook_dir[0]).parent.absolute()\n",
    "sys.path.append(str(library_dir))\n",
    "data_raw_path = library_dir / 'data' / 'raw'\n",
    "\n",
    "from src.data.adcp_mission_analysis import adcp_import_data"
   ]
  },
  {
   "cell_type": "markdown",
   "metadata": {},
   "source": [
    "Use better plotting defaults"
   ]
  },
  {
   "cell_type": "code",
   "execution_count": 3,
   "metadata": {},
   "outputs": [],
   "source": [
    "import matplotlib.pyplot as plt\n",
    "from matplotlib import style\n",
    "style_path = library_dir / 'src' / 'visualization' / 'presentation.mplstyle'\n",
    "style.use(str(style_path))"
   ]
  },
  {
   "cell_type": "markdown",
   "metadata": {},
   "source": [
    "Get an overview of the dataset"
   ]
  },
  {
   "cell_type": "code",
   "execution_count": 4,
   "metadata": {},
   "outputs": [],
   "source": [
    "overview = adcp_import_data(data_raw_path)"
   ]
  },
  {
   "cell_type": "code",
   "execution_count": 5,
   "metadata": {},
   "outputs": [
    {
     "data": {
      "text/html": [
       "<div>\n",
       "<style scoped>\n",
       "    .dataframe tbody tr th:only-of-type {\n",
       "        vertical-align: middle;\n",
       "    }\n",
       "\n",
       "    .dataframe tbody tr th {\n",
       "        vertical-align: top;\n",
       "    }\n",
       "\n",
       "    .dataframe thead th {\n",
       "        text-align: right;\n",
       "    }\n",
       "</style>\n",
       "<table border=\"1\" class=\"dataframe\">\n",
       "  <thead>\n",
       "    <tr style=\"text-align: right;\">\n",
       "      <th></th>\n",
       "      <th>file_path</th>\n",
       "      <th>dive_limb</th>\n",
       "      <th>descent</th>\n",
       "      <th>ascent</th>\n",
       "      <th>powerusage_mW</th>\n",
       "      <th>mem_usage_MB_per_hour</th>\n",
       "      <th>cell_size</th>\n",
       "      <th>measurement_interval</th>\n",
       "      <th>num_cells</th>\n",
       "      <th>num_pings</th>\n",
       "      <th>blank_dist</th>\n",
       "      <th>vert_direction</th>\n",
       "    </tr>\n",
       "  </thead>\n",
       "  <tbody>\n",
       "    <tr>\n",
       "      <th>0003a</th>\n",
       "      <td>/media/callum/storage/Documents/adcp-glider/da...</td>\n",
       "      <td>a</td>\n",
       "      <td>1.0</td>\n",
       "      <td>NaN</td>\n",
       "      <td>184.039993</td>\n",
       "      <td>0.061</td>\n",
       "      <td>2.0</td>\n",
       "      <td>15</td>\n",
       "      <td>15</td>\n",
       "      <td>4</td>\n",
       "      <td>0.3</td>\n",
       "      <td>Descent</td>\n",
       "    </tr>\n",
       "    <tr>\n",
       "      <th>0003b</th>\n",
       "      <td>/media/callum/storage/Documents/adcp-glider/da...</td>\n",
       "      <td>b</td>\n",
       "      <td>NaN</td>\n",
       "      <td>1.0</td>\n",
       "      <td>184.039993</td>\n",
       "      <td>0.061</td>\n",
       "      <td>2.0</td>\n",
       "      <td>15</td>\n",
       "      <td>15</td>\n",
       "      <td>4</td>\n",
       "      <td>0.3</td>\n",
       "      <td>Ascent</td>\n",
       "    </tr>\n",
       "    <tr>\n",
       "      <th>0004a</th>\n",
       "      <td>/media/callum/storage/Documents/adcp-glider/da...</td>\n",
       "      <td>a</td>\n",
       "      <td>1.0</td>\n",
       "      <td>NaN</td>\n",
       "      <td>184.039993</td>\n",
       "      <td>0.061</td>\n",
       "      <td>2.0</td>\n",
       "      <td>15</td>\n",
       "      <td>15</td>\n",
       "      <td>4</td>\n",
       "      <td>0.3</td>\n",
       "      <td>Descent</td>\n",
       "    </tr>\n",
       "    <tr>\n",
       "      <th>0004b</th>\n",
       "      <td>/media/callum/storage/Documents/adcp-glider/da...</td>\n",
       "      <td>b</td>\n",
       "      <td>NaN</td>\n",
       "      <td>1.0</td>\n",
       "      <td>184.039993</td>\n",
       "      <td>0.061</td>\n",
       "      <td>2.0</td>\n",
       "      <td>15</td>\n",
       "      <td>15</td>\n",
       "      <td>4</td>\n",
       "      <td>0.3</td>\n",
       "      <td>Ascent</td>\n",
       "    </tr>\n",
       "    <tr>\n",
       "      <th>0005a</th>\n",
       "      <td>/media/callum/storage/Documents/adcp-glider/da...</td>\n",
       "      <td>a</td>\n",
       "      <td>1.0</td>\n",
       "      <td>NaN</td>\n",
       "      <td>184.039993</td>\n",
       "      <td>0.061</td>\n",
       "      <td>2.0</td>\n",
       "      <td>15</td>\n",
       "      <td>15</td>\n",
       "      <td>4</td>\n",
       "      <td>0.3</td>\n",
       "      <td>Descent</td>\n",
       "    </tr>\n",
       "  </tbody>\n",
       "</table>\n",
       "</div>"
      ],
      "text/plain": [
       "                                               file_path dive_limb  descent  \\\n",
       "0003a  /media/callum/storage/Documents/adcp-glider/da...         a      1.0   \n",
       "0003b  /media/callum/storage/Documents/adcp-glider/da...         b      NaN   \n",
       "0004a  /media/callum/storage/Documents/adcp-glider/da...         a      1.0   \n",
       "0004b  /media/callum/storage/Documents/adcp-glider/da...         b      NaN   \n",
       "0005a  /media/callum/storage/Documents/adcp-glider/da...         a      1.0   \n",
       "\n",
       "       ascent  powerusage_mW  mem_usage_MB_per_hour  cell_size  \\\n",
       "0003a     NaN     184.039993                  0.061        2.0   \n",
       "0003b     1.0     184.039993                  0.061        2.0   \n",
       "0004a     NaN     184.039993                  0.061        2.0   \n",
       "0004b     1.0     184.039993                  0.061        2.0   \n",
       "0005a     NaN     184.039993                  0.061        2.0   \n",
       "\n",
       "       measurement_interval  num_cells  num_pings  blank_dist vert_direction  \n",
       "0003a                    15         15          4         0.3        Descent  \n",
       "0003b                    15         15          4         0.3         Ascent  \n",
       "0004a                    15         15          4         0.3        Descent  \n",
       "0004b                    15         15          4         0.3         Ascent  \n",
       "0005a                    15         15          4         0.3        Descent  "
      ]
     },
     "execution_count": 5,
     "metadata": {},
     "output_type": "execute_result"
    }
   ],
   "source": [
    "overview.head()"
   ]
  },
  {
   "cell_type": "code",
   "execution_count": null,
   "metadata": {},
   "outputs": [],
   "source": []
  }
 ],
 "metadata": {
  "kernelspec": {
   "display_name": "Python 3",
   "language": "python",
   "name": "python3"
  }
 },
 "nbformat": 4,
 "nbformat_minor": 2
}
